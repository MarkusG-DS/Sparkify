{
 "cells": [
  {
   "cell_type": "markdown",
   "metadata": {},
   "source": [
    "# Sparkify Project Workspace\n",
    "This workspace contains a tiny subset (128MB) of the full dataset available (12GB). Feel free to use this workspace to build your project, or to explore a smaller subset with Spark before deploying your cluster on the cloud. Instructions for setting up your Spark cluster is included in the last lesson of the Extracurricular Spark Course content.\n",
    "\n",
    "You can follow the steps below to guide your data analysis and model building portion of this project."
   ]
  },
  {
   "cell_type": "code",
   "execution_count": 1,
   "metadata": {},
   "outputs": [],
   "source": [
    "# import libraries\n",
    "\n",
    "import numpy as np\n",
    "import pandas as pd\n",
    "\n",
    "import datetime\n",
    "import time\n",
    "\n",
    "from pyspark.sql import SparkSession\n",
    "from pyspark.sql.functions import *\n",
    "from pyspark.sql.types import IntegerType\n",
    "from pyspark.sql import Window\n",
    "\n",
    "from pyspark.ml import Pipeline, PipelineModel\n",
    "from pyspark.ml.classification import RandomForestClassifier, GBTClassifier, NaiveBayes, LogisticRegression\n",
    "from pyspark.ml.evaluation import BinaryClassificationEvaluator, MulticlassClassificationEvaluator\n",
    "from pyspark.mllib.evaluation import BinaryClassificationMetrics, MulticlassMetrics\n",
    "from pyspark.ml.feature import StandardScaler, VectorAssembler, StringIndexer, MinMaxScaler, Normalizer\n",
    "from pyspark.ml.tuning import CrossValidator, ParamGridBuilder\n",
    "\n",
    "\n",
    "import matplotlib.pyplot as plt\n",
    "import seaborn as sns\n",
    "\n",
    "\n",
    "%matplotlib inline"
   ]
  },
  {
   "cell_type": "code",
   "execution_count": 2,
   "metadata": {},
   "outputs": [],
   "source": [
    "# create a Spark session\n",
    "\n",
    "spark = SparkSession.builder \\\n",
    "    .master('local[*]') \\\n",
    "    .appName('SparkFeatures') \\\n",
    "    .getOrCreate()\n"
   ]
  },
  {
   "cell_type": "markdown",
   "metadata": {},
   "source": [
    "# Load and Clean Dataset\n",
    "In this workspace, the mini-dataset file is `mini_sparkify_event_data.json`. Load and clean the dataset, checking for invalid or missing data - for example, records without userids or sessionids. "
   ]
  },
  {
   "cell_type": "markdown",
   "metadata": {},
   "source": [
    "#### Load Dataset"
   ]
  },
  {
   "cell_type": "code",
   "execution_count": 3,
   "metadata": {},
   "outputs": [],
   "source": [
    "# load dataset\n",
    "spark_df = spark.read.json('mini_sparkify_event_data.json')"
   ]
  },
  {
   "cell_type": "code",
   "execution_count": 4,
   "metadata": {},
   "outputs": [
    {
     "data": {
      "text/plain": [
       "Row(artist='Martha Tilston', auth='Logged In', firstName='Colin', gender='M', itemInSession=50, lastName='Freeman', length=277.89016, level='paid', location='Bakersfield, CA', method='PUT', page='NextSong', registration=1538173362000, sessionId=29, song='Rockpools', status=200, ts=1538352117000, userAgent='Mozilla/5.0 (Windows NT 6.1; WOW64; rv:31.0) Gecko/20100101 Firefox/31.0', userId='30')"
      ]
     },
     "execution_count": 4,
     "metadata": {},
     "output_type": "execute_result"
    }
   ],
   "source": [
    "spark_df.head()"
   ]
  },
  {
   "cell_type": "code",
   "execution_count": 5,
   "metadata": {},
   "outputs": [
    {
     "data": {
      "text/plain": [
       "DataFrame[summary: string, artist: string, auth: string, firstName: string, gender: string, itemInSession: string, lastName: string, length: string, level: string, location: string, method: string, page: string, registration: string, sessionId: string, song: string, status: string, ts: string, userAgent: string, userId: string]"
      ]
     },
     "execution_count": 5,
     "metadata": {},
     "output_type": "execute_result"
    }
   ],
   "source": [
    "spark_df.describe()"
   ]
  },
  {
   "cell_type": "code",
   "execution_count": 6,
   "metadata": {},
   "outputs": [
    {
     "name": "stdout",
     "output_type": "stream",
     "text": [
      "+--------------------+---------+---------+------+-------------+--------+---------+-----+--------------------+------+---------------+-------------+---------+--------------------+------+-------------+--------------------+------+\n",
      "|              artist|     auth|firstName|gender|itemInSession|lastName|   length|level|            location|method|           page| registration|sessionId|                song|status|           ts|           userAgent|userId|\n",
      "+--------------------+---------+---------+------+-------------+--------+---------+-----+--------------------+------+---------------+-------------+---------+--------------------+------+-------------+--------------------+------+\n",
      "|      Martha Tilston|Logged In|    Colin|     M|           50| Freeman|277.89016| paid|     Bakersfield, CA|   PUT|       NextSong|1538173362000|       29|           Rockpools|   200|1538352117000|Mozilla/5.0 (Wind...|    30|\n",
      "|    Five Iron Frenzy|Logged In|    Micah|     M|           79|    Long|236.09424| free|Boston-Cambridge-...|   PUT|       NextSong|1538331630000|        8|              Canada|   200|1538352180000|\"Mozilla/5.0 (Win...|     9|\n",
      "|        Adam Lambert|Logged In|    Colin|     M|           51| Freeman| 282.8273| paid|     Bakersfield, CA|   PUT|       NextSong|1538173362000|       29|   Time For Miracles|   200|1538352394000|Mozilla/5.0 (Wind...|    30|\n",
      "|              Enigma|Logged In|    Micah|     M|           80|    Long|262.71302| free|Boston-Cambridge-...|   PUT|       NextSong|1538331630000|        8|Knocking On Forbi...|   200|1538352416000|\"Mozilla/5.0 (Win...|     9|\n",
      "|           Daft Punk|Logged In|    Colin|     M|           52| Freeman|223.60771| paid|     Bakersfield, CA|   PUT|       NextSong|1538173362000|       29|Harder Better Fas...|   200|1538352676000|Mozilla/5.0 (Wind...|    30|\n",
      "|The All-American ...|Logged In|    Micah|     M|           81|    Long|208.29995| free|Boston-Cambridge-...|   PUT|       NextSong|1538331630000|        8|      Don't Leave Me|   200|1538352678000|\"Mozilla/5.0 (Win...|     9|\n",
      "|The Velvet Underg...|Logged In|    Micah|     M|           82|    Long|260.46649| free|Boston-Cambridge-...|   PUT|       NextSong|1538331630000|        8|         Run Run Run|   200|1538352886000|\"Mozilla/5.0 (Win...|     9|\n",
      "|        Starflyer 59|Logged In|    Colin|     M|           53| Freeman|185.44281| paid|     Bakersfield, CA|   PUT|       NextSong|1538173362000|       29|Passengers (Old A...|   200|1538352899000|Mozilla/5.0 (Wind...|    30|\n",
      "|                null|Logged In|    Colin|     M|           54| Freeman|     null| paid|     Bakersfield, CA|   PUT|Add to Playlist|1538173362000|       29|                null|   200|1538352905000|Mozilla/5.0 (Wind...|    30|\n",
      "|            Frumpies|Logged In|    Colin|     M|           55| Freeman|134.47791| paid|     Bakersfield, CA|   PUT|       NextSong|1538173362000|       29|          Fuck Kitty|   200|1538353084000|Mozilla/5.0 (Wind...|    30|\n",
      "|        Britt Nicole|Logged In|    Micah|     M|           83|    Long| 229.8771| free|Boston-Cambridge-...|   PUT|       NextSong|1538331630000|        8|   Walk On The Water|   200|1538353146000|\"Mozilla/5.0 (Win...|     9|\n",
      "|                null|Logged In|    Micah|     M|           84|    Long|     null| free|Boston-Cambridge-...|   GET|    Roll Advert|1538331630000|        8|                null|   200|1538353150000|\"Mozilla/5.0 (Win...|     9|\n",
      "|Edward Sharpe & T...|Logged In|    Colin|     M|           56| Freeman|223.58159| paid|     Bakersfield, CA|   PUT|       NextSong|1538173362000|       29|                Jade|   200|1538353218000|Mozilla/5.0 (Wind...|    30|\n",
      "|               Tesla|Logged In|    Micah|     M|           85|    Long|201.06404| free|Boston-Cambridge-...|   PUT|       NextSong|1538331630000|        8|      Gettin' Better|   200|1538353375000|\"Mozilla/5.0 (Win...|     9|\n",
      "|                null|Logged In|    Micah|     M|           86|    Long|     null| free|Boston-Cambridge-...|   PUT|      Thumbs Up|1538331630000|        8|                null|   307|1538353376000|\"Mozilla/5.0 (Win...|     9|\n",
      "|         Stan Mosley|Logged In|    Colin|     M|           57| Freeman|246.69995| paid|     Bakersfield, CA|   PUT|       NextSong|1538173362000|       29|   So-Called Friends|   200|1538353441000|Mozilla/5.0 (Wind...|    30|\n",
      "|Florence + The Ma...|Logged In|    Micah|     M|           87|    Long|168.64608| free|Boston-Cambridge-...|   PUT|       NextSong|1538331630000|        8| You've Got The Love|   200|1538353576000|\"Mozilla/5.0 (Win...|     9|\n",
      "|   Tokyo Police Club|Logged In|  Ashlynn|     F|            0|Williams| 166.1122| free|     Tallahassee, FL|   PUT|       NextSong|1537365219000|      217|Citizens Of Tomorrow|   200|1538353668000|\"Mozilla/5.0 (Mac...|    74|\n",
      "|             Orishas|Logged In|    Colin|     M|           58| Freeman|222.22322| paid|     Bakersfield, CA|   PUT|       NextSong|1538173362000|       29|           Represent|   200|1538353687000|Mozilla/5.0 (Wind...|    30|\n",
      "|             Ratatat|Logged In|    Micah|     M|           88|    Long|229.77261| free|Boston-Cambridge-...|   PUT|       NextSong|1538331630000|        8|              Swisha|   200|1538353744000|\"Mozilla/5.0 (Win...|     9|\n",
      "+--------------------+---------+---------+------+-------------+--------+---------+-----+--------------------+------+---------------+-------------+---------+--------------------+------+-------------+--------------------+------+\n",
      "only showing top 20 rows\n",
      "\n"
     ]
    }
   ],
   "source": [
    "spark_df.show()"
   ]
  },
  {
   "cell_type": "markdown",
   "metadata": {},
   "source": [
    "#### Check for missing values"
   ]
  },
  {
   "cell_type": "code",
   "execution_count": 4,
   "metadata": {},
   "outputs": [],
   "source": [
    "# missing values\n",
    "\n",
    "# source: https://stackoverflow.com/questions/44627386/how-to-find-count-of-null-and-nan-values-for-each-column-in-a-pyspark-dataframe\n",
    "\n",
    "def count_missing_values(spark_df, sort_df=True):\n",
    "    \"\"\"\n",
    "    Count number of null and nan values in each column of the DataFrame spark_df\n",
    "    \"\"\"\n",
    "    \n",
    "    df = spark_df.select([count(when(isnan(c) | isnull(c), c)).alias(c) for (c,c_type) in spark_df.dtypes]).toPandas()\n",
    "  #  df = spark_df.select([count(when(isnan(c) | isnull(c), c)).alias(c) for (c,c_type) in spark_df.dtypes if c_type not in ('timestamp', 'string', 'date')]).toPandas()\n",
    "    if len(df) == 0:\n",
    "        print(\"There are no any missing values!\")\n",
    "        return None\n",
    "\n",
    "    if sort_df:\n",
    "        return df.rename(index={0: 'count'}).T.sort_values(\"count\",ascending=False)\n",
    "\n",
    "    return df\n",
    "\n"
   ]
  },
  {
   "cell_type": "code",
   "execution_count": 5,
   "metadata": {},
   "outputs": [
    {
     "data": {
      "text/html": [
       "<div>\n",
       "<style scoped>\n",
       "    .dataframe tbody tr th:only-of-type {\n",
       "        vertical-align: middle;\n",
       "    }\n",
       "\n",
       "    .dataframe tbody tr th {\n",
       "        vertical-align: top;\n",
       "    }\n",
       "\n",
       "    .dataframe thead th {\n",
       "        text-align: right;\n",
       "    }\n",
       "</style>\n",
       "<table border=\"1\" class=\"dataframe\">\n",
       "  <thead>\n",
       "    <tr style=\"text-align: right;\">\n",
       "      <th></th>\n",
       "      <th>count</th>\n",
       "    </tr>\n",
       "  </thead>\n",
       "  <tbody>\n",
       "    <tr>\n",
       "      <th>artist</th>\n",
       "      <td>58392</td>\n",
       "    </tr>\n",
       "    <tr>\n",
       "      <th>length</th>\n",
       "      <td>58392</td>\n",
       "    </tr>\n",
       "    <tr>\n",
       "      <th>song</th>\n",
       "      <td>58392</td>\n",
       "    </tr>\n",
       "    <tr>\n",
       "      <th>firstName</th>\n",
       "      <td>8346</td>\n",
       "    </tr>\n",
       "    <tr>\n",
       "      <th>gender</th>\n",
       "      <td>8346</td>\n",
       "    </tr>\n",
       "    <tr>\n",
       "      <th>userAgent</th>\n",
       "      <td>8346</td>\n",
       "    </tr>\n",
       "    <tr>\n",
       "      <th>lastName</th>\n",
       "      <td>8346</td>\n",
       "    </tr>\n",
       "    <tr>\n",
       "      <th>location</th>\n",
       "      <td>8346</td>\n",
       "    </tr>\n",
       "    <tr>\n",
       "      <th>registration</th>\n",
       "      <td>8346</td>\n",
       "    </tr>\n",
       "    <tr>\n",
       "      <th>sessionId</th>\n",
       "      <td>0</td>\n",
       "    </tr>\n",
       "    <tr>\n",
       "      <th>ts</th>\n",
       "      <td>0</td>\n",
       "    </tr>\n",
       "    <tr>\n",
       "      <th>status</th>\n",
       "      <td>0</td>\n",
       "    </tr>\n",
       "    <tr>\n",
       "      <th>method</th>\n",
       "      <td>0</td>\n",
       "    </tr>\n",
       "    <tr>\n",
       "      <th>page</th>\n",
       "      <td>0</td>\n",
       "    </tr>\n",
       "    <tr>\n",
       "      <th>auth</th>\n",
       "      <td>0</td>\n",
       "    </tr>\n",
       "    <tr>\n",
       "      <th>level</th>\n",
       "      <td>0</td>\n",
       "    </tr>\n",
       "    <tr>\n",
       "      <th>itemInSession</th>\n",
       "      <td>0</td>\n",
       "    </tr>\n",
       "    <tr>\n",
       "      <th>userId</th>\n",
       "      <td>0</td>\n",
       "    </tr>\n",
       "  </tbody>\n",
       "</table>\n",
       "</div>"
      ],
      "text/plain": [
       "               count\n",
       "artist         58392\n",
       "length         58392\n",
       "song           58392\n",
       "firstName       8346\n",
       "gender          8346\n",
       "userAgent       8346\n",
       "lastName        8346\n",
       "location        8346\n",
       "registration    8346\n",
       "sessionId          0\n",
       "ts                 0\n",
       "status             0\n",
       "method             0\n",
       "page               0\n",
       "auth               0\n",
       "level              0\n",
       "itemInSession      0\n",
       "userId             0"
      ]
     },
     "execution_count": 5,
     "metadata": {},
     "output_type": "execute_result"
    }
   ],
   "source": [
    "count_missing_values(spark_df)"
   ]
  },
  {
   "cell_type": "code",
   "execution_count": 6,
   "metadata": {},
   "outputs": [
    {
     "data": {
      "text/html": [
       "<div>\n",
       "<style scoped>\n",
       "    .dataframe tbody tr th:only-of-type {\n",
       "        vertical-align: middle;\n",
       "    }\n",
       "\n",
       "    .dataframe tbody tr th {\n",
       "        vertical-align: top;\n",
       "    }\n",
       "\n",
       "    .dataframe thead th {\n",
       "        text-align: right;\n",
       "    }\n",
       "</style>\n",
       "<table border=\"1\" class=\"dataframe\">\n",
       "  <thead>\n",
       "    <tr style=\"text-align: right;\">\n",
       "      <th></th>\n",
       "      <th>artist</th>\n",
       "      <th>auth</th>\n",
       "      <th>firstName</th>\n",
       "      <th>gender</th>\n",
       "      <th>itemInSession</th>\n",
       "      <th>lastName</th>\n",
       "      <th>length</th>\n",
       "      <th>level</th>\n",
       "      <th>location</th>\n",
       "      <th>method</th>\n",
       "      <th>page</th>\n",
       "      <th>registration</th>\n",
       "      <th>sessionId</th>\n",
       "      <th>song</th>\n",
       "      <th>status</th>\n",
       "      <th>ts</th>\n",
       "      <th>userAgent</th>\n",
       "      <th>userId</th>\n",
       "    </tr>\n",
       "  </thead>\n",
       "  <tbody>\n",
       "    <tr>\n",
       "      <th>0</th>\n",
       "      <td>58392</td>\n",
       "      <td>0</td>\n",
       "      <td>8346</td>\n",
       "      <td>8346</td>\n",
       "      <td>0</td>\n",
       "      <td>8346</td>\n",
       "      <td>58392</td>\n",
       "      <td>0</td>\n",
       "      <td>8346</td>\n",
       "      <td>0</td>\n",
       "      <td>0</td>\n",
       "      <td>8346</td>\n",
       "      <td>0</td>\n",
       "      <td>58392</td>\n",
       "      <td>0</td>\n",
       "      <td>0</td>\n",
       "      <td>8346</td>\n",
       "      <td>0</td>\n",
       "    </tr>\n",
       "  </tbody>\n",
       "</table>\n",
       "</div>"
      ],
      "text/plain": [
       "   artist  auth  firstName  gender  itemInSession  lastName  length  level  \\\n",
       "0   58392     0       8346    8346              0      8346   58392      0   \n",
       "\n",
       "   location  method  page  registration  sessionId   song  status  ts  \\\n",
       "0      8346       0     0          8346          0  58392       0   0   \n",
       "\n",
       "   userAgent  userId  \n",
       "0       8346       0  "
      ]
     },
     "execution_count": 6,
     "metadata": {},
     "output_type": "execute_result"
    }
   ],
   "source": [
    "count_missing_values(spark_df, sort_df = False)"
   ]
  },
  {
   "cell_type": "code",
   "execution_count": 7,
   "metadata": {},
   "outputs": [],
   "source": [
    "# find missing user ids"
   ]
  },
  {
   "cell_type": "code",
   "execution_count": 8,
   "metadata": {},
   "outputs": [
    {
     "data": {
      "text/plain": [
       "0"
      ]
     },
     "execution_count": 8,
     "metadata": {},
     "output_type": "execute_result"
    }
   ],
   "source": [
    "spark_df.select('*').where(col('userId').isNull()).count()"
   ]
  },
  {
   "cell_type": "code",
   "execution_count": 9,
   "metadata": {},
   "outputs": [
    {
     "data": {
      "text/plain": [
       "8346"
      ]
     },
     "execution_count": 9,
     "metadata": {},
     "output_type": "execute_result"
    }
   ],
   "source": [
    "spark_df.select(\"userId\").where(col(\"userId\")=='').count()"
   ]
  },
  {
   "cell_type": "code",
   "execution_count": 10,
   "metadata": {},
   "outputs": [
    {
     "name": "stdout",
     "output_type": "stream",
     "text": [
      "+------+----------+---------+------+-------------+--------+------+-----+--------+------+-----+------------+---------+----+------+-------------+---------+------+\n",
      "|artist|      auth|firstName|gender|itemInSession|lastName|length|level|location|method| page|registration|sessionId|song|status|           ts|userAgent|userId|\n",
      "+------+----------+---------+------+-------------+--------+------+-----+--------+------+-----+------------+---------+----+------+-------------+---------+------+\n",
      "|  null|Logged Out|     null|  null|          100|    null|  null| free|    null|   GET| Home|        null|        8|null|   200|1538355745000|     null|      |\n",
      "|  null|Logged Out|     null|  null|          101|    null|  null| free|    null|   GET| Help|        null|        8|null|   200|1538355807000|     null|      |\n",
      "|  null|Logged Out|     null|  null|          102|    null|  null| free|    null|   GET| Home|        null|        8|null|   200|1538355841000|     null|      |\n",
      "|  null|Logged Out|     null|  null|          103|    null|  null| free|    null|   PUT|Login|        null|        8|null|   307|1538355842000|     null|      |\n",
      "|  null|Logged Out|     null|  null|            2|    null|  null| free|    null|   GET| Home|        null|      240|null|   200|1538356678000|     null|      |\n",
      "|  null|Logged Out|     null|  null|            3|    null|  null| free|    null|   PUT|Login|        null|      240|null|   307|1538356679000|     null|      |\n",
      "|  null|Logged Out|     null|  null|            0|    null|  null| free|    null|   PUT|Login|        null|      100|null|   307|1538358102000|     null|      |\n",
      "|  null|Logged Out|     null|  null|            0|    null|  null| free|    null|   PUT|Login|        null|      241|null|   307|1538360117000|     null|      |\n",
      "|  null|Logged Out|     null|  null|           14|    null|  null| free|    null|   GET| Home|        null|      187|null|   200|1538361527000|     null|      |\n",
      "|  null|Logged Out|     null|  null|           15|    null|  null| free|    null|   PUT|Login|        null|      187|null|   307|1538361528000|     null|      |\n",
      "|  null|Logged Out|     null|  null|           21|    null|  null| free|    null|   GET| Home|        null|      187|null|   200|1538362007000|     null|      |\n",
      "|  null|Logged Out|     null|  null|           22|    null|  null| free|    null|   GET| Home|        null|      187|null|   200|1538362095000|     null|      |\n",
      "|  null|Logged Out|     null|  null|           23|    null|  null| free|    null|   PUT|Login|        null|      187|null|   307|1538362096000|     null|      |\n",
      "|  null|Logged Out|     null|  null|            0|    null|  null| free|    null|   GET| Home|        null|       27|null|   200|1538363488000|     null|      |\n",
      "|  null|Logged Out|     null|  null|            1|    null|  null| free|    null|   GET|About|        null|       27|null|   200|1538363494000|     null|      |\n",
      "|  null|Logged Out|     null|  null|            2|    null|  null| free|    null|   GET| Home|        null|       27|null|   200|1538363503000|     null|      |\n",
      "|  null|Logged Out|     null|  null|           38|    null|  null| free|    null|   GET| Home|        null|      187|null|   200|1538364254000|     null|      |\n",
      "|  null|Logged Out|     null|  null|           39|    null|  null| free|    null|   PUT|Login|        null|      187|null|   307|1538364255000|     null|      |\n",
      "|  null|Logged Out|     null|  null|            0|    null|  null| free|    null|   GET| Home|        null|      257|null|   200|1538364750000|     null|      |\n",
      "|  null|Logged Out|     null|  null|           47|    null|  null| free|    null|   GET| Home|        null|      100|null|   200|1538370681000|     null|      |\n",
      "+------+----------+---------+------+-------------+--------+------+-----+--------+------+-----+------------+---------+----+------+-------------+---------+------+\n",
      "only showing top 20 rows\n",
      "\n"
     ]
    }
   ],
   "source": [
    "spark_df.where(spark_df.userId == '').show()"
   ]
  },
  {
   "cell_type": "code",
   "execution_count": 11,
   "metadata": {},
   "outputs": [
    {
     "data": {
      "text/plain": [
       "8249"
      ]
     },
     "execution_count": 11,
     "metadata": {},
     "output_type": "execute_result"
    }
   ],
   "source": [
    "spark_df.where(spark_df.userId == '').where(spark_df.auth == 'Logged Out').count()"
   ]
  },
  {
   "cell_type": "code",
   "execution_count": 12,
   "metadata": {},
   "outputs": [
    {
     "data": {
      "text/plain": [
       "[Row(auth='Logged Out', count=8249),\n",
       " Row(auth='Cancelled', count=52),\n",
       " Row(auth='Guest', count=97),\n",
       " Row(auth='Logged In', count=278102)]"
      ]
     },
     "execution_count": 12,
     "metadata": {},
     "output_type": "execute_result"
    }
   ],
   "source": [
    "spark_df.select('auth').groupby('auth').count().collect()"
   ]
  },
  {
   "cell_type": "code",
   "execution_count": 13,
   "metadata": {},
   "outputs": [
    {
     "data": {
      "text/plain": [
       "97"
      ]
     },
     "execution_count": 13,
     "metadata": {},
     "output_type": "execute_result"
    }
   ],
   "source": [
    "spark_df.where(spark_df.userId == '').where(spark_df.auth == 'Guest').count()"
   ]
  },
  {
   "cell_type": "markdown",
   "metadata": {},
   "source": [
    "Based on a first investigation of missing data, we can asume, that User Ids are only empty if users are 'logged out' or are 'guest'-users\n",
    "\n",
    "In the next step, we take a look at missing values in the session id\n"
   ]
  },
  {
   "cell_type": "code",
   "execution_count": 14,
   "metadata": {},
   "outputs": [],
   "source": [
    "# find missing session id"
   ]
  },
  {
   "cell_type": "code",
   "execution_count": 15,
   "metadata": {},
   "outputs": [
    {
     "data": {
      "text/plain": [
       "0"
      ]
     },
     "execution_count": 15,
     "metadata": {},
     "output_type": "execute_result"
    }
   ],
   "source": [
    "spark_df.select(\"sessionId\").where(col(\"sessionId\")=='').count()"
   ]
  },
  {
   "cell_type": "markdown",
   "metadata": {},
   "source": [
    "In the smaller subset of data there no empty session ids."
   ]
  },
  {
   "cell_type": "markdown",
   "metadata": {},
   "source": [
    "#### Data Cleaning"
   ]
  },
  {
   "cell_type": "code",
   "execution_count": 16,
   "metadata": {},
   "outputs": [],
   "source": [
    "#remove rows with empty User Ids\n",
    "spark_df = spark_df.where(spark_df.userId != '')"
   ]
  },
  {
   "cell_type": "code",
   "execution_count": 17,
   "metadata": {},
   "outputs": [
    {
     "name": "stdout",
     "output_type": "stream",
     "text": [
      "0\n"
     ]
    }
   ],
   "source": [
    "# check for duplicated data\n",
    "duplicates = spark_df.dropDuplicates()\n",
    "print(spark_df.count() - duplicates.count())"
   ]
  },
  {
   "cell_type": "markdown",
   "metadata": {},
   "source": [
    "No duplicates in this dataset"
   ]
  },
  {
   "cell_type": "code",
   "execution_count": 18,
   "metadata": {},
   "outputs": [
    {
     "data": {
      "text/plain": [
       "[Row(artist='Martha Tilston', auth='Logged In', firstName='Colin', gender='M', itemInSession=50, lastName='Freeman', length=277.89016, level='paid', location='Bakersfield, CA', method='PUT', page='NextSong', registration=1538173362000, sessionId=29, song='Rockpools', status=200, ts=1538352117000, userAgent='Mozilla/5.0 (Windows NT 6.1; WOW64; rv:31.0) Gecko/20100101 Firefox/31.0', userId='30')]"
      ]
     },
     "execution_count": 18,
     "metadata": {},
     "output_type": "execute_result"
    }
   ],
   "source": [
    "# convert timestamps\n",
    "\n",
    "#timestamp data in columns 'ts' and ' registration'\n",
    "\n",
    "spark_df.take(1)"
   ]
  },
  {
   "cell_type": "code",
   "execution_count": 19,
   "metadata": {},
   "outputs": [],
   "source": [
    "#datetime.datetime.fromtimestamp(1538352117000)"
   ]
  },
  {
   "cell_type": "code",
   "execution_count": 20,
   "metadata": {},
   "outputs": [
    {
     "data": {
      "text/plain": [
       "datetime.datetime(2018, 10, 1, 0, 1, 57)"
      ]
     },
     "execution_count": 20,
     "metadata": {},
     "output_type": "execute_result"
    }
   ],
   "source": [
    "datetime.datetime.fromtimestamp(1538352117000/1000)"
   ]
  },
  {
   "cell_type": "code",
   "execution_count": 21,
   "metadata": {},
   "outputs": [],
   "source": [
    "convert_timestamp = udf(lambda x: datetime.datetime.fromtimestamp(x / 1000.0).strftime(\"%Y-%m-%d %H:%M:%S\"))"
   ]
  },
  {
   "cell_type": "code",
   "execution_count": 22,
   "metadata": {},
   "outputs": [],
   "source": [
    "spark_df = spark_df.withColumn('timestamp', convert_timestamp(spark_df.ts))\n",
    "\n",
    "spark_df = spark_df.withColumn('registration_timestamp', convert_timestamp(spark_df.registration))"
   ]
  },
  {
   "cell_type": "code",
   "execution_count": 23,
   "metadata": {},
   "outputs": [
    {
     "data": {
      "text/plain": [
       "Row(artist='Martha Tilston', auth='Logged In', firstName='Colin', gender='M', itemInSession=50, lastName='Freeman', length=277.89016, level='paid', location='Bakersfield, CA', method='PUT', page='NextSong', registration=1538173362000, sessionId=29, song='Rockpools', status=200, ts=1538352117000, userAgent='Mozilla/5.0 (Windows NT 6.1; WOW64; rv:31.0) Gecko/20100101 Firefox/31.0', userId='30', timestamp='2018-10-01 00:01:57', registration_timestamp='2018-09-28 22:22:42')"
      ]
     },
     "execution_count": 23,
     "metadata": {},
     "output_type": "execute_result"
    }
   ],
   "source": [
    "spark_df.head()"
   ]
  },
  {
   "cell_type": "code",
   "execution_count": 3,
   "metadata": {},
   "outputs": [],
   "source": [
    "# summarize above steps for data cleaning in one funciton:\n",
    "\n",
    "def clean_dataset(df):\n",
    "    '''\n",
    "    Function for  for data cleaning\n",
    "    INPUT:\n",
    "    df - initial dataset\n",
    "    \n",
    "    OUTPUT:\n",
    "    df - clean dataset for further processing \n",
    "    '''\n",
    "        \n",
    "    #remove rows with empty User Ids\n",
    "    df = df.where(df.userId != '')\n",
    "    \n",
    "    #convert timestamps\n",
    "    convert_timestamp = udf(lambda x: datetime.datetime.fromtimestamp(x / 1000.0).strftime(\"%Y-%m-%d %H:%M:%S\"))\n",
    "    \n",
    "    df = df.withColumn('timestamp', convert_timestamp(df.ts))\n",
    "    df = df.withColumn('registration_timestamp', convert_timestamp(df.registration))\n",
    "    \n",
    "    return df\n",
    "    "
   ]
  },
  {
   "cell_type": "markdown",
   "metadata": {},
   "source": [
    "# Exploratory Data Analysis\n",
    "When you're working with the full dataset, perform EDA by loading a small subset of the data and doing basic manipulations within Spark. In this workspace, you are already provided a small subset of data you can explore.\n",
    "\n",
    "### Define Churn\n",
    "\n",
    "Once you've done some preliminary analysis, create a column `Churn` to use as the label for your model. I suggest using the `Cancellation Confirmation` events to define your churn, which happen for both paid and free users. As a bonus task, you can also look into the `Downgrade` events.\n",
    "\n",
    "### Explore Data\n",
    "Once you've defined churn, perform some exploratory data analysis to observe the behavior for users who stayed vs users who churned. You can start by exploring aggregates on these two groups of users, observing how much of a specific action they experienced per a certain time unit or number of songs played."
   ]
  },
  {
   "cell_type": "code",
   "execution_count": 25,
   "metadata": {},
   "outputs": [],
   "source": [
    "# Define Churn\n",
    "\n",
    "pages = spark_df.select('page').dropDuplicates()\n",
    "page_names = pages.toPandas()\n",
    "\n",
    "page_names = page_names['page'].tolist()"
   ]
  },
  {
   "cell_type": "code",
   "execution_count": 40,
   "metadata": {},
   "outputs": [
    {
     "name": "stdout",
     "output_type": "stream",
     "text": [
      "Cancel\n",
      "Submit Downgrade\n",
      "Thumbs Down\n",
      "Home\n",
      "Downgrade\n",
      "Roll Advert\n",
      "Logout\n",
      "Save Settings\n",
      "Cancellation Confirmation\n",
      "About\n",
      "Settings\n",
      "Add to Playlist\n",
      "Add Friend\n",
      "NextSong\n",
      "Thumbs Up\n",
      "Help\n",
      "Upgrade\n",
      "Error\n",
      "Submit Upgrade\n"
     ]
    }
   ],
   "source": [
    "for page in page_names:\n",
    "    print(page)"
   ]
  },
  {
   "cell_type": "code",
   "execution_count": 27,
   "metadata": {},
   "outputs": [
    {
     "name": "stdout",
     "output_type": "stream",
     "text": [
      "+--------------------+-----------+\n",
      "|                page|count(page)|\n",
      "+--------------------+-----------+\n",
      "|            NextSong|     228108|\n",
      "|           Thumbs Up|      12551|\n",
      "|                Home|      10082|\n",
      "|     Add to Playlist|       6526|\n",
      "|          Add Friend|       4277|\n",
      "|         Roll Advert|       3933|\n",
      "|              Logout|       3226|\n",
      "|         Thumbs Down|       2546|\n",
      "|           Downgrade|       2055|\n",
      "|            Settings|       1514|\n",
      "|                Help|       1454|\n",
      "|             Upgrade|        499|\n",
      "|               About|        495|\n",
      "|       Save Settings|        310|\n",
      "|               Error|        252|\n",
      "|      Submit Upgrade|        159|\n",
      "|    Submit Downgrade|         63|\n",
      "|              Cancel|         52|\n",
      "|Cancellation Conf...|         52|\n",
      "+--------------------+-----------+\n",
      "\n"
     ]
    }
   ],
   "source": [
    "spark_df.groupby(['page']).agg(count('page')).sort(desc('count(page)')).show()"
   ]
  },
  {
   "cell_type": "code",
   "execution_count": 28,
   "metadata": {},
   "outputs": [
    {
     "name": "stdout",
     "output_type": "stream",
     "text": [
      "+--------------------+-----------+\n",
      "|                page|count(page)|\n",
      "+--------------------+-----------+\n",
      "|              Cancel|         52|\n",
      "|Cancellation Conf...|         52|\n",
      "|    Submit Downgrade|         63|\n",
      "|      Submit Upgrade|        159|\n",
      "|               Error|        252|\n",
      "|       Save Settings|        310|\n",
      "|               About|        495|\n",
      "|             Upgrade|        499|\n",
      "|                Help|       1454|\n",
      "|            Settings|       1514|\n",
      "|           Downgrade|       2055|\n",
      "|         Thumbs Down|       2546|\n",
      "|              Logout|       3226|\n",
      "|         Roll Advert|       3933|\n",
      "|          Add Friend|       4277|\n",
      "|     Add to Playlist|       6526|\n",
      "|                Home|      10082|\n",
      "|           Thumbs Up|      12551|\n",
      "|            NextSong|     228108|\n",
      "+--------------------+-----------+\n",
      "\n"
     ]
    }
   ],
   "source": [
    "spark_df.groupby(['page']).agg(count('page')).sort(asc('count(page)')).show()"
   ]
  },
  {
   "cell_type": "code",
   "execution_count": 29,
   "metadata": {},
   "outputs": [],
   "source": [
    "#define churn as 'cancellation confirmation'\n",
    "\n",
    "churn = spark_df.filter(spark_df.page=='Cancellation Confirmation').select('userId').dropDuplicates()"
   ]
  },
  {
   "cell_type": "code",
   "execution_count": 30,
   "metadata": {},
   "outputs": [
    {
     "name": "stdout",
     "output_type": "stream",
     "text": [
      "+------+\n",
      "|userId|\n",
      "+------+\n",
      "|   125|\n",
      "|    51|\n",
      "|    54|\n",
      "|100014|\n",
      "|   101|\n",
      "|    29|\n",
      "|100021|\n",
      "|    87|\n",
      "|    73|\n",
      "|     3|\n",
      "|    28|\n",
      "|100022|\n",
      "|100025|\n",
      "|300007|\n",
      "|100006|\n",
      "|    18|\n",
      "|    70|\n",
      "|100005|\n",
      "|    17|\n",
      "|100007|\n",
      "+------+\n",
      "only showing top 20 rows\n",
      "\n"
     ]
    }
   ],
   "source": [
    "churn.show()"
   ]
  },
  {
   "cell_type": "code",
   "execution_count": 31,
   "metadata": {},
   "outputs": [],
   "source": [
    "churn_users = [(row['userId']) for row in churn.collect()]\n",
    "churn_df = spark_df.withColumn('churn', spark_df.userId.isin(churn_users))"
   ]
  },
  {
   "cell_type": "code",
   "execution_count": 32,
   "metadata": {
    "scrolled": true
   },
   "outputs": [
    {
     "name": "stdout",
     "output_type": "stream",
     "text": [
      "+--------------------+---------+---------+------+-------------+--------+---------+-----+--------------------+------+---------------+-------------+---------+--------------------+------+-------------+--------------------+------+-------------------+----------------------+-----+\n",
      "|              artist|     auth|firstName|gender|itemInSession|lastName|   length|level|            location|method|           page| registration|sessionId|                song|status|           ts|           userAgent|userId|          timestamp|registration_timestamp|churn|\n",
      "+--------------------+---------+---------+------+-------------+--------+---------+-----+--------------------+------+---------------+-------------+---------+--------------------+------+-------------+--------------------+------+-------------------+----------------------+-----+\n",
      "|      Martha Tilston|Logged In|    Colin|     M|           50| Freeman|277.89016| paid|     Bakersfield, CA|   PUT|       NextSong|1538173362000|       29|           Rockpools|   200|1538352117000|Mozilla/5.0 (Wind...|    30|2018-10-01 00:01:57|   2018-09-28 22:22:42|false|\n",
      "|    Five Iron Frenzy|Logged In|    Micah|     M|           79|    Long|236.09424| free|Boston-Cambridge-...|   PUT|       NextSong|1538331630000|        8|              Canada|   200|1538352180000|\"Mozilla/5.0 (Win...|     9|2018-10-01 00:03:00|   2018-09-30 18:20:30|false|\n",
      "|        Adam Lambert|Logged In|    Colin|     M|           51| Freeman| 282.8273| paid|     Bakersfield, CA|   PUT|       NextSong|1538173362000|       29|   Time For Miracles|   200|1538352394000|Mozilla/5.0 (Wind...|    30|2018-10-01 00:06:34|   2018-09-28 22:22:42|false|\n",
      "|              Enigma|Logged In|    Micah|     M|           80|    Long|262.71302| free|Boston-Cambridge-...|   PUT|       NextSong|1538331630000|        8|Knocking On Forbi...|   200|1538352416000|\"Mozilla/5.0 (Win...|     9|2018-10-01 00:06:56|   2018-09-30 18:20:30|false|\n",
      "|           Daft Punk|Logged In|    Colin|     M|           52| Freeman|223.60771| paid|     Bakersfield, CA|   PUT|       NextSong|1538173362000|       29|Harder Better Fas...|   200|1538352676000|Mozilla/5.0 (Wind...|    30|2018-10-01 00:11:16|   2018-09-28 22:22:42|false|\n",
      "|The All-American ...|Logged In|    Micah|     M|           81|    Long|208.29995| free|Boston-Cambridge-...|   PUT|       NextSong|1538331630000|        8|      Don't Leave Me|   200|1538352678000|\"Mozilla/5.0 (Win...|     9|2018-10-01 00:11:18|   2018-09-30 18:20:30|false|\n",
      "|The Velvet Underg...|Logged In|    Micah|     M|           82|    Long|260.46649| free|Boston-Cambridge-...|   PUT|       NextSong|1538331630000|        8|         Run Run Run|   200|1538352886000|\"Mozilla/5.0 (Win...|     9|2018-10-01 00:14:46|   2018-09-30 18:20:30|false|\n",
      "|        Starflyer 59|Logged In|    Colin|     M|           53| Freeman|185.44281| paid|     Bakersfield, CA|   PUT|       NextSong|1538173362000|       29|Passengers (Old A...|   200|1538352899000|Mozilla/5.0 (Wind...|    30|2018-10-01 00:14:59|   2018-09-28 22:22:42|false|\n",
      "|                null|Logged In|    Colin|     M|           54| Freeman|     null| paid|     Bakersfield, CA|   PUT|Add to Playlist|1538173362000|       29|                null|   200|1538352905000|Mozilla/5.0 (Wind...|    30|2018-10-01 00:15:05|   2018-09-28 22:22:42|false|\n",
      "|            Frumpies|Logged In|    Colin|     M|           55| Freeman|134.47791| paid|     Bakersfield, CA|   PUT|       NextSong|1538173362000|       29|          Fuck Kitty|   200|1538353084000|Mozilla/5.0 (Wind...|    30|2018-10-01 00:18:04|   2018-09-28 22:22:42|false|\n",
      "|        Britt Nicole|Logged In|    Micah|     M|           83|    Long| 229.8771| free|Boston-Cambridge-...|   PUT|       NextSong|1538331630000|        8|   Walk On The Water|   200|1538353146000|\"Mozilla/5.0 (Win...|     9|2018-10-01 00:19:06|   2018-09-30 18:20:30|false|\n",
      "|                null|Logged In|    Micah|     M|           84|    Long|     null| free|Boston-Cambridge-...|   GET|    Roll Advert|1538331630000|        8|                null|   200|1538353150000|\"Mozilla/5.0 (Win...|     9|2018-10-01 00:19:10|   2018-09-30 18:20:30|false|\n",
      "|Edward Sharpe & T...|Logged In|    Colin|     M|           56| Freeman|223.58159| paid|     Bakersfield, CA|   PUT|       NextSong|1538173362000|       29|                Jade|   200|1538353218000|Mozilla/5.0 (Wind...|    30|2018-10-01 00:20:18|   2018-09-28 22:22:42|false|\n",
      "|               Tesla|Logged In|    Micah|     M|           85|    Long|201.06404| free|Boston-Cambridge-...|   PUT|       NextSong|1538331630000|        8|      Gettin' Better|   200|1538353375000|\"Mozilla/5.0 (Win...|     9|2018-10-01 00:22:55|   2018-09-30 18:20:30|false|\n",
      "|                null|Logged In|    Micah|     M|           86|    Long|     null| free|Boston-Cambridge-...|   PUT|      Thumbs Up|1538331630000|        8|                null|   307|1538353376000|\"Mozilla/5.0 (Win...|     9|2018-10-01 00:22:56|   2018-09-30 18:20:30|false|\n",
      "|         Stan Mosley|Logged In|    Colin|     M|           57| Freeman|246.69995| paid|     Bakersfield, CA|   PUT|       NextSong|1538173362000|       29|   So-Called Friends|   200|1538353441000|Mozilla/5.0 (Wind...|    30|2018-10-01 00:24:01|   2018-09-28 22:22:42|false|\n",
      "|Florence + The Ma...|Logged In|    Micah|     M|           87|    Long|168.64608| free|Boston-Cambridge-...|   PUT|       NextSong|1538331630000|        8| You've Got The Love|   200|1538353576000|\"Mozilla/5.0 (Win...|     9|2018-10-01 00:26:16|   2018-09-30 18:20:30|false|\n",
      "|   Tokyo Police Club|Logged In|  Ashlynn|     F|            0|Williams| 166.1122| free|     Tallahassee, FL|   PUT|       NextSong|1537365219000|      217|Citizens Of Tomorrow|   200|1538353668000|\"Mozilla/5.0 (Mac...|    74|2018-10-01 00:27:48|   2018-09-19 13:53:39|false|\n",
      "|             Orishas|Logged In|    Colin|     M|           58| Freeman|222.22322| paid|     Bakersfield, CA|   PUT|       NextSong|1538173362000|       29|           Represent|   200|1538353687000|Mozilla/5.0 (Wind...|    30|2018-10-01 00:28:07|   2018-09-28 22:22:42|false|\n",
      "|             Ratatat|Logged In|    Micah|     M|           88|    Long|229.77261| free|Boston-Cambridge-...|   PUT|       NextSong|1538331630000|        8|              Swisha|   200|1538353744000|\"Mozilla/5.0 (Win...|     9|2018-10-01 00:29:04|   2018-09-30 18:20:30|false|\n",
      "+--------------------+---------+---------+------+-------------+--------+---------+-----+--------------------+------+---------------+-------------+---------+--------------------+------+-------------+--------------------+------+-------------------+----------------------+-----+\n",
      "only showing top 20 rows\n",
      "\n"
     ]
    }
   ],
   "source": [
    "churn_df.show()"
   ]
  },
  {
   "cell_type": "code",
   "execution_count": 33,
   "metadata": {},
   "outputs": [
    {
     "name": "stdout",
     "output_type": "stream",
     "text": [
      "+------+---------------+-------------------+-----+--------------------+---------+---------+-----+\n",
      "|userId|           page|          timestamp|level|                song|sessionId|   length|churn|\n",
      "+------+---------------+-------------------+-----+--------------------+---------+---------+-----+\n",
      "|    51|           Home|2018-10-01 12:57:12| paid|                null|      236|     null| true|\n",
      "|    51|       NextSong|2018-10-01 12:57:29| paid|         Window Seat|      236|289.69751| true|\n",
      "|    51|       NextSong|2018-10-01 13:02:18| paid|       Niets Dan Dit|      236|229.82485| true|\n",
      "|    51|       NextSong|2018-10-01 13:06:07| paid|               Horny|      236|184.29342| true|\n",
      "|    51|       NextSong|2018-10-01 13:09:11| paid|Me and Your Cigar...|      236|144.14322| true|\n",
      "|    51|       NextSong|2018-10-01 13:11:35| paid|                Undo|      236|348.57751| true|\n",
      "|    51|       NextSong|2018-10-01 13:17:23| paid|   Anywhere But Here|      236|243.04281| true|\n",
      "|    51|       NextSong|2018-10-01 13:21:26| paid|Harder Better Fas...|      236|223.60771| true|\n",
      "|    51|       NextSong|2018-10-01 13:25:09| paid|Bat Country (Albu...|      236|312.11057| true|\n",
      "|    51|       NextSong|2018-10-01 13:30:21| paid|              Veneno|      236|203.72853| true|\n",
      "|    51|       NextSong|2018-10-01 13:33:44| paid|               Layla|      236| 425.1424| true|\n",
      "|    51|Add to Playlist|2018-10-01 13:34:51| paid|                null|      236|     null| true|\n",
      "|    51|       NextSong|2018-10-01 13:40:49| paid|     Baby I'm A Fool|      236| 210.6771| true|\n",
      "|    51|       NextSong|2018-10-01 13:44:19| paid|G.N.O. (Girl's Ni...|      236|229.98159| true|\n",
      "|    51|    Thumbs Down|2018-10-01 13:44:20| paid|                null|      236|     null| true|\n",
      "|    51|       NextSong|2018-10-01 13:48:08| paid|       I Want Action|      236|185.75628| true|\n",
      "|    51|       NextSong|2018-10-01 13:51:13| paid|    'Till I Collapse|      236| 297.9522| true|\n",
      "|    51|       NextSong|2018-10-01 13:56:10| paid|        Tuesday Moon|      236|140.48608| true|\n",
      "|    51|       NextSong|2018-10-01 13:58:30| paid|                Hero|      236|  264.202| true|\n",
      "|    51|       NextSong|2018-10-01 14:02:54| paid|Mony Mony (Downto...|      236|298.65751| true|\n",
      "|    51|       NextSong|2018-10-01 14:07:52| paid|Back Against The ...|      236| 228.0224| true|\n",
      "|    51|      Thumbs Up|2018-10-01 14:07:53| paid|                null|      236|     null| true|\n",
      "|    51|       NextSong|2018-10-01 14:11:40| paid|Don't Worry 'Bout Me|      236|155.95057| true|\n",
      "|    51|       NextSong|2018-10-01 14:14:15| paid|      Your Protector|      236|249.67791| true|\n",
      "|    51|      Thumbs Up|2018-10-01 14:14:16| paid|                null|      236|     null| true|\n",
      "|    51|       NextSong|2018-10-01 14:18:24| paid|             Figures|      236|234.57914| true|\n",
      "|    51|       NextSong|2018-10-01 14:22:18| paid|Lonely Summer Nights|      236|199.13098| true|\n",
      "|    51|     Add Friend|2018-10-01 14:22:19| paid|                null|      236|     null| true|\n",
      "|    51|       NextSong|2018-10-01 14:25:37| paid|             Feel Me|      236|177.71057| true|\n",
      "|    51|       NextSong|2018-10-01 14:28:34| paid|En La Ciudad De L...|      236|346.04363| true|\n",
      "|    51|      Downgrade|2018-10-01 14:30:04| paid|                null|      236|     null| true|\n",
      "|    51|         Logout|2018-10-01 14:30:05| paid|                null|      236|     null| true|\n",
      "|    51|           Home|2018-10-01 14:35:06| paid|                null|      236|     null| true|\n",
      "|    51|       NextSong|2018-10-01 14:39:52| paid|      In The Shadows|      236|276.92363| true|\n",
      "|    51|       NextSong|2018-10-01 14:44:28| paid|          Black Gold|      236|287.84281| true|\n",
      "|    51|       NextSong|2018-10-01 14:49:15| paid| Rhythm Of The Night|      236|210.36363| true|\n",
      "|    51|       NextSong|2018-10-01 14:52:45| paid|             Revelry|      236|201.79546| true|\n",
      "|    51|       NextSong|2018-10-01 14:56:06| paid|  Opposite Of Adults|      236|191.89506| true|\n",
      "|    51|       NextSong|2018-10-01 14:59:17| paid|          Vulnerable|      236|201.89995| true|\n",
      "|    51|           Help|2018-10-01 15:01:42| paid|                null|      236|     null| true|\n",
      "|    51|       NextSong|2018-10-01 15:02:38| paid|                Raid|      236|150.49098| true|\n",
      "|    51|       NextSong|2018-10-01 15:05:08| paid|Eagle_ Salmon_ Swirl|      236|272.61342| true|\n",
      "|    51|       Settings|2018-10-01 15:09:10| paid|                null|      236|     null| true|\n",
      "|    51|           Help|2018-10-01 15:11:28| paid|                null|      236|     null| true|\n",
      "|    51|       NextSong|2018-10-01 15:12:44| paid|Sala De RecepÃÂ§...|      236|208.92689| true|\n",
      "|    51|       NextSong|2018-10-01 15:16:12| paid| Bowels Of The Beast|      236|195.39546| true|\n",
      "|    51|       NextSong|2018-10-01 15:19:27| paid|I?'m A Steady Rol...|      236|154.09587| true|\n",
      "|    51|      Downgrade|2018-10-01 15:19:48| paid|                null|      236|     null| true|\n",
      "|    51|       NextSong|2018-10-01 15:22:01| paid|            In Space|      236|210.99057| true|\n",
      "|    51|       NextSong|2018-10-01 15:25:31| paid|InvenciÃÂ³n A Po...|      236|225.12281| true|\n",
      "+------+---------------+-------------------+-----+--------------------+---------+---------+-----+\n",
      "only showing top 50 rows\n",
      "\n"
     ]
    }
   ],
   "source": [
    "churn_df.select(['userId', 'page', 'timestamp', 'level', 'song', 'sessionId', 'length', 'churn']).where(churn_df.userId == '51').sort('timestamp').show(50)"
   ]
  },
  {
   "cell_type": "code",
   "execution_count": 34,
   "metadata": {},
   "outputs": [
    {
     "name": "stdout",
     "output_type": "stream",
     "text": [
      "+-------------------+------+------+-----+---------+---------------+--------------------+--------------------+---------+\n",
      "|          timestamp|userId|gender|level|sessionId|           page|                song|              artist|   length|\n",
      "+-------------------+------+------+-----+---------+---------------+--------------------+--------------------+---------+\n",
      "|2018-10-01 12:57:12|    51|     M| paid|      236|           Home|                null|                null|     null|\n",
      "|2018-10-01 12:57:29|    51|     M| paid|      236|       NextSong|         Window Seat|         Erykah Badu|289.69751|\n",
      "|2018-10-01 13:02:18|    51|     M| paid|      236|       NextSong|       Niets Dan Dit|             BlÃÂ¸f|229.82485|\n",
      "|2018-10-01 13:06:07|    51|     M| paid|      236|       NextSong|               Horny|Mousse T. Vs Hot ...|184.29342|\n",
      "|2018-10-01 13:09:11|    51|     M| paid|      236|       NextSong|Me and Your Cigar...|     Miranda Lambert|144.14322|\n",
      "|2018-10-01 13:11:35|    51|     M| paid|      236|       NextSong|                Undo|            BjÃÂ¶rk|348.57751|\n",
      "|2018-10-01 13:17:23|    51|     M| paid|      236|       NextSong|   Anywhere But Here|         Chris Cagle|243.04281|\n",
      "|2018-10-01 13:21:26|    51|     M| paid|      236|       NextSong|Harder Better Fas...|           Daft Punk|223.60771|\n",
      "|2018-10-01 13:25:09|    51|     M| paid|      236|       NextSong|Bat Country (Albu...|   Avenged Sevenfold|312.11057|\n",
      "|2018-10-01 13:30:21|    51|     M| paid|      236|       NextSong|              Veneno|       Jorge Drexler|203.72853|\n",
      "|2018-10-01 13:33:44|    51|     M| paid|      236|       NextSong|               Layla|Derek & The Domin...| 425.1424|\n",
      "|2018-10-01 13:34:51|    51|     M| paid|      236|Add to Playlist|                null|                null|     null|\n",
      "|2018-10-01 13:40:49|    51|     M| paid|      236|       NextSong|     Baby I'm A Fool|       Melody Gardot| 210.6771|\n",
      "|2018-10-01 13:44:19|    51|     M| paid|      236|       NextSong|G.N.O. (Girl's Ni...|         Miley Cyrus|229.98159|\n",
      "|2018-10-01 13:44:20|    51|     M| paid|      236|    Thumbs Down|                null|                null|     null|\n",
      "|2018-10-01 13:48:08|    51|     M| paid|      236|       NextSong|       I Want Action|              Poison|185.75628|\n",
      "|2018-10-01 13:51:13|    51|     M| paid|      236|       NextSong|    'Till I Collapse|  Eminem / Nate Dogg| 297.9522|\n",
      "|2018-10-01 13:56:10|    51|     M| paid|      236|       NextSong|        Tuesday Moon|  Neutral Milk Hotel|140.48608|\n",
      "|2018-10-01 13:58:30|    51|     M| paid|      236|       NextSong|                Hero|    Enrique Iglesias|  264.202|\n",
      "|2018-10-01 14:02:54|    51|     M| paid|      236|       NextSong|Mony Mony (Downto...|          Billy Idol|298.65751|\n",
      "|2018-10-01 14:07:52|    51|     M| paid|      236|       NextSong|Back Against The ...|   Cage The Elephant| 228.0224|\n",
      "|2018-10-01 14:07:53|    51|     M| paid|      236|      Thumbs Up|                null|                null|     null|\n",
      "|2018-10-01 14:11:40|    51|     M| paid|      236|       NextSong|Don't Worry 'Bout Me|        Julie London|155.95057|\n",
      "|2018-10-01 14:14:15|    51|     M| paid|      236|       NextSong|      Your Protector|         Fleet Foxes|249.67791|\n",
      "|2018-10-01 14:14:16|    51|     M| paid|      236|      Thumbs Up|                null|                null|     null|\n",
      "|2018-10-01 14:18:24|    51|     M| paid|      236|       NextSong|             Figures|The Whitest Boy A...|234.57914|\n",
      "|2018-10-01 14:22:18|    51|     M| paid|      236|       NextSong|Lonely Summer Nights|          Stray Cats|199.13098|\n",
      "|2018-10-01 14:22:19|    51|     M| paid|      236|     Add Friend|                null|                null|     null|\n",
      "|2018-10-01 14:25:37|    51|     M| paid|      236|       NextSong|             Feel Me|          Imelda May|177.71057|\n",
      "|2018-10-01 14:28:34|    51|     M| paid|      236|       NextSong|En La Ciudad De L...|         Soda Stereo|346.04363|\n",
      "|2018-10-01 14:30:04|    51|     M| paid|      236|      Downgrade|                null|                null|     null|\n",
      "|2018-10-01 14:30:05|    51|     M| paid|      236|         Logout|                null|                null|     null|\n",
      "|2018-10-01 14:35:06|    51|     M| paid|      236|           Home|                null|                null|     null|\n",
      "|2018-10-01 14:39:52|    51|     M| paid|      236|       NextSong|      In The Shadows|      The Stranglers|276.92363|\n",
      "|2018-10-01 14:44:28|    51|     M| paid|      236|       NextSong|          Black Gold|                 Y&T|287.84281|\n",
      "|2018-10-01 14:49:15|    51|     M| paid|      236|       NextSong| Rhythm Of The Night|              Corona|210.36363|\n",
      "|2018-10-01 14:52:45|    51|     M| paid|      236|       NextSong|             Revelry|       Kings Of Leon|201.79546|\n",
      "|2018-10-01 14:56:06|    51|     M| paid|      236|       NextSong|  Opposite Of Adults|         Chiddy Bang|191.89506|\n",
      "|2018-10-01 14:59:17|    51|     M| paid|      236|       NextSong|          Vulnerable| Secondhand Serenade|201.89995|\n",
      "|2018-10-01 15:01:42|    51|     M| paid|      236|           Help|                null|                null|     null|\n",
      "|2018-10-01 15:02:38|    51|     M| paid|      236|       NextSong|                Raid|Madvillain_ MED a...|150.49098|\n",
      "|2018-10-01 15:05:08|    51|     M| paid|      236|       NextSong|Eagle_ Salmon_ Swirl|        Dean Evenson|272.61342|\n",
      "|2018-10-01 15:09:10|    51|     M| paid|      236|       Settings|                null|                null|     null|\n",
      "|2018-10-01 15:11:28|    51|     M| paid|      236|           Help|                null|                null|     null|\n",
      "|2018-10-01 15:12:44|    51|     M| paid|      236|       NextSong|Sala De RecepÃÂ§...|             Cartola|208.92689|\n",
      "|2018-10-01 15:16:12|    51|     M| paid|      236|       NextSong| Bowels Of The Beast|     The Raveonettes|195.39546|\n",
      "|2018-10-01 15:19:27|    51|     M| paid|      236|       NextSong|I?'m A Steady Rol...|      Robert Johnson|154.09587|\n",
      "|2018-10-01 15:19:48|    51|     M| paid|      236|      Downgrade|                null|                null|     null|\n",
      "|2018-10-01 15:22:01|    51|     M| paid|      236|       NextSong|            In Space|         RÃÂ¶yksopp|210.99057|\n",
      "|2018-10-01 15:25:31|    51|     M| paid|      236|       NextSong|InvenciÃÂ³n A Po...|    Fernando Samalea|225.12281|\n",
      "+-------------------+------+------+-----+---------+---------------+--------------------+--------------------+---------+\n",
      "only showing top 50 rows\n",
      "\n"
     ]
    }
   ],
   "source": [
    "churn_df.select(['timestamp', 'userId', 'gender', 'level', 'sessionId', 'page', 'song', 'artist', 'length']).where(churn_df.userId == '51').sort('timestamp').show(50)"
   ]
  },
  {
   "cell_type": "markdown",
   "metadata": {},
   "source": [
    "#### Explore Data\n",
    "\n",
    "behavior for users who stayed vs users who churned\n",
    "exploring aggregates on these two groups of users\n",
    "observing how much of a specific action they experienced per a certain time unit\n",
    "number of songs played.\n",
    "\n",
    "- gender\n",
    "- paid vs free\n",
    "- session duration\n",
    "- number of songs per session\n",
    "- thumbs down\n",
    "- next song\n",
    "- settings"
   ]
  },
  {
   "cell_type": "code",
   "execution_count": 35,
   "metadata": {},
   "outputs": [],
   "source": [
    "# transform spark DataFrame to Pandas DataFrame for visualization\n",
    "\n",
    "df_churn = churn_df.toPandas()\n",
    "\n",
    "df_churn_t = churn_df.where(churn_df.churn == True)\n",
    "df_churn_f = churn_df.where(churn_df.churn == False)\n",
    "\n",
    "df_t = df_churn_t.toPandas()\n",
    "df_f = df_churn_f.toPandas()\n"
   ]
  },
  {
   "cell_type": "code",
   "execution_count": 36,
   "metadata": {},
   "outputs": [
    {
     "name": "stdout",
     "output_type": "stream",
     "text": [
      "Number of churned users:52\n",
      "Number of non churned users:173\n"
     ]
    }
   ],
   "source": [
    "churn_true = df_churn_t.groupBy('userId').count().count()\n",
    "churn_false = df_churn_f.groupBy('userId').count().count()\n",
    "\n",
    "print('Number of churned users:{}'.format(churn_true))\n",
    "print('Number of non churned users:{}'.format(churn_false))"
   ]
  },
  {
   "cell_type": "code",
   "execution_count": 40,
   "metadata": {},
   "outputs": [
    {
     "data": {
      "text/html": [
       "<div>\n",
       "<style scoped>\n",
       "    .dataframe tbody tr th:only-of-type {\n",
       "        vertical-align: middle;\n",
       "    }\n",
       "\n",
       "    .dataframe tbody tr th {\n",
       "        vertical-align: top;\n",
       "    }\n",
       "\n",
       "    .dataframe thead th {\n",
       "        text-align: right;\n",
       "    }\n",
       "</style>\n",
       "<table border=\"1\" class=\"dataframe\">\n",
       "  <thead>\n",
       "    <tr style=\"text-align: right;\">\n",
       "      <th></th>\n",
       "      <th>artist</th>\n",
       "      <th>auth</th>\n",
       "      <th>firstName</th>\n",
       "      <th>gender</th>\n",
       "      <th>itemInSession</th>\n",
       "      <th>lastName</th>\n",
       "      <th>length</th>\n",
       "      <th>level</th>\n",
       "      <th>location</th>\n",
       "      <th>method</th>\n",
       "      <th>...</th>\n",
       "      <th>registration</th>\n",
       "      <th>sessionId</th>\n",
       "      <th>song</th>\n",
       "      <th>status</th>\n",
       "      <th>ts</th>\n",
       "      <th>userAgent</th>\n",
       "      <th>userId</th>\n",
       "      <th>timestamp</th>\n",
       "      <th>registration_timestamp</th>\n",
       "      <th>churn</th>\n",
       "    </tr>\n",
       "  </thead>\n",
       "  <tbody>\n",
       "    <tr>\n",
       "      <th>0</th>\n",
       "      <td>Martha Tilston</td>\n",
       "      <td>Logged In</td>\n",
       "      <td>Colin</td>\n",
       "      <td>M</td>\n",
       "      <td>50</td>\n",
       "      <td>Freeman</td>\n",
       "      <td>277.89016</td>\n",
       "      <td>paid</td>\n",
       "      <td>Bakersfield, CA</td>\n",
       "      <td>PUT</td>\n",
       "      <td>...</td>\n",
       "      <td>1538173362000</td>\n",
       "      <td>29</td>\n",
       "      <td>Rockpools</td>\n",
       "      <td>200</td>\n",
       "      <td>1538352117000</td>\n",
       "      <td>Mozilla/5.0 (Windows NT 6.1; WOW64; rv:31.0) G...</td>\n",
       "      <td>30</td>\n",
       "      <td>2018-10-01 00:01:57</td>\n",
       "      <td>2018-09-28 22:22:42</td>\n",
       "      <td>False</td>\n",
       "    </tr>\n",
       "    <tr>\n",
       "      <th>1</th>\n",
       "      <td>Five Iron Frenzy</td>\n",
       "      <td>Logged In</td>\n",
       "      <td>Micah</td>\n",
       "      <td>M</td>\n",
       "      <td>79</td>\n",
       "      <td>Long</td>\n",
       "      <td>236.09424</td>\n",
       "      <td>free</td>\n",
       "      <td>Boston-Cambridge-Newton, MA-NH</td>\n",
       "      <td>PUT</td>\n",
       "      <td>...</td>\n",
       "      <td>1538331630000</td>\n",
       "      <td>8</td>\n",
       "      <td>Canada</td>\n",
       "      <td>200</td>\n",
       "      <td>1538352180000</td>\n",
       "      <td>\"Mozilla/5.0 (Windows NT 6.1; WOW64) AppleWebK...</td>\n",
       "      <td>9</td>\n",
       "      <td>2018-10-01 00:03:00</td>\n",
       "      <td>2018-09-30 18:20:30</td>\n",
       "      <td>False</td>\n",
       "    </tr>\n",
       "    <tr>\n",
       "      <th>2</th>\n",
       "      <td>Adam Lambert</td>\n",
       "      <td>Logged In</td>\n",
       "      <td>Colin</td>\n",
       "      <td>M</td>\n",
       "      <td>51</td>\n",
       "      <td>Freeman</td>\n",
       "      <td>282.82730</td>\n",
       "      <td>paid</td>\n",
       "      <td>Bakersfield, CA</td>\n",
       "      <td>PUT</td>\n",
       "      <td>...</td>\n",
       "      <td>1538173362000</td>\n",
       "      <td>29</td>\n",
       "      <td>Time For Miracles</td>\n",
       "      <td>200</td>\n",
       "      <td>1538352394000</td>\n",
       "      <td>Mozilla/5.0 (Windows NT 6.1; WOW64; rv:31.0) G...</td>\n",
       "      <td>30</td>\n",
       "      <td>2018-10-01 00:06:34</td>\n",
       "      <td>2018-09-28 22:22:42</td>\n",
       "      <td>False</td>\n",
       "    </tr>\n",
       "    <tr>\n",
       "      <th>3</th>\n",
       "      <td>Enigma</td>\n",
       "      <td>Logged In</td>\n",
       "      <td>Micah</td>\n",
       "      <td>M</td>\n",
       "      <td>80</td>\n",
       "      <td>Long</td>\n",
       "      <td>262.71302</td>\n",
       "      <td>free</td>\n",
       "      <td>Boston-Cambridge-Newton, MA-NH</td>\n",
       "      <td>PUT</td>\n",
       "      <td>...</td>\n",
       "      <td>1538331630000</td>\n",
       "      <td>8</td>\n",
       "      <td>Knocking On Forbidden Doors</td>\n",
       "      <td>200</td>\n",
       "      <td>1538352416000</td>\n",
       "      <td>\"Mozilla/5.0 (Windows NT 6.1; WOW64) AppleWebK...</td>\n",
       "      <td>9</td>\n",
       "      <td>2018-10-01 00:06:56</td>\n",
       "      <td>2018-09-30 18:20:30</td>\n",
       "      <td>False</td>\n",
       "    </tr>\n",
       "    <tr>\n",
       "      <th>4</th>\n",
       "      <td>Daft Punk</td>\n",
       "      <td>Logged In</td>\n",
       "      <td>Colin</td>\n",
       "      <td>M</td>\n",
       "      <td>52</td>\n",
       "      <td>Freeman</td>\n",
       "      <td>223.60771</td>\n",
       "      <td>paid</td>\n",
       "      <td>Bakersfield, CA</td>\n",
       "      <td>PUT</td>\n",
       "      <td>...</td>\n",
       "      <td>1538173362000</td>\n",
       "      <td>29</td>\n",
       "      <td>Harder Better Faster Stronger</td>\n",
       "      <td>200</td>\n",
       "      <td>1538352676000</td>\n",
       "      <td>Mozilla/5.0 (Windows NT 6.1; WOW64; rv:31.0) G...</td>\n",
       "      <td>30</td>\n",
       "      <td>2018-10-01 00:11:16</td>\n",
       "      <td>2018-09-28 22:22:42</td>\n",
       "      <td>False</td>\n",
       "    </tr>\n",
       "  </tbody>\n",
       "</table>\n",
       "<p>5 rows × 21 columns</p>\n",
       "</div>"
      ],
      "text/plain": [
       "             artist       auth firstName gender  itemInSession lastName  \\\n",
       "0    Martha Tilston  Logged In     Colin      M             50  Freeman   \n",
       "1  Five Iron Frenzy  Logged In     Micah      M             79     Long   \n",
       "2      Adam Lambert  Logged In     Colin      M             51  Freeman   \n",
       "3            Enigma  Logged In     Micah      M             80     Long   \n",
       "4         Daft Punk  Logged In     Colin      M             52  Freeman   \n",
       "\n",
       "      length level                        location method  ...    \\\n",
       "0  277.89016  paid                 Bakersfield, CA    PUT  ...     \n",
       "1  236.09424  free  Boston-Cambridge-Newton, MA-NH    PUT  ...     \n",
       "2  282.82730  paid                 Bakersfield, CA    PUT  ...     \n",
       "3  262.71302  free  Boston-Cambridge-Newton, MA-NH    PUT  ...     \n",
       "4  223.60771  paid                 Bakersfield, CA    PUT  ...     \n",
       "\n",
       "    registration  sessionId                           song status  \\\n",
       "0  1538173362000         29                      Rockpools    200   \n",
       "1  1538331630000          8                         Canada    200   \n",
       "2  1538173362000         29              Time For Miracles    200   \n",
       "3  1538331630000          8    Knocking On Forbidden Doors    200   \n",
       "4  1538173362000         29  Harder Better Faster Stronger    200   \n",
       "\n",
       "              ts                                          userAgent userId  \\\n",
       "0  1538352117000  Mozilla/5.0 (Windows NT 6.1; WOW64; rv:31.0) G...     30   \n",
       "1  1538352180000  \"Mozilla/5.0 (Windows NT 6.1; WOW64) AppleWebK...      9   \n",
       "2  1538352394000  Mozilla/5.0 (Windows NT 6.1; WOW64; rv:31.0) G...     30   \n",
       "3  1538352416000  \"Mozilla/5.0 (Windows NT 6.1; WOW64) AppleWebK...      9   \n",
       "4  1538352676000  Mozilla/5.0 (Windows NT 6.1; WOW64; rv:31.0) G...     30   \n",
       "\n",
       "             timestamp registration_timestamp  churn  \n",
       "0  2018-10-01 00:01:57    2018-09-28 22:22:42  False  \n",
       "1  2018-10-01 00:03:00    2018-09-30 18:20:30  False  \n",
       "2  2018-10-01 00:06:34    2018-09-28 22:22:42  False  \n",
       "3  2018-10-01 00:06:56    2018-09-30 18:20:30  False  \n",
       "4  2018-10-01 00:11:16    2018-09-28 22:22:42  False  \n",
       "\n",
       "[5 rows x 21 columns]"
      ]
     },
     "execution_count": 40,
     "metadata": {},
     "output_type": "execute_result"
    }
   ],
   "source": [
    "df_churn.head()"
   ]
  },
  {
   "cell_type": "code",
   "execution_count": 41,
   "metadata": {},
   "outputs": [],
   "source": [
    "df_churn_gender = churn_df.dropDuplicates(['userId', 'gender']).groupby(['churn', 'gender']).count().sort('churn').toPandas()"
   ]
  },
  {
   "cell_type": "code",
   "execution_count": 42,
   "metadata": {},
   "outputs": [
    {
     "data": {
      "text/plain": [
       "<matplotlib.axes._subplots.AxesSubplot at 0x7f03a1b6c2e8>"
      ]
     },
     "execution_count": 42,
     "metadata": {},
     "output_type": "execute_result"
    },
    {
     "data": {
      "image/png": "[encoded data removed]",
      "text/plain": [
       "<matplotlib.figure.Figure at 0x7f03a2640320>"
      ]
     },
     "metadata": {
      "needs_background": "light"
     },
     "output_type": "display_data"
    }
   ],
   "source": [
    "sns.barplot(x='churn', y='count', hue='gender', data=df_churn_gender)"
   ]
  },
  {
   "cell_type": "code",
   "execution_count": 43,
   "metadata": {},
   "outputs": [],
   "source": [
    "df_churn_level = churn_df.dropDuplicates(['userId', 'level']).groupby(['churn', 'level']).count().sort('churn').toPandas()"
   ]
  },
  {
   "cell_type": "code",
   "execution_count": 44,
   "metadata": {},
   "outputs": [
    {
     "data": {
      "text/plain": [
       "<matplotlib.axes._subplots.AxesSubplot at 0x7f0396698ac8>"
      ]
     },
     "execution_count": 44,
     "metadata": {},
     "output_type": "execute_result"
    },
    {
     "data": {
      "image/png": "[encoded data removed]",
      "text/plain": [
       "<matplotlib.figure.Figure at 0x7f03a1ab0cf8>"
      ]
     },
     "metadata": {
      "needs_background": "light"
     },
     "output_type": "display_data"
    }
   ],
   "source": [
    "sns.barplot(x='churn', y='count', hue='level', data=df_churn_level)"
   ]
  },
  {
   "cell_type": "code",
   "execution_count": 45,
   "metadata": {},
   "outputs": [
    {
     "data": {
      "image/png": "[encoded data removed]",
      "text/plain": [
       "<matplotlib.figure.Figure at 0x7f03932e7a20>"
      ]
     },
     "metadata": {
      "needs_background": "light"
     },
     "output_type": "display_data"
    }
   ],
   "source": [
    "plt.hist([df_t.itemInSession, df_f.itemInSession], color=['blue','red']);\n"
   ]
  },
  {
   "cell_type": "code",
   "execution_count": 46,
   "metadata": {},
   "outputs": [
    {
     "name": "stderr",
     "output_type": "stream",
     "text": [
      "/opt/conda/lib/python3.6/site-packages/ipykernel_launcher.py:1: FutureWarning: Interpreting tuple 'by' as a list of keys, rather than a single key. Use 'by=[...]' instead of 'by=(...)'. In the future, a tuple will always mean a single key.\n",
      "  \"\"\"Entry point for launching an IPython kernel.\n"
     ]
    }
   ],
   "source": [
    "df_test = df_t.groupby(by=('sessionId', 'userId'))"
   ]
  },
  {
   "cell_type": "code",
   "execution_count": 47,
   "metadata": {},
   "outputs": [
    {
     "data": {
      "text/html": [
       "<div>\n",
       "<style scoped>\n",
       "    .dataframe tbody tr th:only-of-type {\n",
       "        vertical-align: middle;\n",
       "    }\n",
       "\n",
       "    .dataframe tbody tr th {\n",
       "        vertical-align: top;\n",
       "    }\n",
       "\n",
       "    .dataframe thead th {\n",
       "        text-align: right;\n",
       "    }\n",
       "</style>\n",
       "<table border=\"1\" class=\"dataframe\">\n",
       "  <thead>\n",
       "    <tr style=\"text-align: right;\">\n",
       "      <th></th>\n",
       "      <th>artist</th>\n",
       "      <th>auth</th>\n",
       "      <th>firstName</th>\n",
       "      <th>gender</th>\n",
       "      <th>itemInSession</th>\n",
       "      <th>lastName</th>\n",
       "      <th>length</th>\n",
       "      <th>level</th>\n",
       "      <th>location</th>\n",
       "      <th>method</th>\n",
       "      <th>...</th>\n",
       "      <th>registration</th>\n",
       "      <th>sessionId</th>\n",
       "      <th>song</th>\n",
       "      <th>status</th>\n",
       "      <th>ts</th>\n",
       "      <th>userAgent</th>\n",
       "      <th>userId</th>\n",
       "      <th>timestamp</th>\n",
       "      <th>registration_timestamp</th>\n",
       "      <th>churn</th>\n",
       "    </tr>\n",
       "  </thead>\n",
       "  <tbody>\n",
       "    <tr>\n",
       "      <th>0</th>\n",
       "      <td>Modjo</td>\n",
       "      <td>Logged In</td>\n",
       "      <td>Alexi</td>\n",
       "      <td>F</td>\n",
       "      <td>0</td>\n",
       "      <td>Warren</td>\n",
       "      <td>250.93179</td>\n",
       "      <td>paid</td>\n",
       "      <td>Spokane-Spokane Valley, WA</td>\n",
       "      <td>PUT</td>\n",
       "      <td>...</td>\n",
       "      <td>1532482662000</td>\n",
       "      <td>53</td>\n",
       "      <td>What I Mean</td>\n",
       "      <td>200</td>\n",
       "      <td>1538353930000</td>\n",
       "      <td>Mozilla/5.0 (Windows NT 6.1; WOW64; rv:32.0) G...</td>\n",
       "      <td>54</td>\n",
       "      <td>2018-10-01 00:32:10</td>\n",
       "      <td>2018-07-25 01:37:42</td>\n",
       "      <td>True</td>\n",
       "    </tr>\n",
       "    <tr>\n",
       "      <th>1</th>\n",
       "      <td>Edwyn Collins</td>\n",
       "      <td>Logged In</td>\n",
       "      <td>Alexi</td>\n",
       "      <td>F</td>\n",
       "      <td>1</td>\n",
       "      <td>Warren</td>\n",
       "      <td>216.84200</td>\n",
       "      <td>paid</td>\n",
       "      <td>Spokane-Spokane Valley, WA</td>\n",
       "      <td>PUT</td>\n",
       "      <td>...</td>\n",
       "      <td>1532482662000</td>\n",
       "      <td>53</td>\n",
       "      <td>You'll Never Know (My Love) (Bovellian 07 Mix)</td>\n",
       "      <td>200</td>\n",
       "      <td>1538354180000</td>\n",
       "      <td>Mozilla/5.0 (Windows NT 6.1; WOW64; rv:32.0) G...</td>\n",
       "      <td>54</td>\n",
       "      <td>2018-10-01 00:36:20</td>\n",
       "      <td>2018-07-25 01:37:42</td>\n",
       "      <td>True</td>\n",
       "    </tr>\n",
       "    <tr>\n",
       "      <th>2</th>\n",
       "      <td>Coldplay</td>\n",
       "      <td>Logged In</td>\n",
       "      <td>Alexi</td>\n",
       "      <td>F</td>\n",
       "      <td>2</td>\n",
       "      <td>Warren</td>\n",
       "      <td>343.32689</td>\n",
       "      <td>paid</td>\n",
       "      <td>Spokane-Spokane Valley, WA</td>\n",
       "      <td>PUT</td>\n",
       "      <td>...</td>\n",
       "      <td>1532482662000</td>\n",
       "      <td>53</td>\n",
       "      <td>For You</td>\n",
       "      <td>200</td>\n",
       "      <td>1538354396000</td>\n",
       "      <td>Mozilla/5.0 (Windows NT 6.1; WOW64; rv:32.0) G...</td>\n",
       "      <td>54</td>\n",
       "      <td>2018-10-01 00:39:56</td>\n",
       "      <td>2018-07-25 01:37:42</td>\n",
       "      <td>True</td>\n",
       "    </tr>\n",
       "    <tr>\n",
       "      <th>3</th>\n",
       "      <td>Kix</td>\n",
       "      <td>Logged In</td>\n",
       "      <td>Alexi</td>\n",
       "      <td>F</td>\n",
       "      <td>3</td>\n",
       "      <td>Warren</td>\n",
       "      <td>246.25587</td>\n",
       "      <td>paid</td>\n",
       "      <td>Spokane-Spokane Valley, WA</td>\n",
       "      <td>PUT</td>\n",
       "      <td>...</td>\n",
       "      <td>1532482662000</td>\n",
       "      <td>53</td>\n",
       "      <td>Girl Money</td>\n",
       "      <td>200</td>\n",
       "      <td>1538354739000</td>\n",
       "      <td>Mozilla/5.0 (Windows NT 6.1; WOW64; rv:32.0) G...</td>\n",
       "      <td>54</td>\n",
       "      <td>2018-10-01 00:45:39</td>\n",
       "      <td>2018-07-25 01:37:42</td>\n",
       "      <td>True</td>\n",
       "    </tr>\n",
       "    <tr>\n",
       "      <th>4</th>\n",
       "      <td>None</td>\n",
       "      <td>Logged In</td>\n",
       "      <td>Alexi</td>\n",
       "      <td>F</td>\n",
       "      <td>4</td>\n",
       "      <td>Warren</td>\n",
       "      <td>NaN</td>\n",
       "      <td>paid</td>\n",
       "      <td>Spokane-Spokane Valley, WA</td>\n",
       "      <td>GET</td>\n",
       "      <td>...</td>\n",
       "      <td>1532482662000</td>\n",
       "      <td>53</td>\n",
       "      <td>None</td>\n",
       "      <td>200</td>\n",
       "      <td>1538354749000</td>\n",
       "      <td>Mozilla/5.0 (Windows NT 6.1; WOW64; rv:32.0) G...</td>\n",
       "      <td>54</td>\n",
       "      <td>2018-10-01 00:45:49</td>\n",
       "      <td>2018-07-25 01:37:42</td>\n",
       "      <td>True</td>\n",
       "    </tr>\n",
       "    <tr>\n",
       "      <th>8</th>\n",
       "      <td>None</td>\n",
       "      <td>Logged In</td>\n",
       "      <td>Alex</td>\n",
       "      <td>M</td>\n",
       "      <td>1</td>\n",
       "      <td>Hogan</td>\n",
       "      <td>NaN</td>\n",
       "      <td>free</td>\n",
       "      <td>Denver-Aurora-Lakewood, CO</td>\n",
       "      <td>GET</td>\n",
       "      <td>...</td>\n",
       "      <td>1535066380000</td>\n",
       "      <td>100</td>\n",
       "      <td>None</td>\n",
       "      <td>200</td>\n",
       "      <td>1538358605000</td>\n",
       "      <td>Mozilla/5.0 (Windows NT 6.2; WOW64; rv:31.0) G...</td>\n",
       "      <td>101</td>\n",
       "      <td>2018-10-01 01:50:05</td>\n",
       "      <td>2018-08-23 23:19:40</td>\n",
       "      <td>True</td>\n",
       "    </tr>\n",
       "    <tr>\n",
       "      <th>9</th>\n",
       "      <td>The Cardigans</td>\n",
       "      <td>Logged In</td>\n",
       "      <td>Alex</td>\n",
       "      <td>M</td>\n",
       "      <td>2</td>\n",
       "      <td>Hogan</td>\n",
       "      <td>198.21669</td>\n",
       "      <td>free</td>\n",
       "      <td>Denver-Aurora-Lakewood, CO</td>\n",
       "      <td>PUT</td>\n",
       "      <td>...</td>\n",
       "      <td>1535066380000</td>\n",
       "      <td>100</td>\n",
       "      <td>Lovefool</td>\n",
       "      <td>200</td>\n",
       "      <td>1538358818000</td>\n",
       "      <td>Mozilla/5.0 (Windows NT 6.2; WOW64; rv:31.0) G...</td>\n",
       "      <td>101</td>\n",
       "      <td>2018-10-01 01:53:38</td>\n",
       "      <td>2018-08-23 23:19:40</td>\n",
       "      <td>True</td>\n",
       "    </tr>\n",
       "    <tr>\n",
       "      <th>10</th>\n",
       "      <td>Collective Soul</td>\n",
       "      <td>Logged In</td>\n",
       "      <td>Alex</td>\n",
       "      <td>M</td>\n",
       "      <td>3</td>\n",
       "      <td>Hogan</td>\n",
       "      <td>273.47546</td>\n",
       "      <td>free</td>\n",
       "      <td>Denver-Aurora-Lakewood, CO</td>\n",
       "      <td>PUT</td>\n",
       "      <td>...</td>\n",
       "      <td>1535066380000</td>\n",
       "      <td>100</td>\n",
       "      <td>Run (LP Version)</td>\n",
       "      <td>200</td>\n",
       "      <td>1538359016000</td>\n",
       "      <td>Mozilla/5.0 (Windows NT 6.2; WOW64; rv:31.0) G...</td>\n",
       "      <td>101</td>\n",
       "      <td>2018-10-01 01:56:56</td>\n",
       "      <td>2018-08-23 23:19:40</td>\n",
       "      <td>True</td>\n",
       "    </tr>\n",
       "    <tr>\n",
       "      <th>11</th>\n",
       "      <td>Dario Marianelli</td>\n",
       "      <td>Logged In</td>\n",
       "      <td>Alex</td>\n",
       "      <td>M</td>\n",
       "      <td>4</td>\n",
       "      <td>Hogan</td>\n",
       "      <td>146.99057</td>\n",
       "      <td>free</td>\n",
       "      <td>Denver-Aurora-Lakewood, CO</td>\n",
       "      <td>PUT</td>\n",
       "      <td>...</td>\n",
       "      <td>1535066380000</td>\n",
       "      <td>100</td>\n",
       "      <td>Cello Lesson</td>\n",
       "      <td>200</td>\n",
       "      <td>1538359289000</td>\n",
       "      <td>Mozilla/5.0 (Windows NT 6.2; WOW64; rv:31.0) G...</td>\n",
       "      <td>101</td>\n",
       "      <td>2018-10-01 02:01:29</td>\n",
       "      <td>2018-08-23 23:19:40</td>\n",
       "      <td>True</td>\n",
       "    </tr>\n",
       "    <tr>\n",
       "      <th>12</th>\n",
       "      <td>David Sanborn</td>\n",
       "      <td>Logged In</td>\n",
       "      <td>Alex</td>\n",
       "      <td>M</td>\n",
       "      <td>5</td>\n",
       "      <td>Hogan</td>\n",
       "      <td>217.73016</td>\n",
       "      <td>free</td>\n",
       "      <td>Denver-Aurora-Lakewood, CO</td>\n",
       "      <td>PUT</td>\n",
       "      <td>...</td>\n",
       "      <td>1535066380000</td>\n",
       "      <td>100</td>\n",
       "      <td>Little Flower</td>\n",
       "      <td>200</td>\n",
       "      <td>1538359435000</td>\n",
       "      <td>Mozilla/5.0 (Windows NT 6.2; WOW64; rv:31.0) G...</td>\n",
       "      <td>101</td>\n",
       "      <td>2018-10-01 02:03:55</td>\n",
       "      <td>2018-08-23 23:19:40</td>\n",
       "      <td>True</td>\n",
       "    </tr>\n",
       "    <tr>\n",
       "      <th>54</th>\n",
       "      <td>None</td>\n",
       "      <td>Logged In</td>\n",
       "      <td>Christian</td>\n",
       "      <td>M</td>\n",
       "      <td>1</td>\n",
       "      <td>Robinson</td>\n",
       "      <td>NaN</td>\n",
       "      <td>free</td>\n",
       "      <td>Quincy, IL-MO</td>\n",
       "      <td>GET</td>\n",
       "      <td>...</td>\n",
       "      <td>1534942082000</td>\n",
       "      <td>86</td>\n",
       "      <td>None</td>\n",
       "      <td>200</td>\n",
       "      <td>1538376435000</td>\n",
       "      <td>\"Mozilla/5.0 (Windows NT 6.1; WOW64) AppleWebK...</td>\n",
       "      <td>87</td>\n",
       "      <td>2018-10-01 06:47:15</td>\n",
       "      <td>2018-08-22 12:48:02</td>\n",
       "      <td>True</td>\n",
       "    </tr>\n",
       "    <tr>\n",
       "      <th>55</th>\n",
       "      <td>Crotchduster</td>\n",
       "      <td>Logged In</td>\n",
       "      <td>Christian</td>\n",
       "      <td>M</td>\n",
       "      <td>2</td>\n",
       "      <td>Robinson</td>\n",
       "      <td>871.31383</td>\n",
       "      <td>free</td>\n",
       "      <td>Quincy, IL-MO</td>\n",
       "      <td>PUT</td>\n",
       "      <td>...</td>\n",
       "      <td>1534942082000</td>\n",
       "      <td>86</td>\n",
       "      <td>Crotchopus</td>\n",
       "      <td>200</td>\n",
       "      <td>1538376540000</td>\n",
       "      <td>\"Mozilla/5.0 (Windows NT 6.1; WOW64) AppleWebK...</td>\n",
       "      <td>87</td>\n",
       "      <td>2018-10-01 06:49:00</td>\n",
       "      <td>2018-08-22 12:48:02</td>\n",
       "      <td>True</td>\n",
       "    </tr>\n",
       "    <tr>\n",
       "      <th>56</th>\n",
       "      <td>Mariah Carey / Jadakiss / Styles P</td>\n",
       "      <td>Logged In</td>\n",
       "      <td>Christian</td>\n",
       "      <td>M</td>\n",
       "      <td>3</td>\n",
       "      <td>Robinson</td>\n",
       "      <td>267.67628</td>\n",
       "      <td>free</td>\n",
       "      <td>Quincy, IL-MO</td>\n",
       "      <td>PUT</td>\n",
       "      <td>...</td>\n",
       "      <td>1534942082000</td>\n",
       "      <td>86</td>\n",
       "      <td>We Belong Together</td>\n",
       "      <td>200</td>\n",
       "      <td>1538377411000</td>\n",
       "      <td>\"Mozilla/5.0 (Windows NT 6.1; WOW64) AppleWebK...</td>\n",
       "      <td>87</td>\n",
       "      <td>2018-10-01 07:03:31</td>\n",
       "      <td>2018-08-22 12:48:02</td>\n",
       "      <td>True</td>\n",
       "    </tr>\n",
       "    <tr>\n",
       "      <th>57</th>\n",
       "      <td>None</td>\n",
       "      <td>Logged In</td>\n",
       "      <td>Teagan</td>\n",
       "      <td>F</td>\n",
       "      <td>2</td>\n",
       "      <td>Roberts</td>\n",
       "      <td>NaN</td>\n",
       "      <td>free</td>\n",
       "      <td>New Philadelphia-Dover, OH</td>\n",
       "      <td>GET</td>\n",
       "      <td>...</td>\n",
       "      <td>1537634865000</td>\n",
       "      <td>266</td>\n",
       "      <td>None</td>\n",
       "      <td>200</td>\n",
       "      <td>1538377521000</td>\n",
       "      <td>Mozilla/5.0 (Windows NT 6.1; WOW64; Trident/7....</td>\n",
       "      <td>28</td>\n",
       "      <td>2018-10-01 07:05:21</td>\n",
       "      <td>2018-09-22 16:47:45</td>\n",
       "      <td>True</td>\n",
       "    </tr>\n",
       "    <tr>\n",
       "      <th>58</th>\n",
       "      <td>Papoose</td>\n",
       "      <td>Logged In</td>\n",
       "      <td>Teagan</td>\n",
       "      <td>F</td>\n",
       "      <td>3</td>\n",
       "      <td>Roberts</td>\n",
       "      <td>154.22649</td>\n",
       "      <td>free</td>\n",
       "      <td>New Philadelphia-Dover, OH</td>\n",
       "      <td>PUT</td>\n",
       "      <td>...</td>\n",
       "      <td>1537634865000</td>\n",
       "      <td>266</td>\n",
       "      <td>We Got Gunz</td>\n",
       "      <td>200</td>\n",
       "      <td>1538377521000</td>\n",
       "      <td>Mozilla/5.0 (Windows NT 6.1; WOW64; Trident/7....</td>\n",
       "      <td>28</td>\n",
       "      <td>2018-10-01 07:05:21</td>\n",
       "      <td>2018-09-22 16:47:45</td>\n",
       "      <td>True</td>\n",
       "    </tr>\n",
       "    <tr>\n",
       "      <th>59</th>\n",
       "      <td>Jami Smith</td>\n",
       "      <td>Logged In</td>\n",
       "      <td>Teagan</td>\n",
       "      <td>F</td>\n",
       "      <td>4</td>\n",
       "      <td>Roberts</td>\n",
       "      <td>386.79465</td>\n",
       "      <td>free</td>\n",
       "      <td>New Philadelphia-Dover, OH</td>\n",
       "      <td>PUT</td>\n",
       "      <td>...</td>\n",
       "      <td>1537634865000</td>\n",
       "      <td>266</td>\n",
       "      <td>Water Falls</td>\n",
       "      <td>200</td>\n",
       "      <td>1538377675000</td>\n",
       "      <td>Mozilla/5.0 (Windows NT 6.1; WOW64; Trident/7....</td>\n",
       "      <td>28</td>\n",
       "      <td>2018-10-01 07:07:55</td>\n",
       "      <td>2018-09-22 16:47:45</td>\n",
       "      <td>True</td>\n",
       "    </tr>\n",
       "    <tr>\n",
       "      <th>60</th>\n",
       "      <td>The xx</td>\n",
       "      <td>Logged In</td>\n",
       "      <td>Christian</td>\n",
       "      <td>M</td>\n",
       "      <td>4</td>\n",
       "      <td>Robinson</td>\n",
       "      <td>188.55138</td>\n",
       "      <td>free</td>\n",
       "      <td>Quincy, IL-MO</td>\n",
       "      <td>PUT</td>\n",
       "      <td>...</td>\n",
       "      <td>1534942082000</td>\n",
       "      <td>86</td>\n",
       "      <td>Basic Space</td>\n",
       "      <td>200</td>\n",
       "      <td>1538377678000</td>\n",
       "      <td>\"Mozilla/5.0 (Windows NT 6.1; WOW64) AppleWebK...</td>\n",
       "      <td>87</td>\n",
       "      <td>2018-10-01 07:07:58</td>\n",
       "      <td>2018-08-22 12:48:02</td>\n",
       "      <td>True</td>\n",
       "    </tr>\n",
       "    <tr>\n",
       "      <th>61</th>\n",
       "      <td>The Mars Volta</td>\n",
       "      <td>Logged In</td>\n",
       "      <td>Christian</td>\n",
       "      <td>M</td>\n",
       "      <td>5</td>\n",
       "      <td>Robinson</td>\n",
       "      <td>257.07057</td>\n",
       "      <td>free</td>\n",
       "      <td>Quincy, IL-MO</td>\n",
       "      <td>PUT</td>\n",
       "      <td>...</td>\n",
       "      <td>1534942082000</td>\n",
       "      <td>86</td>\n",
       "      <td>Concertina</td>\n",
       "      <td>200</td>\n",
       "      <td>1538377866000</td>\n",
       "      <td>\"Mozilla/5.0 (Windows NT 6.1; WOW64) AppleWebK...</td>\n",
       "      <td>87</td>\n",
       "      <td>2018-10-01 07:11:06</td>\n",
       "      <td>2018-08-22 12:48:02</td>\n",
       "      <td>True</td>\n",
       "    </tr>\n",
       "    <tr>\n",
       "      <th>62</th>\n",
       "      <td>Ryan Bingham</td>\n",
       "      <td>Logged In</td>\n",
       "      <td>Teagan</td>\n",
       "      <td>F</td>\n",
       "      <td>5</td>\n",
       "      <td>Roberts</td>\n",
       "      <td>123.11465</td>\n",
       "      <td>free</td>\n",
       "      <td>New Philadelphia-Dover, OH</td>\n",
       "      <td>PUT</td>\n",
       "      <td>...</td>\n",
       "      <td>1537634865000</td>\n",
       "      <td>266</td>\n",
       "      <td>Boracho Station</td>\n",
       "      <td>200</td>\n",
       "      <td>1538378061000</td>\n",
       "      <td>Mozilla/5.0 (Windows NT 6.1; WOW64; Trident/7....</td>\n",
       "      <td>28</td>\n",
       "      <td>2018-10-01 07:14:21</td>\n",
       "      <td>2018-09-22 16:47:45</td>\n",
       "      <td>True</td>\n",
       "    </tr>\n",
       "    <tr>\n",
       "      <th>64</th>\n",
       "      <td>Fugees</td>\n",
       "      <td>Logged In</td>\n",
       "      <td>Teagan</td>\n",
       "      <td>F</td>\n",
       "      <td>6</td>\n",
       "      <td>Roberts</td>\n",
       "      <td>290.27220</td>\n",
       "      <td>free</td>\n",
       "      <td>New Philadelphia-Dover, OH</td>\n",
       "      <td>PUT</td>\n",
       "      <td>...</td>\n",
       "      <td>1537634865000</td>\n",
       "      <td>266</td>\n",
       "      <td>Killing Me Softly With His Song</td>\n",
       "      <td>200</td>\n",
       "      <td>1538378184000</td>\n",
       "      <td>Mozilla/5.0 (Windows NT 6.1; WOW64; Trident/7....</td>\n",
       "      <td>28</td>\n",
       "      <td>2018-10-01 07:16:24</td>\n",
       "      <td>2018-09-22 16:47:45</td>\n",
       "      <td>True</td>\n",
       "    </tr>\n",
       "    <tr>\n",
       "      <th>79</th>\n",
       "      <td>Kutt Calhoun</td>\n",
       "      <td>Logged In</td>\n",
       "      <td>Alexi</td>\n",
       "      <td>F</td>\n",
       "      <td>0</td>\n",
       "      <td>Warren</td>\n",
       "      <td>307.51302</td>\n",
       "      <td>paid</td>\n",
       "      <td>Spokane-Spokane Valley, WA</td>\n",
       "      <td>PUT</td>\n",
       "      <td>...</td>\n",
       "      <td>1532482662000</td>\n",
       "      <td>260</td>\n",
       "      <td>N A Whitemanzeyez</td>\n",
       "      <td>200</td>\n",
       "      <td>1538395957000</td>\n",
       "      <td>Mozilla/5.0 (Windows NT 6.1; WOW64; rv:32.0) G...</td>\n",
       "      <td>54</td>\n",
       "      <td>2018-10-01 12:12:37</td>\n",
       "      <td>2018-07-25 01:37:42</td>\n",
       "      <td>True</td>\n",
       "    </tr>\n",
       "    <tr>\n",
       "      <th>80</th>\n",
       "      <td>Deadmau5</td>\n",
       "      <td>Logged In</td>\n",
       "      <td>Alexi</td>\n",
       "      <td>F</td>\n",
       "      <td>1</td>\n",
       "      <td>Warren</td>\n",
       "      <td>374.20363</td>\n",
       "      <td>paid</td>\n",
       "      <td>Spokane-Spokane Valley, WA</td>\n",
       "      <td>PUT</td>\n",
       "      <td>...</td>\n",
       "      <td>1532482662000</td>\n",
       "      <td>260</td>\n",
       "      <td>Ghosts 'n' Stuff (Original Instrumental Mix)</td>\n",
       "      <td>200</td>\n",
       "      <td>1538396264000</td>\n",
       "      <td>Mozilla/5.0 (Windows NT 6.1; WOW64; rv:32.0) G...</td>\n",
       "      <td>54</td>\n",
       "      <td>2018-10-01 12:17:44</td>\n",
       "      <td>2018-07-25 01:37:42</td>\n",
       "      <td>True</td>\n",
       "    </tr>\n",
       "    <tr>\n",
       "      <th>81</th>\n",
       "      <td>Ray LaMontagne</td>\n",
       "      <td>Logged In</td>\n",
       "      <td>Alexi</td>\n",
       "      <td>F</td>\n",
       "      <td>2</td>\n",
       "      <td>Warren</td>\n",
       "      <td>268.90404</td>\n",
       "      <td>paid</td>\n",
       "      <td>Spokane-Spokane Valley, WA</td>\n",
       "      <td>PUT</td>\n",
       "      <td>...</td>\n",
       "      <td>1532482662000</td>\n",
       "      <td>260</td>\n",
       "      <td>Till The Sun turns Black</td>\n",
       "      <td>200</td>\n",
       "      <td>1538396638000</td>\n",
       "      <td>Mozilla/5.0 (Windows NT 6.1; WOW64; rv:32.0) G...</td>\n",
       "      <td>54</td>\n",
       "      <td>2018-10-01 12:23:58</td>\n",
       "      <td>2018-07-25 01:37:42</td>\n",
       "      <td>True</td>\n",
       "    </tr>\n",
       "    <tr>\n",
       "      <th>82</th>\n",
       "      <td>Kenny Rogers</td>\n",
       "      <td>Logged In</td>\n",
       "      <td>Alexi</td>\n",
       "      <td>F</td>\n",
       "      <td>3</td>\n",
       "      <td>Warren</td>\n",
       "      <td>163.18649</td>\n",
       "      <td>paid</td>\n",
       "      <td>Spokane-Spokane Valley, WA</td>\n",
       "      <td>PUT</td>\n",
       "      <td>...</td>\n",
       "      <td>1532482662000</td>\n",
       "      <td>260</td>\n",
       "      <td>Christmas Is My Favorite Time Of The Year</td>\n",
       "      <td>200</td>\n",
       "      <td>1538396906000</td>\n",
       "      <td>Mozilla/5.0 (Windows NT 6.1; WOW64; rv:32.0) G...</td>\n",
       "      <td>54</td>\n",
       "      <td>2018-10-01 12:28:26</td>\n",
       "      <td>2018-07-25 01:37:42</td>\n",
       "      <td>True</td>\n",
       "    </tr>\n",
       "    <tr>\n",
       "      <th>83</th>\n",
       "      <td>Chris Stills</td>\n",
       "      <td>Logged In</td>\n",
       "      <td>Alexi</td>\n",
       "      <td>F</td>\n",
       "      <td>4</td>\n",
       "      <td>Warren</td>\n",
       "      <td>246.04689</td>\n",
       "      <td>paid</td>\n",
       "      <td>Spokane-Spokane Valley, WA</td>\n",
       "      <td>PUT</td>\n",
       "      <td>...</td>\n",
       "      <td>1532482662000</td>\n",
       "      <td>260</td>\n",
       "      <td>Lucifer &amp; Jane  (LP Version)</td>\n",
       "      <td>200</td>\n",
       "      <td>1538397069000</td>\n",
       "      <td>Mozilla/5.0 (Windows NT 6.1; WOW64; rv:32.0) G...</td>\n",
       "      <td>54</td>\n",
       "      <td>2018-10-01 12:31:09</td>\n",
       "      <td>2018-07-25 01:37:42</td>\n",
       "      <td>True</td>\n",
       "    </tr>\n",
       "    <tr>\n",
       "      <th>90</th>\n",
       "      <td>None</td>\n",
       "      <td>Logged In</td>\n",
       "      <td>Ethan</td>\n",
       "      <td>M</td>\n",
       "      <td>6</td>\n",
       "      <td>Johnson</td>\n",
       "      <td>NaN</td>\n",
       "      <td>paid</td>\n",
       "      <td>Lexington-Fayette, KY</td>\n",
       "      <td>GET</td>\n",
       "      <td>...</td>\n",
       "      <td>1538080987000</td>\n",
       "      <td>236</td>\n",
       "      <td>None</td>\n",
       "      <td>200</td>\n",
       "      <td>1538398632000</td>\n",
       "      <td>\"Mozilla/5.0 (Windows NT 6.1; WOW64) AppleWebK...</td>\n",
       "      <td>51</td>\n",
       "      <td>2018-10-01 12:57:12</td>\n",
       "      <td>2018-09-27 20:43:07</td>\n",
       "      <td>True</td>\n",
       "    </tr>\n",
       "    <tr>\n",
       "      <th>91</th>\n",
       "      <td>Erykah Badu</td>\n",
       "      <td>Logged In</td>\n",
       "      <td>Ethan</td>\n",
       "      <td>M</td>\n",
       "      <td>7</td>\n",
       "      <td>Johnson</td>\n",
       "      <td>289.69751</td>\n",
       "      <td>paid</td>\n",
       "      <td>Lexington-Fayette, KY</td>\n",
       "      <td>PUT</td>\n",
       "      <td>...</td>\n",
       "      <td>1538080987000</td>\n",
       "      <td>236</td>\n",
       "      <td>Window Seat</td>\n",
       "      <td>200</td>\n",
       "      <td>1538398649000</td>\n",
       "      <td>\"Mozilla/5.0 (Windows NT 6.1; WOW64) AppleWebK...</td>\n",
       "      <td>51</td>\n",
       "      <td>2018-10-01 12:57:29</td>\n",
       "      <td>2018-09-27 20:43:07</td>\n",
       "      <td>True</td>\n",
       "    </tr>\n",
       "    <tr>\n",
       "      <th>93</th>\n",
       "      <td>BlÃÂ¸f</td>\n",
       "      <td>Logged In</td>\n",
       "      <td>Ethan</td>\n",
       "      <td>M</td>\n",
       "      <td>8</td>\n",
       "      <td>Johnson</td>\n",
       "      <td>229.82485</td>\n",
       "      <td>paid</td>\n",
       "      <td>Lexington-Fayette, KY</td>\n",
       "      <td>PUT</td>\n",
       "      <td>...</td>\n",
       "      <td>1538080987000</td>\n",
       "      <td>236</td>\n",
       "      <td>Niets Dan Dit</td>\n",
       "      <td>200</td>\n",
       "      <td>1538398938000</td>\n",
       "      <td>\"Mozilla/5.0 (Windows NT 6.1; WOW64) AppleWebK...</td>\n",
       "      <td>51</td>\n",
       "      <td>2018-10-01 13:02:18</td>\n",
       "      <td>2018-09-27 20:43:07</td>\n",
       "      <td>True</td>\n",
       "    </tr>\n",
       "    <tr>\n",
       "      <th>94</th>\n",
       "      <td>Mousse T. Vs Hot 'n' Juicy</td>\n",
       "      <td>Logged In</td>\n",
       "      <td>Ethan</td>\n",
       "      <td>M</td>\n",
       "      <td>9</td>\n",
       "      <td>Johnson</td>\n",
       "      <td>184.29342</td>\n",
       "      <td>paid</td>\n",
       "      <td>Lexington-Fayette, KY</td>\n",
       "      <td>PUT</td>\n",
       "      <td>...</td>\n",
       "      <td>1538080987000</td>\n",
       "      <td>236</td>\n",
       "      <td>Horny</td>\n",
       "      <td>200</td>\n",
       "      <td>1538399167000</td>\n",
       "      <td>\"Mozilla/5.0 (Windows NT 6.1; WOW64) AppleWebK...</td>\n",
       "      <td>51</td>\n",
       "      <td>2018-10-01 13:06:07</td>\n",
       "      <td>2018-09-27 20:43:07</td>\n",
       "      <td>True</td>\n",
       "    </tr>\n",
       "    <tr>\n",
       "      <th>98</th>\n",
       "      <td>Miranda Lambert</td>\n",
       "      <td>Logged In</td>\n",
       "      <td>Ethan</td>\n",
       "      <td>M</td>\n",
       "      <td>10</td>\n",
       "      <td>Johnson</td>\n",
       "      <td>144.14322</td>\n",
       "      <td>paid</td>\n",
       "      <td>Lexington-Fayette, KY</td>\n",
       "      <td>PUT</td>\n",
       "      <td>...</td>\n",
       "      <td>1538080987000</td>\n",
       "      <td>236</td>\n",
       "      <td>Me and Your Cigarettes</td>\n",
       "      <td>200</td>\n",
       "      <td>1538399351000</td>\n",
       "      <td>\"Mozilla/5.0 (Windows NT 6.1; WOW64) AppleWebK...</td>\n",
       "      <td>51</td>\n",
       "      <td>2018-10-01 13:09:11</td>\n",
       "      <td>2018-09-27 20:43:07</td>\n",
       "      <td>True</td>\n",
       "    </tr>\n",
       "    <tr>\n",
       "      <th>...</th>\n",
       "      <td>...</td>\n",
       "      <td>...</td>\n",
       "      <td>...</td>\n",
       "      <td>...</td>\n",
       "      <td>...</td>\n",
       "      <td>...</td>\n",
       "      <td>...</td>\n",
       "      <td>...</td>\n",
       "      <td>...</td>\n",
       "      <td>...</td>\n",
       "      <td>...</td>\n",
       "      <td>...</td>\n",
       "      <td>...</td>\n",
       "      <td>...</td>\n",
       "      <td>...</td>\n",
       "      <td>...</td>\n",
       "      <td>...</td>\n",
       "      <td>...</td>\n",
       "      <td>...</td>\n",
       "      <td>...</td>\n",
       "      <td>...</td>\n",
       "    </tr>\n",
       "    <tr>\n",
       "      <th>43777</th>\n",
       "      <td>Eddie Vedder</td>\n",
       "      <td>Logged In</td>\n",
       "      <td>Antonina</td>\n",
       "      <td>F</td>\n",
       "      <td>0</td>\n",
       "      <td>Kennedy</td>\n",
       "      <td>164.17914</td>\n",
       "      <td>paid</td>\n",
       "      <td>Colorado Springs, CO</td>\n",
       "      <td>PUT</td>\n",
       "      <td>...</td>\n",
       "      <td>1526739206000</td>\n",
       "      <td>314</td>\n",
       "      <td>Guaranteed</td>\n",
       "      <td>200</td>\n",
       "      <td>1541597321000</td>\n",
       "      <td>\"Mozilla/5.0 (Windows NT 5.1) AppleWebKit/537....</td>\n",
       "      <td>300001</td>\n",
       "      <td>2018-11-07 13:28:41</td>\n",
       "      <td>2018-05-19 14:13:26</td>\n",
       "      <td>True</td>\n",
       "    </tr>\n",
       "    <tr>\n",
       "      <th>43778</th>\n",
       "      <td>Rivers Cuomo</td>\n",
       "      <td>Logged In</td>\n",
       "      <td>Antonina</td>\n",
       "      <td>F</td>\n",
       "      <td>1</td>\n",
       "      <td>Kennedy</td>\n",
       "      <td>26.38322</td>\n",
       "      <td>paid</td>\n",
       "      <td>Colorado Springs, CO</td>\n",
       "      <td>PUT</td>\n",
       "      <td>...</td>\n",
       "      <td>1526739206000</td>\n",
       "      <td>314</td>\n",
       "      <td>Oh Jonas</td>\n",
       "      <td>200</td>\n",
       "      <td>1541597485000</td>\n",
       "      <td>\"Mozilla/5.0 (Windows NT 5.1) AppleWebKit/537....</td>\n",
       "      <td>300001</td>\n",
       "      <td>2018-11-07 13:31:25</td>\n",
       "      <td>2018-05-19 14:13:26</td>\n",
       "      <td>True</td>\n",
       "    </tr>\n",
       "    <tr>\n",
       "      <th>43779</th>\n",
       "      <td>M83</td>\n",
       "      <td>Logged In</td>\n",
       "      <td>Antonina</td>\n",
       "      <td>F</td>\n",
       "      <td>2</td>\n",
       "      <td>Kennedy</td>\n",
       "      <td>667.24526</td>\n",
       "      <td>paid</td>\n",
       "      <td>Colorado Springs, CO</td>\n",
       "      <td>PUT</td>\n",
       "      <td>...</td>\n",
       "      <td>1526739206000</td>\n",
       "      <td>314</td>\n",
       "      <td>Midnight Souls Still Remain</td>\n",
       "      <td>200</td>\n",
       "      <td>1541597511000</td>\n",
       "      <td>\"Mozilla/5.0 (Windows NT 5.1) AppleWebKit/537....</td>\n",
       "      <td>300001</td>\n",
       "      <td>2018-11-07 13:31:51</td>\n",
       "      <td>2018-05-19 14:13:26</td>\n",
       "      <td>True</td>\n",
       "    </tr>\n",
       "    <tr>\n",
       "      <th>43780</th>\n",
       "      <td>Radiohead</td>\n",
       "      <td>Logged In</td>\n",
       "      <td>Antonina</td>\n",
       "      <td>F</td>\n",
       "      <td>3</td>\n",
       "      <td>Kennedy</td>\n",
       "      <td>130.82077</td>\n",
       "      <td>paid</td>\n",
       "      <td>Colorado Springs, CO</td>\n",
       "      <td>PUT</td>\n",
       "      <td>...</td>\n",
       "      <td>1526739206000</td>\n",
       "      <td>314</td>\n",
       "      <td>Pop Is Dead</td>\n",
       "      <td>200</td>\n",
       "      <td>1541598178000</td>\n",
       "      <td>\"Mozilla/5.0 (Windows NT 5.1) AppleWebKit/537....</td>\n",
       "      <td>300001</td>\n",
       "      <td>2018-11-07 13:42:58</td>\n",
       "      <td>2018-05-19 14:13:26</td>\n",
       "      <td>True</td>\n",
       "    </tr>\n",
       "    <tr>\n",
       "      <th>43781</th>\n",
       "      <td>CÃÂ©line Dion</td>\n",
       "      <td>Logged In</td>\n",
       "      <td>Antonina</td>\n",
       "      <td>F</td>\n",
       "      <td>4</td>\n",
       "      <td>Kennedy</td>\n",
       "      <td>280.78975</td>\n",
       "      <td>paid</td>\n",
       "      <td>Colorado Springs, CO</td>\n",
       "      <td>PUT</td>\n",
       "      <td>...</td>\n",
       "      <td>1526739206000</td>\n",
       "      <td>314</td>\n",
       "      <td>My Heart Will Go On</td>\n",
       "      <td>200</td>\n",
       "      <td>1541598308000</td>\n",
       "      <td>\"Mozilla/5.0 (Windows NT 5.1) AppleWebKit/537....</td>\n",
       "      <td>300001</td>\n",
       "      <td>2018-11-07 13:45:08</td>\n",
       "      <td>2018-05-19 14:13:26</td>\n",
       "      <td>True</td>\n",
       "    </tr>\n",
       "    <tr>\n",
       "      <th>43931</th>\n",
       "      <td>None</td>\n",
       "      <td>Logged In</td>\n",
       "      <td>Antonina</td>\n",
       "      <td>F</td>\n",
       "      <td>0</td>\n",
       "      <td>Kennedy</td>\n",
       "      <td>NaN</td>\n",
       "      <td>paid</td>\n",
       "      <td>Colorado Springs, CO</td>\n",
       "      <td>GET</td>\n",
       "      <td>...</td>\n",
       "      <td>1526739206000</td>\n",
       "      <td>339</td>\n",
       "      <td>None</td>\n",
       "      <td>200</td>\n",
       "      <td>1541671300000</td>\n",
       "      <td>\"Mozilla/5.0 (Windows NT 5.1) AppleWebKit/537....</td>\n",
       "      <td>300001</td>\n",
       "      <td>2018-11-08 10:01:40</td>\n",
       "      <td>2018-05-19 14:13:26</td>\n",
       "      <td>True</td>\n",
       "    </tr>\n",
       "    <tr>\n",
       "      <th>43932</th>\n",
       "      <td>Craig David</td>\n",
       "      <td>Logged In</td>\n",
       "      <td>Antonina</td>\n",
       "      <td>F</td>\n",
       "      <td>1</td>\n",
       "      <td>Kennedy</td>\n",
       "      <td>213.34159</td>\n",
       "      <td>paid</td>\n",
       "      <td>Colorado Springs, CO</td>\n",
       "      <td>PUT</td>\n",
       "      <td>...</td>\n",
       "      <td>1526739206000</td>\n",
       "      <td>339</td>\n",
       "      <td>What's Your Flava? (Radio Edit)</td>\n",
       "      <td>200</td>\n",
       "      <td>1541671422000</td>\n",
       "      <td>\"Mozilla/5.0 (Windows NT 5.1) AppleWebKit/537....</td>\n",
       "      <td>300001</td>\n",
       "      <td>2018-11-08 10:03:42</td>\n",
       "      <td>2018-05-19 14:13:26</td>\n",
       "      <td>True</td>\n",
       "    </tr>\n",
       "    <tr>\n",
       "      <th>43933</th>\n",
       "      <td>The Crystal Method</td>\n",
       "      <td>Logged In</td>\n",
       "      <td>Antonina</td>\n",
       "      <td>F</td>\n",
       "      <td>2</td>\n",
       "      <td>Kennedy</td>\n",
       "      <td>291.16036</td>\n",
       "      <td>paid</td>\n",
       "      <td>Colorado Springs, CO</td>\n",
       "      <td>PUT</td>\n",
       "      <td>...</td>\n",
       "      <td>1526739206000</td>\n",
       "      <td>339</td>\n",
       "      <td>Weapons of Mass Distortion</td>\n",
       "      <td>200</td>\n",
       "      <td>1541671635000</td>\n",
       "      <td>\"Mozilla/5.0 (Windows NT 5.1) AppleWebKit/537....</td>\n",
       "      <td>300001</td>\n",
       "      <td>2018-11-08 10:07:15</td>\n",
       "      <td>2018-05-19 14:13:26</td>\n",
       "      <td>True</td>\n",
       "    </tr>\n",
       "    <tr>\n",
       "      <th>43934</th>\n",
       "      <td>The Helio Sequence</td>\n",
       "      <td>Logged In</td>\n",
       "      <td>Antonina</td>\n",
       "      <td>F</td>\n",
       "      <td>3</td>\n",
       "      <td>Kennedy</td>\n",
       "      <td>258.16771</td>\n",
       "      <td>paid</td>\n",
       "      <td>Colorado Springs, CO</td>\n",
       "      <td>PUT</td>\n",
       "      <td>...</td>\n",
       "      <td>1526739206000</td>\n",
       "      <td>339</td>\n",
       "      <td>Broken Afternoon (Album)</td>\n",
       "      <td>200</td>\n",
       "      <td>1541671926000</td>\n",
       "      <td>\"Mozilla/5.0 (Windows NT 5.1) AppleWebKit/537....</td>\n",
       "      <td>300001</td>\n",
       "      <td>2018-11-08 10:12:06</td>\n",
       "      <td>2018-05-19 14:13:26</td>\n",
       "      <td>True</td>\n",
       "    </tr>\n",
       "    <tr>\n",
       "      <th>43935</th>\n",
       "      <td>Alva Noto + Ryuichi Sakamoto</td>\n",
       "      <td>Logged In</td>\n",
       "      <td>Antonina</td>\n",
       "      <td>F</td>\n",
       "      <td>4</td>\n",
       "      <td>Kennedy</td>\n",
       "      <td>531.59138</td>\n",
       "      <td>paid</td>\n",
       "      <td>Colorado Springs, CO</td>\n",
       "      <td>PUT</td>\n",
       "      <td>...</td>\n",
       "      <td>1526739206000</td>\n",
       "      <td>339</td>\n",
       "      <td>Aurora</td>\n",
       "      <td>200</td>\n",
       "      <td>1541672184000</td>\n",
       "      <td>\"Mozilla/5.0 (Windows NT 5.1) AppleWebKit/537....</td>\n",
       "      <td>300001</td>\n",
       "      <td>2018-11-08 10:16:24</td>\n",
       "      <td>2018-05-19 14:13:26</td>\n",
       "      <td>True</td>\n",
       "    </tr>\n",
       "    <tr>\n",
       "      <th>44032</th>\n",
       "      <td>Cosmic Gate</td>\n",
       "      <td>Logged In</td>\n",
       "      <td>Antonina</td>\n",
       "      <td>F</td>\n",
       "      <td>0</td>\n",
       "      <td>Kennedy</td>\n",
       "      <td>235.17995</td>\n",
       "      <td>paid</td>\n",
       "      <td>Colorado Springs, CO</td>\n",
       "      <td>PUT</td>\n",
       "      <td>...</td>\n",
       "      <td>1526739206000</td>\n",
       "      <td>343</td>\n",
       "      <td>Ultra Curve (Radio Edit)</td>\n",
       "      <td>200</td>\n",
       "      <td>1541857389000</td>\n",
       "      <td>\"Mozilla/5.0 (Windows NT 5.1) AppleWebKit/537....</td>\n",
       "      <td>300001</td>\n",
       "      <td>2018-11-10 13:43:09</td>\n",
       "      <td>2018-05-19 14:13:26</td>\n",
       "      <td>True</td>\n",
       "    </tr>\n",
       "    <tr>\n",
       "      <th>44033</th>\n",
       "      <td>Pepper</td>\n",
       "      <td>Logged In</td>\n",
       "      <td>Antonina</td>\n",
       "      <td>F</td>\n",
       "      <td>1</td>\n",
       "      <td>Kennedy</td>\n",
       "      <td>256.31302</td>\n",
       "      <td>paid</td>\n",
       "      <td>Colorado Springs, CO</td>\n",
       "      <td>PUT</td>\n",
       "      <td>...</td>\n",
       "      <td>1526739206000</td>\n",
       "      <td>343</td>\n",
       "      <td>Tradewinds (LP Version)</td>\n",
       "      <td>200</td>\n",
       "      <td>1541857624000</td>\n",
       "      <td>\"Mozilla/5.0 (Windows NT 5.1) AppleWebKit/537....</td>\n",
       "      <td>300001</td>\n",
       "      <td>2018-11-10 13:47:04</td>\n",
       "      <td>2018-05-19 14:13:26</td>\n",
       "      <td>True</td>\n",
       "    </tr>\n",
       "    <tr>\n",
       "      <th>44034</th>\n",
       "      <td>Elliott Smith</td>\n",
       "      <td>Logged In</td>\n",
       "      <td>Antonina</td>\n",
       "      <td>F</td>\n",
       "      <td>2</td>\n",
       "      <td>Kennedy</td>\n",
       "      <td>195.94404</td>\n",
       "      <td>paid</td>\n",
       "      <td>Colorado Springs, CO</td>\n",
       "      <td>PUT</td>\n",
       "      <td>...</td>\n",
       "      <td>1526739206000</td>\n",
       "      <td>343</td>\n",
       "      <td>L.A.</td>\n",
       "      <td>200</td>\n",
       "      <td>1541857880000</td>\n",
       "      <td>\"Mozilla/5.0 (Windows NT 5.1) AppleWebKit/537....</td>\n",
       "      <td>300001</td>\n",
       "      <td>2018-11-10 13:51:20</td>\n",
       "      <td>2018-05-19 14:13:26</td>\n",
       "      <td>True</td>\n",
       "    </tr>\n",
       "    <tr>\n",
       "      <th>44035</th>\n",
       "      <td>Captain Hollywood Project</td>\n",
       "      <td>Logged In</td>\n",
       "      <td>Antonina</td>\n",
       "      <td>F</td>\n",
       "      <td>3</td>\n",
       "      <td>Kennedy</td>\n",
       "      <td>234.70975</td>\n",
       "      <td>paid</td>\n",
       "      <td>Colorado Springs, CO</td>\n",
       "      <td>PUT</td>\n",
       "      <td>...</td>\n",
       "      <td>1526739206000</td>\n",
       "      <td>343</td>\n",
       "      <td>More And More</td>\n",
       "      <td>200</td>\n",
       "      <td>1541858075000</td>\n",
       "      <td>\"Mozilla/5.0 (Windows NT 5.1) AppleWebKit/537....</td>\n",
       "      <td>300001</td>\n",
       "      <td>2018-11-10 13:54:35</td>\n",
       "      <td>2018-05-19 14:13:26</td>\n",
       "      <td>True</td>\n",
       "    </tr>\n",
       "    <tr>\n",
       "      <th>44036</th>\n",
       "      <td>Something Happens</td>\n",
       "      <td>Logged In</td>\n",
       "      <td>Antonina</td>\n",
       "      <td>F</td>\n",
       "      <td>4</td>\n",
       "      <td>Kennedy</td>\n",
       "      <td>197.92934</td>\n",
       "      <td>paid</td>\n",
       "      <td>Colorado Springs, CO</td>\n",
       "      <td>PUT</td>\n",
       "      <td>...</td>\n",
       "      <td>1526739206000</td>\n",
       "      <td>343</td>\n",
       "      <td>Burn Clear</td>\n",
       "      <td>200</td>\n",
       "      <td>1541858309000</td>\n",
       "      <td>\"Mozilla/5.0 (Windows NT 5.1) AppleWebKit/537....</td>\n",
       "      <td>300001</td>\n",
       "      <td>2018-11-10 13:58:29</td>\n",
       "      <td>2018-05-19 14:13:26</td>\n",
       "      <td>True</td>\n",
       "    </tr>\n",
       "    <tr>\n",
       "      <th>44453</th>\n",
       "      <td>Dido</td>\n",
       "      <td>Logged In</td>\n",
       "      <td>Antonina</td>\n",
       "      <td>F</td>\n",
       "      <td>0</td>\n",
       "      <td>Kennedy</td>\n",
       "      <td>217.83465</td>\n",
       "      <td>paid</td>\n",
       "      <td>Colorado Springs, CO</td>\n",
       "      <td>PUT</td>\n",
       "      <td>...</td>\n",
       "      <td>1526739206000</td>\n",
       "      <td>366</td>\n",
       "      <td>Thank You</td>\n",
       "      <td>200</td>\n",
       "      <td>1542251159000</td>\n",
       "      <td>\"Mozilla/5.0 (Windows NT 5.1) AppleWebKit/537....</td>\n",
       "      <td>300001</td>\n",
       "      <td>2018-11-15 03:05:59</td>\n",
       "      <td>2018-05-19 14:13:26</td>\n",
       "      <td>True</td>\n",
       "    </tr>\n",
       "    <tr>\n",
       "      <th>44454</th>\n",
       "      <td>Isabella Taviani</td>\n",
       "      <td>Logged In</td>\n",
       "      <td>Antonina</td>\n",
       "      <td>F</td>\n",
       "      <td>1</td>\n",
       "      <td>Kennedy</td>\n",
       "      <td>224.70485</td>\n",
       "      <td>paid</td>\n",
       "      <td>Colorado Springs, CO</td>\n",
       "      <td>PUT</td>\n",
       "      <td>...</td>\n",
       "      <td>1526739206000</td>\n",
       "      <td>366</td>\n",
       "      <td>ÃÂltimo GrÃÂ£o</td>\n",
       "      <td>200</td>\n",
       "      <td>1542251376000</td>\n",
       "      <td>\"Mozilla/5.0 (Windows NT 5.1) AppleWebKit/537....</td>\n",
       "      <td>300001</td>\n",
       "      <td>2018-11-15 03:09:36</td>\n",
       "      <td>2018-05-19 14:13:26</td>\n",
       "      <td>True</td>\n",
       "    </tr>\n",
       "    <tr>\n",
       "      <th>44455</th>\n",
       "      <td>Nickelback</td>\n",
       "      <td>Logged In</td>\n",
       "      <td>Antonina</td>\n",
       "      <td>F</td>\n",
       "      <td>2</td>\n",
       "      <td>Kennedy</td>\n",
       "      <td>218.85342</td>\n",
       "      <td>paid</td>\n",
       "      <td>Colorado Springs, CO</td>\n",
       "      <td>PUT</td>\n",
       "      <td>...</td>\n",
       "      <td>1526739206000</td>\n",
       "      <td>366</td>\n",
       "      <td>Something In Your Mouth (Album Version)</td>\n",
       "      <td>200</td>\n",
       "      <td>1542251600000</td>\n",
       "      <td>\"Mozilla/5.0 (Windows NT 5.1) AppleWebKit/537....</td>\n",
       "      <td>300001</td>\n",
       "      <td>2018-11-15 03:13:20</td>\n",
       "      <td>2018-05-19 14:13:26</td>\n",
       "      <td>True</td>\n",
       "    </tr>\n",
       "    <tr>\n",
       "      <th>44456</th>\n",
       "      <td>The Presidents of the United States of America</td>\n",
       "      <td>Logged In</td>\n",
       "      <td>Antonina</td>\n",
       "      <td>F</td>\n",
       "      <td>3</td>\n",
       "      <td>Kennedy</td>\n",
       "      <td>495.77751</td>\n",
       "      <td>paid</td>\n",
       "      <td>Colorado Springs, CO</td>\n",
       "      <td>PUT</td>\n",
       "      <td>...</td>\n",
       "      <td>1526739206000</td>\n",
       "      <td>366</td>\n",
       "      <td>Lump</td>\n",
       "      <td>200</td>\n",
       "      <td>1542251818000</td>\n",
       "      <td>\"Mozilla/5.0 (Windows NT 5.1) AppleWebKit/537....</td>\n",
       "      <td>300001</td>\n",
       "      <td>2018-11-15 03:16:58</td>\n",
       "      <td>2018-05-19 14:13:26</td>\n",
       "      <td>True</td>\n",
       "    </tr>\n",
       "    <tr>\n",
       "      <th>44457</th>\n",
       "      <td>Valerio Scanu</td>\n",
       "      <td>Logged In</td>\n",
       "      <td>Antonina</td>\n",
       "      <td>F</td>\n",
       "      <td>4</td>\n",
       "      <td>Kennedy</td>\n",
       "      <td>201.56036</td>\n",
       "      <td>paid</td>\n",
       "      <td>Colorado Springs, CO</td>\n",
       "      <td>PUT</td>\n",
       "      <td>...</td>\n",
       "      <td>1526739206000</td>\n",
       "      <td>366</td>\n",
       "      <td>Esisti Tu</td>\n",
       "      <td>200</td>\n",
       "      <td>1542252313000</td>\n",
       "      <td>\"Mozilla/5.0 (Windows NT 5.1) AppleWebKit/537....</td>\n",
       "      <td>300001</td>\n",
       "      <td>2018-11-15 03:25:13</td>\n",
       "      <td>2018-05-19 14:13:26</td>\n",
       "      <td>True</td>\n",
       "    </tr>\n",
       "    <tr>\n",
       "      <th>44483</th>\n",
       "      <td>The Weavers</td>\n",
       "      <td>Logged In</td>\n",
       "      <td>Antonina</td>\n",
       "      <td>F</td>\n",
       "      <td>0</td>\n",
       "      <td>Kennedy</td>\n",
       "      <td>203.46730</td>\n",
       "      <td>paid</td>\n",
       "      <td>Colorado Springs, CO</td>\n",
       "      <td>PUT</td>\n",
       "      <td>...</td>\n",
       "      <td>1526739206000</td>\n",
       "      <td>395</td>\n",
       "      <td>So Long-Guthrie</td>\n",
       "      <td>200</td>\n",
       "      <td>1542269649000</td>\n",
       "      <td>\"Mozilla/5.0 (Windows NT 5.1) AppleWebKit/537....</td>\n",
       "      <td>300001</td>\n",
       "      <td>2018-11-15 08:14:09</td>\n",
       "      <td>2018-05-19 14:13:26</td>\n",
       "      <td>True</td>\n",
       "    </tr>\n",
       "    <tr>\n",
       "      <th>44484</th>\n",
       "      <td>Alceu ValenÃÂ§a</td>\n",
       "      <td>Logged In</td>\n",
       "      <td>Antonina</td>\n",
       "      <td>F</td>\n",
       "      <td>1</td>\n",
       "      <td>Kennedy</td>\n",
       "      <td>162.58567</td>\n",
       "      <td>paid</td>\n",
       "      <td>Colorado Springs, CO</td>\n",
       "      <td>PUT</td>\n",
       "      <td>...</td>\n",
       "      <td>1526739206000</td>\n",
       "      <td>395</td>\n",
       "      <td>Recado Falado (MetrÃÂ´ Da Saudade)</td>\n",
       "      <td>200</td>\n",
       "      <td>1542269852000</td>\n",
       "      <td>\"Mozilla/5.0 (Windows NT 5.1) AppleWebKit/537....</td>\n",
       "      <td>300001</td>\n",
       "      <td>2018-11-15 08:17:32</td>\n",
       "      <td>2018-05-19 14:13:26</td>\n",
       "      <td>True</td>\n",
       "    </tr>\n",
       "    <tr>\n",
       "      <th>44485</th>\n",
       "      <td>The Innocence Mission</td>\n",
       "      <td>Logged In</td>\n",
       "      <td>Antonina</td>\n",
       "      <td>F</td>\n",
       "      <td>2</td>\n",
       "      <td>Kennedy</td>\n",
       "      <td>289.38404</td>\n",
       "      <td>paid</td>\n",
       "      <td>Colorado Springs, CO</td>\n",
       "      <td>PUT</td>\n",
       "      <td>...</td>\n",
       "      <td>1526739206000</td>\n",
       "      <td>395</td>\n",
       "      <td>Walking Around</td>\n",
       "      <td>200</td>\n",
       "      <td>1542270014000</td>\n",
       "      <td>\"Mozilla/5.0 (Windows NT 5.1) AppleWebKit/537....</td>\n",
       "      <td>300001</td>\n",
       "      <td>2018-11-15 08:20:14</td>\n",
       "      <td>2018-05-19 14:13:26</td>\n",
       "      <td>True</td>\n",
       "    </tr>\n",
       "    <tr>\n",
       "      <th>44486</th>\n",
       "      <td>None</td>\n",
       "      <td>Logged In</td>\n",
       "      <td>Antonina</td>\n",
       "      <td>F</td>\n",
       "      <td>3</td>\n",
       "      <td>Kennedy</td>\n",
       "      <td>NaN</td>\n",
       "      <td>paid</td>\n",
       "      <td>Colorado Springs, CO</td>\n",
       "      <td>PUT</td>\n",
       "      <td>...</td>\n",
       "      <td>1526739206000</td>\n",
       "      <td>395</td>\n",
       "      <td>None</td>\n",
       "      <td>307</td>\n",
       "      <td>1542270015000</td>\n",
       "      <td>\"Mozilla/5.0 (Windows NT 5.1) AppleWebKit/537....</td>\n",
       "      <td>300001</td>\n",
       "      <td>2018-11-15 08:20:15</td>\n",
       "      <td>2018-05-19 14:13:26</td>\n",
       "      <td>True</td>\n",
       "    </tr>\n",
       "    <tr>\n",
       "      <th>44487</th>\n",
       "      <td>The Avett Brothers</td>\n",
       "      <td>Logged In</td>\n",
       "      <td>Antonina</td>\n",
       "      <td>F</td>\n",
       "      <td>4</td>\n",
       "      <td>Kennedy</td>\n",
       "      <td>287.97342</td>\n",
       "      <td>paid</td>\n",
       "      <td>Colorado Springs, CO</td>\n",
       "      <td>PUT</td>\n",
       "      <td>...</td>\n",
       "      <td>1526739206000</td>\n",
       "      <td>395</td>\n",
       "      <td>Head Full Of Doubt/Road Full Of Promise</td>\n",
       "      <td>200</td>\n",
       "      <td>1542270303000</td>\n",
       "      <td>\"Mozilla/5.0 (Windows NT 5.1) AppleWebKit/537....</td>\n",
       "      <td>300001</td>\n",
       "      <td>2018-11-15 08:25:03</td>\n",
       "      <td>2018-05-19 14:13:26</td>\n",
       "      <td>True</td>\n",
       "    </tr>\n",
       "    <tr>\n",
       "      <th>44559</th>\n",
       "      <td>None</td>\n",
       "      <td>Logged In</td>\n",
       "      <td>Antonina</td>\n",
       "      <td>F</td>\n",
       "      <td>0</td>\n",
       "      <td>Kennedy</td>\n",
       "      <td>NaN</td>\n",
       "      <td>paid</td>\n",
       "      <td>Colorado Springs, CO</td>\n",
       "      <td>GET</td>\n",
       "      <td>...</td>\n",
       "      <td>1526739206000</td>\n",
       "      <td>397</td>\n",
       "      <td>None</td>\n",
       "      <td>200</td>\n",
       "      <td>1542949644000</td>\n",
       "      <td>\"Mozilla/5.0 (Windows NT 5.1) AppleWebKit/537....</td>\n",
       "      <td>300001</td>\n",
       "      <td>2018-11-23 05:07:24</td>\n",
       "      <td>2018-05-19 14:13:26</td>\n",
       "      <td>True</td>\n",
       "    </tr>\n",
       "    <tr>\n",
       "      <th>44560</th>\n",
       "      <td>Black Eyed Peas</td>\n",
       "      <td>Logged In</td>\n",
       "      <td>Antonina</td>\n",
       "      <td>F</td>\n",
       "      <td>1</td>\n",
       "      <td>Kennedy</td>\n",
       "      <td>296.56771</td>\n",
       "      <td>paid</td>\n",
       "      <td>Colorado Springs, CO</td>\n",
       "      <td>PUT</td>\n",
       "      <td>...</td>\n",
       "      <td>1526739206000</td>\n",
       "      <td>397</td>\n",
       "      <td>Shut Up</td>\n",
       "      <td>200</td>\n",
       "      <td>1542949650000</td>\n",
       "      <td>\"Mozilla/5.0 (Windows NT 5.1) AppleWebKit/537....</td>\n",
       "      <td>300001</td>\n",
       "      <td>2018-11-23 05:07:30</td>\n",
       "      <td>2018-05-19 14:13:26</td>\n",
       "      <td>True</td>\n",
       "    </tr>\n",
       "    <tr>\n",
       "      <th>44561</th>\n",
       "      <td>Tub Ring</td>\n",
       "      <td>Logged In</td>\n",
       "      <td>Antonina</td>\n",
       "      <td>F</td>\n",
       "      <td>2</td>\n",
       "      <td>Kennedy</td>\n",
       "      <td>233.69098</td>\n",
       "      <td>paid</td>\n",
       "      <td>Colorado Springs, CO</td>\n",
       "      <td>PUT</td>\n",
       "      <td>...</td>\n",
       "      <td>1526739206000</td>\n",
       "      <td>397</td>\n",
       "      <td>Invalid</td>\n",
       "      <td>200</td>\n",
       "      <td>1542949946000</td>\n",
       "      <td>\"Mozilla/5.0 (Windows NT 5.1) AppleWebKit/537....</td>\n",
       "      <td>300001</td>\n",
       "      <td>2018-11-23 05:12:26</td>\n",
       "      <td>2018-05-19 14:13:26</td>\n",
       "      <td>True</td>\n",
       "    </tr>\n",
       "    <tr>\n",
       "      <th>44562</th>\n",
       "      <td>Cracker</td>\n",
       "      <td>Logged In</td>\n",
       "      <td>Antonina</td>\n",
       "      <td>F</td>\n",
       "      <td>3</td>\n",
       "      <td>Kennedy</td>\n",
       "      <td>205.03465</td>\n",
       "      <td>paid</td>\n",
       "      <td>Colorado Springs, CO</td>\n",
       "      <td>PUT</td>\n",
       "      <td>...</td>\n",
       "      <td>1526739206000</td>\n",
       "      <td>397</td>\n",
       "      <td>I'm A Little Rocket Ship</td>\n",
       "      <td>200</td>\n",
       "      <td>1542950179000</td>\n",
       "      <td>\"Mozilla/5.0 (Windows NT 5.1) AppleWebKit/537....</td>\n",
       "      <td>300001</td>\n",
       "      <td>2018-11-23 05:16:19</td>\n",
       "      <td>2018-05-19 14:13:26</td>\n",
       "      <td>True</td>\n",
       "    </tr>\n",
       "    <tr>\n",
       "      <th>44563</th>\n",
       "      <td>None</td>\n",
       "      <td>Logged In</td>\n",
       "      <td>Antonina</td>\n",
       "      <td>F</td>\n",
       "      <td>4</td>\n",
       "      <td>Kennedy</td>\n",
       "      <td>NaN</td>\n",
       "      <td>paid</td>\n",
       "      <td>Colorado Springs, CO</td>\n",
       "      <td>PUT</td>\n",
       "      <td>...</td>\n",
       "      <td>1526739206000</td>\n",
       "      <td>397</td>\n",
       "      <td>None</td>\n",
       "      <td>307</td>\n",
       "      <td>1542950180000</td>\n",
       "      <td>\"Mozilla/5.0 (Windows NT 5.1) AppleWebKit/537....</td>\n",
       "      <td>300001</td>\n",
       "      <td>2018-11-23 05:16:20</td>\n",
       "      <td>2018-05-19 14:13:26</td>\n",
       "      <td>True</td>\n",
       "    </tr>\n",
       "  </tbody>\n",
       "</table>\n",
       "<p>2578 rows × 21 columns</p>\n",
       "</div>"
      ],
      "text/plain": [
       "                                               artist       auth  firstName  \\\n",
       "0                                               Modjo  Logged In      Alexi   \n",
       "1                                       Edwyn Collins  Logged In      Alexi   \n",
       "2                                            Coldplay  Logged In      Alexi   \n",
       "3                                                 Kix  Logged In      Alexi   \n",
       "4                                                None  Logged In      Alexi   \n",
       "8                                                None  Logged In       Alex   \n",
       "9                                       The Cardigans  Logged In       Alex   \n",
       "10                                    Collective Soul  Logged In       Alex   \n",
       "11                                   Dario Marianelli  Logged In       Alex   \n",
       "12                                      David Sanborn  Logged In       Alex   \n",
       "54                                               None  Logged In  Christian   \n",
       "55                                       Crotchduster  Logged In  Christian   \n",
       "56                 Mariah Carey / Jadakiss / Styles P  Logged In  Christian   \n",
       "57                                               None  Logged In     Teagan   \n",
       "58                                            Papoose  Logged In     Teagan   \n",
       "59                                         Jami Smith  Logged In     Teagan   \n",
       "60                                             The xx  Logged In  Christian   \n",
       "61                                     The Mars Volta  Logged In  Christian   \n",
       "62                                       Ryan Bingham  Logged In     Teagan   \n",
       "64                                             Fugees  Logged In     Teagan   \n",
       "79                                       Kutt Calhoun  Logged In      Alexi   \n",
       "80                                           Deadmau5  Logged In      Alexi   \n",
       "81                                     Ray LaMontagne  Logged In      Alexi   \n",
       "82                                       Kenny Rogers  Logged In      Alexi   \n",
       "83                                       Chris Stills  Logged In      Alexi   \n",
       "90                                               None  Logged In      Ethan   \n",
       "91                                        Erykah Badu  Logged In      Ethan   \n",
       "93                                            BlÃÂ¸f  Logged In      Ethan   \n",
       "94                         Mousse T. Vs Hot 'n' Juicy  Logged In      Ethan   \n",
       "98                                    Miranda Lambert  Logged In      Ethan   \n",
       "...                                               ...        ...        ...   \n",
       "43777                                    Eddie Vedder  Logged In   Antonina   \n",
       "43778                                    Rivers Cuomo  Logged In   Antonina   \n",
       "43779                                             M83  Logged In   Antonina   \n",
       "43780                                       Radiohead  Logged In   Antonina   \n",
       "43781                                  CÃÂ©line Dion  Logged In   Antonina   \n",
       "43931                                            None  Logged In   Antonina   \n",
       "43932                                     Craig David  Logged In   Antonina   \n",
       "43933                              The Crystal Method  Logged In   Antonina   \n",
       "43934                              The Helio Sequence  Logged In   Antonina   \n",
       "43935                    Alva Noto + Ryuichi Sakamoto  Logged In   Antonina   \n",
       "44032                                     Cosmic Gate  Logged In   Antonina   \n",
       "44033                                          Pepper  Logged In   Antonina   \n",
       "44034                                   Elliott Smith  Logged In   Antonina   \n",
       "44035                       Captain Hollywood Project  Logged In   Antonina   \n",
       "44036                               Something Happens  Logged In   Antonina   \n",
       "44453                                            Dido  Logged In   Antonina   \n",
       "44454                                Isabella Taviani  Logged In   Antonina   \n",
       "44455                                      Nickelback  Logged In   Antonina   \n",
       "44456  The Presidents of the United States of America  Logged In   Antonina   \n",
       "44457                                   Valerio Scanu  Logged In   Antonina   \n",
       "44483                                     The Weavers  Logged In   Antonina   \n",
       "44484                                Alceu ValenÃÂ§a  Logged In   Antonina   \n",
       "44485                           The Innocence Mission  Logged In   Antonina   \n",
       "44486                                            None  Logged In   Antonina   \n",
       "44487                              The Avett Brothers  Logged In   Antonina   \n",
       "44559                                            None  Logged In   Antonina   \n",
       "44560                                 Black Eyed Peas  Logged In   Antonina   \n",
       "44561                                        Tub Ring  Logged In   Antonina   \n",
       "44562                                         Cracker  Logged In   Antonina   \n",
       "44563                                            None  Logged In   Antonina   \n",
       "\n",
       "      gender  itemInSession  lastName     length level  \\\n",
       "0          F              0    Warren  250.93179  paid   \n",
       "1          F              1    Warren  216.84200  paid   \n",
       "2          F              2    Warren  343.32689  paid   \n",
       "3          F              3    Warren  246.25587  paid   \n",
       "4          F              4    Warren        NaN  paid   \n",
       "8          M              1     Hogan        NaN  free   \n",
       "9          M              2     Hogan  198.21669  free   \n",
       "10         M              3     Hogan  273.47546  free   \n",
       "11         M              4     Hogan  146.99057  free   \n",
       "12         M              5     Hogan  217.73016  free   \n",
       "54         M              1  Robinson        NaN  free   \n",
       "55         M              2  Robinson  871.31383  free   \n",
       "56         M              3  Robinson  267.67628  free   \n",
       "57         F              2   Roberts        NaN  free   \n",
       "58         F              3   Roberts  154.22649  free   \n",
       "59         F              4   Roberts  386.79465  free   \n",
       "60         M              4  Robinson  188.55138  free   \n",
       "61         M              5  Robinson  257.07057  free   \n",
       "62         F              5   Roberts  123.11465  free   \n",
       "64         F              6   Roberts  290.27220  free   \n",
       "79         F              0    Warren  307.51302  paid   \n",
       "80         F              1    Warren  374.20363  paid   \n",
       "81         F              2    Warren  268.90404  paid   \n",
       "82         F              3    Warren  163.18649  paid   \n",
       "83         F              4    Warren  246.04689  paid   \n",
       "90         M              6   Johnson        NaN  paid   \n",
       "91         M              7   Johnson  289.69751  paid   \n",
       "93         M              8   Johnson  229.82485  paid   \n",
       "94         M              9   Johnson  184.29342  paid   \n",
       "98         M             10   Johnson  144.14322  paid   \n",
       "...      ...            ...       ...        ...   ...   \n",
       "43777      F              0   Kennedy  164.17914  paid   \n",
       "43778      F              1   Kennedy   26.38322  paid   \n",
       "43779      F              2   Kennedy  667.24526  paid   \n",
       "43780      F              3   Kennedy  130.82077  paid   \n",
       "43781      F              4   Kennedy  280.78975  paid   \n",
       "43931      F              0   Kennedy        NaN  paid   \n",
       "43932      F              1   Kennedy  213.34159  paid   \n",
       "43933      F              2   Kennedy  291.16036  paid   \n",
       "43934      F              3   Kennedy  258.16771  paid   \n",
       "43935      F              4   Kennedy  531.59138  paid   \n",
       "44032      F              0   Kennedy  235.17995  paid   \n",
       "44033      F              1   Kennedy  256.31302  paid   \n",
       "44034      F              2   Kennedy  195.94404  paid   \n",
       "44035      F              3   Kennedy  234.70975  paid   \n",
       "44036      F              4   Kennedy  197.92934  paid   \n",
       "44453      F              0   Kennedy  217.83465  paid   \n",
       "44454      F              1   Kennedy  224.70485  paid   \n",
       "44455      F              2   Kennedy  218.85342  paid   \n",
       "44456      F              3   Kennedy  495.77751  paid   \n",
       "44457      F              4   Kennedy  201.56036  paid   \n",
       "44483      F              0   Kennedy  203.46730  paid   \n",
       "44484      F              1   Kennedy  162.58567  paid   \n",
       "44485      F              2   Kennedy  289.38404  paid   \n",
       "44486      F              3   Kennedy        NaN  paid   \n",
       "44487      F              4   Kennedy  287.97342  paid   \n",
       "44559      F              0   Kennedy        NaN  paid   \n",
       "44560      F              1   Kennedy  296.56771  paid   \n",
       "44561      F              2   Kennedy  233.69098  paid   \n",
       "44562      F              3   Kennedy  205.03465  paid   \n",
       "44563      F              4   Kennedy        NaN  paid   \n",
       "\n",
       "                         location method  ...    registration  sessionId  \\\n",
       "0      Spokane-Spokane Valley, WA    PUT  ...   1532482662000         53   \n",
       "1      Spokane-Spokane Valley, WA    PUT  ...   1532482662000         53   \n",
       "2      Spokane-Spokane Valley, WA    PUT  ...   1532482662000         53   \n",
       "3      Spokane-Spokane Valley, WA    PUT  ...   1532482662000         53   \n",
       "4      Spokane-Spokane Valley, WA    GET  ...   1532482662000         53   \n",
       "8      Denver-Aurora-Lakewood, CO    GET  ...   1535066380000        100   \n",
       "9      Denver-Aurora-Lakewood, CO    PUT  ...   1535066380000        100   \n",
       "10     Denver-Aurora-Lakewood, CO    PUT  ...   1535066380000        100   \n",
       "11     Denver-Aurora-Lakewood, CO    PUT  ...   1535066380000        100   \n",
       "12     Denver-Aurora-Lakewood, CO    PUT  ...   1535066380000        100   \n",
       "54                  Quincy, IL-MO    GET  ...   1534942082000         86   \n",
       "55                  Quincy, IL-MO    PUT  ...   1534942082000         86   \n",
       "56                  Quincy, IL-MO    PUT  ...   1534942082000         86   \n",
       "57     New Philadelphia-Dover, OH    GET  ...   1537634865000        266   \n",
       "58     New Philadelphia-Dover, OH    PUT  ...   1537634865000        266   \n",
       "59     New Philadelphia-Dover, OH    PUT  ...   1537634865000        266   \n",
       "60                  Quincy, IL-MO    PUT  ...   1534942082000         86   \n",
       "61                  Quincy, IL-MO    PUT  ...   1534942082000         86   \n",
       "62     New Philadelphia-Dover, OH    PUT  ...   1537634865000        266   \n",
       "64     New Philadelphia-Dover, OH    PUT  ...   1537634865000        266   \n",
       "79     Spokane-Spokane Valley, WA    PUT  ...   1532482662000        260   \n",
       "80     Spokane-Spokane Valley, WA    PUT  ...   1532482662000        260   \n",
       "81     Spokane-Spokane Valley, WA    PUT  ...   1532482662000        260   \n",
       "82     Spokane-Spokane Valley, WA    PUT  ...   1532482662000        260   \n",
       "83     Spokane-Spokane Valley, WA    PUT  ...   1532482662000        260   \n",
       "90          Lexington-Fayette, KY    GET  ...   1538080987000        236   \n",
       "91          Lexington-Fayette, KY    PUT  ...   1538080987000        236   \n",
       "93          Lexington-Fayette, KY    PUT  ...   1538080987000        236   \n",
       "94          Lexington-Fayette, KY    PUT  ...   1538080987000        236   \n",
       "98          Lexington-Fayette, KY    PUT  ...   1538080987000        236   \n",
       "...                           ...    ...  ...             ...        ...   \n",
       "43777        Colorado Springs, CO    PUT  ...   1526739206000        314   \n",
       "43778        Colorado Springs, CO    PUT  ...   1526739206000        314   \n",
       "43779        Colorado Springs, CO    PUT  ...   1526739206000        314   \n",
       "43780        Colorado Springs, CO    PUT  ...   1526739206000        314   \n",
       "43781        Colorado Springs, CO    PUT  ...   1526739206000        314   \n",
       "43931        Colorado Springs, CO    GET  ...   1526739206000        339   \n",
       "43932        Colorado Springs, CO    PUT  ...   1526739206000        339   \n",
       "43933        Colorado Springs, CO    PUT  ...   1526739206000        339   \n",
       "43934        Colorado Springs, CO    PUT  ...   1526739206000        339   \n",
       "43935        Colorado Springs, CO    PUT  ...   1526739206000        339   \n",
       "44032        Colorado Springs, CO    PUT  ...   1526739206000        343   \n",
       "44033        Colorado Springs, CO    PUT  ...   1526739206000        343   \n",
       "44034        Colorado Springs, CO    PUT  ...   1526739206000        343   \n",
       "44035        Colorado Springs, CO    PUT  ...   1526739206000        343   \n",
       "44036        Colorado Springs, CO    PUT  ...   1526739206000        343   \n",
       "44453        Colorado Springs, CO    PUT  ...   1526739206000        366   \n",
       "44454        Colorado Springs, CO    PUT  ...   1526739206000        366   \n",
       "44455        Colorado Springs, CO    PUT  ...   1526739206000        366   \n",
       "44456        Colorado Springs, CO    PUT  ...   1526739206000        366   \n",
       "44457        Colorado Springs, CO    PUT  ...   1526739206000        366   \n",
       "44483        Colorado Springs, CO    PUT  ...   1526739206000        395   \n",
       "44484        Colorado Springs, CO    PUT  ...   1526739206000        395   \n",
       "44485        Colorado Springs, CO    PUT  ...   1526739206000        395   \n",
       "44486        Colorado Springs, CO    PUT  ...   1526739206000        395   \n",
       "44487        Colorado Springs, CO    PUT  ...   1526739206000        395   \n",
       "44559        Colorado Springs, CO    GET  ...   1526739206000        397   \n",
       "44560        Colorado Springs, CO    PUT  ...   1526739206000        397   \n",
       "44561        Colorado Springs, CO    PUT  ...   1526739206000        397   \n",
       "44562        Colorado Springs, CO    PUT  ...   1526739206000        397   \n",
       "44563        Colorado Springs, CO    PUT  ...   1526739206000        397   \n",
       "\n",
       "                                                 song status             ts  \\\n",
       "0                                         What I Mean    200  1538353930000   \n",
       "1      You'll Never Know (My Love) (Bovellian 07 Mix)    200  1538354180000   \n",
       "2                                             For You    200  1538354396000   \n",
       "3                                          Girl Money    200  1538354739000   \n",
       "4                                                None    200  1538354749000   \n",
       "8                                                None    200  1538358605000   \n",
       "9                                            Lovefool    200  1538358818000   \n",
       "10                                   Run (LP Version)    200  1538359016000   \n",
       "11                                       Cello Lesson    200  1538359289000   \n",
       "12                                      Little Flower    200  1538359435000   \n",
       "54                                               None    200  1538376435000   \n",
       "55                                         Crotchopus    200  1538376540000   \n",
       "56                                 We Belong Together    200  1538377411000   \n",
       "57                                               None    200  1538377521000   \n",
       "58                                        We Got Gunz    200  1538377521000   \n",
       "59                                        Water Falls    200  1538377675000   \n",
       "60                                        Basic Space    200  1538377678000   \n",
       "61                                         Concertina    200  1538377866000   \n",
       "62                                    Boracho Station    200  1538378061000   \n",
       "64                    Killing Me Softly With His Song    200  1538378184000   \n",
       "79                                  N A Whitemanzeyez    200  1538395957000   \n",
       "80       Ghosts 'n' Stuff (Original Instrumental Mix)    200  1538396264000   \n",
       "81                           Till The Sun turns Black    200  1538396638000   \n",
       "82          Christmas Is My Favorite Time Of The Year    200  1538396906000   \n",
       "83                       Lucifer & Jane  (LP Version)    200  1538397069000   \n",
       "90                                               None    200  1538398632000   \n",
       "91                                        Window Seat    200  1538398649000   \n",
       "93                                      Niets Dan Dit    200  1538398938000   \n",
       "94                                              Horny    200  1538399167000   \n",
       "98                             Me and Your Cigarettes    200  1538399351000   \n",
       "...                                               ...    ...            ...   \n",
       "43777                                      Guaranteed    200  1541597321000   \n",
       "43778                                        Oh Jonas    200  1541597485000   \n",
       "43779                     Midnight Souls Still Remain    200  1541597511000   \n",
       "43780                                     Pop Is Dead    200  1541598178000   \n",
       "43781                             My Heart Will Go On    200  1541598308000   \n",
       "43931                                            None    200  1541671300000   \n",
       "43932                 What's Your Flava? (Radio Edit)    200  1541671422000   \n",
       "43933                      Weapons of Mass Distortion    200  1541671635000   \n",
       "43934                        Broken Afternoon (Album)    200  1541671926000   \n",
       "43935                                          Aurora    200  1541672184000   \n",
       "44032                        Ultra Curve (Radio Edit)    200  1541857389000   \n",
       "44033                         Tradewinds (LP Version)    200  1541857624000   \n",
       "44034                                            L.A.    200  1541857880000   \n",
       "44035                                   More And More    200  1541858075000   \n",
       "44036                                      Burn Clear    200  1541858309000   \n",
       "44453                                       Thank You    200  1542251159000   \n",
       "44454                               ÃÂltimo GrÃÂ£o    200  1542251376000   \n",
       "44455         Something In Your Mouth (Album Version)    200  1542251600000   \n",
       "44456                                            Lump    200  1542251818000   \n",
       "44457                                       Esisti Tu    200  1542252313000   \n",
       "44483                                 So Long-Guthrie    200  1542269649000   \n",
       "44484             Recado Falado (MetrÃÂ´ Da Saudade)    200  1542269852000   \n",
       "44485                                  Walking Around    200  1542270014000   \n",
       "44486                                            None    307  1542270015000   \n",
       "44487         Head Full Of Doubt/Road Full Of Promise    200  1542270303000   \n",
       "44559                                            None    200  1542949644000   \n",
       "44560                                         Shut Up    200  1542949650000   \n",
       "44561                                         Invalid    200  1542949946000   \n",
       "44562                        I'm A Little Rocket Ship    200  1542950179000   \n",
       "44563                                            None    307  1542950180000   \n",
       "\n",
       "                                               userAgent  userId  \\\n",
       "0      Mozilla/5.0 (Windows NT 6.1; WOW64; rv:32.0) G...      54   \n",
       "1      Mozilla/5.0 (Windows NT 6.1; WOW64; rv:32.0) G...      54   \n",
       "2      Mozilla/5.0 (Windows NT 6.1; WOW64; rv:32.0) G...      54   \n",
       "3      Mozilla/5.0 (Windows NT 6.1; WOW64; rv:32.0) G...      54   \n",
       "4      Mozilla/5.0 (Windows NT 6.1; WOW64; rv:32.0) G...      54   \n",
       "8      Mozilla/5.0 (Windows NT 6.2; WOW64; rv:31.0) G...     101   \n",
       "9      Mozilla/5.0 (Windows NT 6.2; WOW64; rv:31.0) G...     101   \n",
       "10     Mozilla/5.0 (Windows NT 6.2; WOW64; rv:31.0) G...     101   \n",
       "11     Mozilla/5.0 (Windows NT 6.2; WOW64; rv:31.0) G...     101   \n",
       "12     Mozilla/5.0 (Windows NT 6.2; WOW64; rv:31.0) G...     101   \n",
       "54     \"Mozilla/5.0 (Windows NT 6.1; WOW64) AppleWebK...      87   \n",
       "55     \"Mozilla/5.0 (Windows NT 6.1; WOW64) AppleWebK...      87   \n",
       "56     \"Mozilla/5.0 (Windows NT 6.1; WOW64) AppleWebK...      87   \n",
       "57     Mozilla/5.0 (Windows NT 6.1; WOW64; Trident/7....      28   \n",
       "58     Mozilla/5.0 (Windows NT 6.1; WOW64; Trident/7....      28   \n",
       "59     Mozilla/5.0 (Windows NT 6.1; WOW64; Trident/7....      28   \n",
       "60     \"Mozilla/5.0 (Windows NT 6.1; WOW64) AppleWebK...      87   \n",
       "61     \"Mozilla/5.0 (Windows NT 6.1; WOW64) AppleWebK...      87   \n",
       "62     Mozilla/5.0 (Windows NT 6.1; WOW64; Trident/7....      28   \n",
       "64     Mozilla/5.0 (Windows NT 6.1; WOW64; Trident/7....      28   \n",
       "79     Mozilla/5.0 (Windows NT 6.1; WOW64; rv:32.0) G...      54   \n",
       "80     Mozilla/5.0 (Windows NT 6.1; WOW64; rv:32.0) G...      54   \n",
       "81     Mozilla/5.0 (Windows NT 6.1; WOW64; rv:32.0) G...      54   \n",
       "82     Mozilla/5.0 (Windows NT 6.1; WOW64; rv:32.0) G...      54   \n",
       "83     Mozilla/5.0 (Windows NT 6.1; WOW64; rv:32.0) G...      54   \n",
       "90     \"Mozilla/5.0 (Windows NT 6.1; WOW64) AppleWebK...      51   \n",
       "91     \"Mozilla/5.0 (Windows NT 6.1; WOW64) AppleWebK...      51   \n",
       "93     \"Mozilla/5.0 (Windows NT 6.1; WOW64) AppleWebK...      51   \n",
       "94     \"Mozilla/5.0 (Windows NT 6.1; WOW64) AppleWebK...      51   \n",
       "98     \"Mozilla/5.0 (Windows NT 6.1; WOW64) AppleWebK...      51   \n",
       "...                                                  ...     ...   \n",
       "43777  \"Mozilla/5.0 (Windows NT 5.1) AppleWebKit/537....  300001   \n",
       "43778  \"Mozilla/5.0 (Windows NT 5.1) AppleWebKit/537....  300001   \n",
       "43779  \"Mozilla/5.0 (Windows NT 5.1) AppleWebKit/537....  300001   \n",
       "43780  \"Mozilla/5.0 (Windows NT 5.1) AppleWebKit/537....  300001   \n",
       "43781  \"Mozilla/5.0 (Windows NT 5.1) AppleWebKit/537....  300001   \n",
       "43931  \"Mozilla/5.0 (Windows NT 5.1) AppleWebKit/537....  300001   \n",
       "43932  \"Mozilla/5.0 (Windows NT 5.1) AppleWebKit/537....  300001   \n",
       "43933  \"Mozilla/5.0 (Windows NT 5.1) AppleWebKit/537....  300001   \n",
       "43934  \"Mozilla/5.0 (Windows NT 5.1) AppleWebKit/537....  300001   \n",
       "43935  \"Mozilla/5.0 (Windows NT 5.1) AppleWebKit/537....  300001   \n",
       "44032  \"Mozilla/5.0 (Windows NT 5.1) AppleWebKit/537....  300001   \n",
       "44033  \"Mozilla/5.0 (Windows NT 5.1) AppleWebKit/537....  300001   \n",
       "44034  \"Mozilla/5.0 (Windows NT 5.1) AppleWebKit/537....  300001   \n",
       "44035  \"Mozilla/5.0 (Windows NT 5.1) AppleWebKit/537....  300001   \n",
       "44036  \"Mozilla/5.0 (Windows NT 5.1) AppleWebKit/537....  300001   \n",
       "44453  \"Mozilla/5.0 (Windows NT 5.1) AppleWebKit/537....  300001   \n",
       "44454  \"Mozilla/5.0 (Windows NT 5.1) AppleWebKit/537....  300001   \n",
       "44455  \"Mozilla/5.0 (Windows NT 5.1) AppleWebKit/537....  300001   \n",
       "44456  \"Mozilla/5.0 (Windows NT 5.1) AppleWebKit/537....  300001   \n",
       "44457  \"Mozilla/5.0 (Windows NT 5.1) AppleWebKit/537....  300001   \n",
       "44483  \"Mozilla/5.0 (Windows NT 5.1) AppleWebKit/537....  300001   \n",
       "44484  \"Mozilla/5.0 (Windows NT 5.1) AppleWebKit/537....  300001   \n",
       "44485  \"Mozilla/5.0 (Windows NT 5.1) AppleWebKit/537....  300001   \n",
       "44486  \"Mozilla/5.0 (Windows NT 5.1) AppleWebKit/537....  300001   \n",
       "44487  \"Mozilla/5.0 (Windows NT 5.1) AppleWebKit/537....  300001   \n",
       "44559  \"Mozilla/5.0 (Windows NT 5.1) AppleWebKit/537....  300001   \n",
       "44560  \"Mozilla/5.0 (Windows NT 5.1) AppleWebKit/537....  300001   \n",
       "44561  \"Mozilla/5.0 (Windows NT 5.1) AppleWebKit/537....  300001   \n",
       "44562  \"Mozilla/5.0 (Windows NT 5.1) AppleWebKit/537....  300001   \n",
       "44563  \"Mozilla/5.0 (Windows NT 5.1) AppleWebKit/537....  300001   \n",
       "\n",
       "                 timestamp registration_timestamp churn  \n",
       "0      2018-10-01 00:32:10    2018-07-25 01:37:42  True  \n",
       "1      2018-10-01 00:36:20    2018-07-25 01:37:42  True  \n",
       "2      2018-10-01 00:39:56    2018-07-25 01:37:42  True  \n",
       "3      2018-10-01 00:45:39    2018-07-25 01:37:42  True  \n",
       "4      2018-10-01 00:45:49    2018-07-25 01:37:42  True  \n",
       "8      2018-10-01 01:50:05    2018-08-23 23:19:40  True  \n",
       "9      2018-10-01 01:53:38    2018-08-23 23:19:40  True  \n",
       "10     2018-10-01 01:56:56    2018-08-23 23:19:40  True  \n",
       "11     2018-10-01 02:01:29    2018-08-23 23:19:40  True  \n",
       "12     2018-10-01 02:03:55    2018-08-23 23:19:40  True  \n",
       "54     2018-10-01 06:47:15    2018-08-22 12:48:02  True  \n",
       "55     2018-10-01 06:49:00    2018-08-22 12:48:02  True  \n",
       "56     2018-10-01 07:03:31    2018-08-22 12:48:02  True  \n",
       "57     2018-10-01 07:05:21    2018-09-22 16:47:45  True  \n",
       "58     2018-10-01 07:05:21    2018-09-22 16:47:45  True  \n",
       "59     2018-10-01 07:07:55    2018-09-22 16:47:45  True  \n",
       "60     2018-10-01 07:07:58    2018-08-22 12:48:02  True  \n",
       "61     2018-10-01 07:11:06    2018-08-22 12:48:02  True  \n",
       "62     2018-10-01 07:14:21    2018-09-22 16:47:45  True  \n",
       "64     2018-10-01 07:16:24    2018-09-22 16:47:45  True  \n",
       "79     2018-10-01 12:12:37    2018-07-25 01:37:42  True  \n",
       "80     2018-10-01 12:17:44    2018-07-25 01:37:42  True  \n",
       "81     2018-10-01 12:23:58    2018-07-25 01:37:42  True  \n",
       "82     2018-10-01 12:28:26    2018-07-25 01:37:42  True  \n",
       "83     2018-10-01 12:31:09    2018-07-25 01:37:42  True  \n",
       "90     2018-10-01 12:57:12    2018-09-27 20:43:07  True  \n",
       "91     2018-10-01 12:57:29    2018-09-27 20:43:07  True  \n",
       "93     2018-10-01 13:02:18    2018-09-27 20:43:07  True  \n",
       "94     2018-10-01 13:06:07    2018-09-27 20:43:07  True  \n",
       "98     2018-10-01 13:09:11    2018-09-27 20:43:07  True  \n",
       "...                    ...                    ...   ...  \n",
       "43777  2018-11-07 13:28:41    2018-05-19 14:13:26  True  \n",
       "43778  2018-11-07 13:31:25    2018-05-19 14:13:26  True  \n",
       "43779  2018-11-07 13:31:51    2018-05-19 14:13:26  True  \n",
       "43780  2018-11-07 13:42:58    2018-05-19 14:13:26  True  \n",
       "43781  2018-11-07 13:45:08    2018-05-19 14:13:26  True  \n",
       "43931  2018-11-08 10:01:40    2018-05-19 14:13:26  True  \n",
       "43932  2018-11-08 10:03:42    2018-05-19 14:13:26  True  \n",
       "43933  2018-11-08 10:07:15    2018-05-19 14:13:26  True  \n",
       "43934  2018-11-08 10:12:06    2018-05-19 14:13:26  True  \n",
       "43935  2018-11-08 10:16:24    2018-05-19 14:13:26  True  \n",
       "44032  2018-11-10 13:43:09    2018-05-19 14:13:26  True  \n",
       "44033  2018-11-10 13:47:04    2018-05-19 14:13:26  True  \n",
       "44034  2018-11-10 13:51:20    2018-05-19 14:13:26  True  \n",
       "44035  2018-11-10 13:54:35    2018-05-19 14:13:26  True  \n",
       "44036  2018-11-10 13:58:29    2018-05-19 14:13:26  True  \n",
       "44453  2018-11-15 03:05:59    2018-05-19 14:13:26  True  \n",
       "44454  2018-11-15 03:09:36    2018-05-19 14:13:26  True  \n",
       "44455  2018-11-15 03:13:20    2018-05-19 14:13:26  True  \n",
       "44456  2018-11-15 03:16:58    2018-05-19 14:13:26  True  \n",
       "44457  2018-11-15 03:25:13    2018-05-19 14:13:26  True  \n",
       "44483  2018-11-15 08:14:09    2018-05-19 14:13:26  True  \n",
       "44484  2018-11-15 08:17:32    2018-05-19 14:13:26  True  \n",
       "44485  2018-11-15 08:20:14    2018-05-19 14:13:26  True  \n",
       "44486  2018-11-15 08:20:15    2018-05-19 14:13:26  True  \n",
       "44487  2018-11-15 08:25:03    2018-05-19 14:13:26  True  \n",
       "44559  2018-11-23 05:07:24    2018-05-19 14:13:26  True  \n",
       "44560  2018-11-23 05:07:30    2018-05-19 14:13:26  True  \n",
       "44561  2018-11-23 05:12:26    2018-05-19 14:13:26  True  \n",
       "44562  2018-11-23 05:16:19    2018-05-19 14:13:26  True  \n",
       "44563  2018-11-23 05:16:20    2018-05-19 14:13:26  True  \n",
       "\n",
       "[2578 rows x 21 columns]"
      ]
     },
     "execution_count": 47,
     "metadata": {},
     "output_type": "execute_result"
    }
   ],
   "source": [
    "df_test.head()"
   ]
  },
  {
   "cell_type": "code",
   "execution_count": 48,
   "metadata": {},
   "outputs": [],
   "source": [
    "# thumbs down per session\n",
    "\n",
    "df_churn_t_thumbsdown = df_churn_t.filter(df_churn_t.page == 'Thumbs Down')\n",
    "df_churn_t_thumbsdown = df_churn_t_thumbsdown.groupby(df_churn_t.sessionId).count()\n",
    "df_churn_t_thumbsdown = df_churn_t_thumbsdown.orderBy(df_churn_t.sessionId.cast(\"float\")) \n",
    "df_churn_t_thumbsdown = df_churn_t_thumbsdown.withColumnRenamed('count', 'Thumbs Down churn')\n",
    "\n",
    "df_churn_f_thumbsdown = df_churn_f.filter(df_churn_f.page == 'Thumbs Down')\n",
    "df_churn_f_thumbsdown = df_churn_f_thumbsdown.groupby(df_churn_f.sessionId).count()\n",
    "df_churn_f_thumbsdown = df_churn_f_thumbsdown.orderBy(df_churn_f.sessionId.cast(\"float\")) \n",
    "df_churn_f_thumbsdown = df_churn_f_thumbsdown.withColumnRenamed('count', 'Thumbs Down non_churn')\n",
    "        \n",
    "df_churn_thumbsdown_spark = df_churn_t_thumbsdown.join(df_churn_f_thumbsdown, how='left', on='sessionId')\n",
    "df_churn_thumbsdown_pd = df_churn_thumbsdown_spark.drop('sessionId').toPandas()"
   ]
  },
  {
   "cell_type": "code",
   "execution_count": 49,
   "metadata": {},
   "outputs": [
    {
     "data": {
      "image/png": "[encoded data removed]",
      "text/plain": [
       "<matplotlib.figure.Figure at 0x7f0390fc99e8>"
      ]
     },
     "metadata": {
      "needs_background": "light"
     },
     "output_type": "display_data"
    }
   ],
   "source": [
    "df_churn_thumbsdown_pd.plot(kind='hist', color=['red','blue'], bins = 7);"
   ]
  },
  {
   "cell_type": "code",
   "execution_count": 50,
   "metadata": {},
   "outputs": [
    {
     "data": {
      "image/png": "[encoded data removed]",
      "text/plain": [
       "<matplotlib.figure.Figure at 0x7f0392b636a0>"
      ]
     },
     "metadata": {
      "needs_background": "light"
     },
     "output_type": "display_data"
    }
   ],
   "source": [
    "df_churn_thumbsdown_pd.boxplot();"
   ]
  },
  {
   "cell_type": "markdown",
   "metadata": {},
   "source": [
    "Users who use more thumbs down per session are more likely to churn"
   ]
  },
  {
   "cell_type": "markdown",
   "metadata": {},
   "source": [
    "In the next step, we look at the number of page visits per type per session for each userId"
   ]
  },
  {
   "cell_type": "code",
   "execution_count": 4,
   "metadata": {},
   "outputs": [],
   "source": [
    "def sum_per_session(df_churn, df_non_churn, page_name):\n",
    "    '''\n",
    "    Function which summarizes page visits per session of churn and non_churn dataset.\n",
    "    \n",
    "    INPUT: \n",
    "    df_churn - dataframe containing Sparkify log events for curned users\n",
    "    df_non_churn - dataframe containing Sparkify log events for non curned users\n",
    "    page_name - name of page\n",
    "    \n",
    "    \n",
    "    OUTPUT:\n",
    "    df_churn_spark\n",
    "    df_churn_pd \n",
    "    \n",
    "    '''\n",
    "    df_churn_page = df_churn.filter(df_churn.page == page_name)\n",
    "    df_churn_page = df_churn_page.groupby(df_churn_page.sessionId).count()\n",
    "    df_churn_page = df_churn_page.orderBy(df_churn_page.sessionId.cast(\"float\")) \n",
    "    df_churn_page = df_churn_page.withColumnRenamed('count', page_name + '_churn')\n",
    "    \n",
    "    df_non_churn_page = df_non_churn.filter(df_non_churn.page == page_name)\n",
    "    df_non_churn_page = df_non_churn_page.groupby(df_non_churn_page.sessionId).count()\n",
    "    df_non_churn_page = df_non_churn_page.orderBy(df_non_churn_page.sessionId.cast(\"float\")) \n",
    "    df_non_churn_page = df_non_churn_page.withColumnRenamed('count', page_name + '_non_churn')\n",
    "\n",
    "    df_churn_spark = df_churn_page.join(df_non_churn_page, how='left', on='sessionId')\n",
    "    df_churn_pd = df_churn_spark.drop('sessionId').toPandas()\n",
    "    \n",
    "    return df_churn_spark, df_churn_pd    "
   ]
  },
  {
   "cell_type": "code",
   "execution_count": 52,
   "metadata": {},
   "outputs": [
    {
     "name": "stdout",
     "output_type": "stream",
     "text": [
      "Cancel\n",
      "Submit Downgrade\n",
      "Thumbs Down\n",
      "Home\n",
      "Downgrade\n",
      "Roll Advert\n",
      "Logout\n",
      "Save Settings\n",
      "Cancellation Confirmation\n",
      "About\n",
      "Settings\n",
      "Add to Playlist\n",
      "Add Friend\n",
      "NextSong\n",
      "Thumbs Up\n",
      "Help\n",
      "Upgrade\n",
      "Error\n",
      "Submit Upgrade\n"
     ]
    },
    {
     "data": {
      "image/png": "[encoded data removed]",
      "text/plain": [
       "<matplotlib.figure.Figure at 0x7f03913d2b00>"
      ]
     },
     "metadata": {
      "needs_background": "light"
     },
     "output_type": "display_data"
    },
    {
     "data": {
      "image/png": "[encoded data removed]",
      "text/plain": [
       "<matplotlib.figure.Figure at 0x7f039b76d0f0>"
      ]
     },
     "metadata": {
      "needs_background": "light"
     },
     "output_type": "display_data"
    },
    {
     "data": {
      "image/png": "[encoded data removed]",
      "text/plain": [
       "<matplotlib.figure.Figure at 0x7f0392a24f28>"
      ]
     },
     "metadata": {
      "needs_background": "light"
     },
     "output_type": "display_data"
    },
    {
     "data": {
      "image/png": "[encoded data removed]",
      "text/plain": [
       "<matplotlib.figure.Figure at 0x7f03910f1588>"
      ]
     },
     "metadata": {
      "needs_background": "light"
     },
     "output_type": "display_data"
    },
    {
     "data": {
      "image/png": "[encoded data removed]",
      "text/plain": [
       "<matplotlib.figure.Figure at 0x7f03a09d6710>"
      ]
     },
     "metadata": {
      "needs_background": "light"
     },
     "output_type": "display_data"
    },
    {
     "data": {
      "image/png": "[encoded data removed]",
      "text/plain": [
       "<matplotlib.figure.Figure at 0x7f038c6a0eb8>"
      ]
     },
     "metadata": {
      "needs_background": "light"
     },
     "output_type": "display_data"
    },
    {
     "data": {
      "image/png": "[encoded data removed]",
      "text/plain": [
       "<matplotlib.figure.Figure at 0x7f039aa44f60>"
      ]
     },
     "metadata": {
      "needs_background": "light"
     },
     "output_type": "display_data"
    },
    {
     "data": {
      "image/png": "[encoded data removed]",
      "text/plain": [
       "<matplotlib.figure.Figure at 0x7f0394deb6a0>"
      ]
     },
     "metadata": {
      "needs_background": "light"
     },
     "output_type": "display_data"
    },
    {
     "data": {
      "image/png": "[encoded data removed]",
      "text/plain": [
       "<matplotlib.figure.Figure at 0x7f038c788f60>"
      ]
     },
     "metadata": {
      "needs_background": "light"
     },
     "output_type": "display_data"
    },
    {
     "data": {
      "image/png": "[encoded data removed]",
      "text/plain": [
       "<matplotlib.figure.Figure at 0x7f038a8554a8>"
      ]
     },
     "metadata": {
      "needs_background": "light"
     },
     "output_type": "display_data"
    },
    {
     "data": {
      "image/png": "[encoded data removed]",
      "text/plain": [
       "<matplotlib.figure.Figure at 0x7f0394da5400>"
      ]
     },
     "metadata": {
      "needs_background": "light"
     },
     "output_type": "display_data"
    },
    {
     "data": {
      "image/png": "[encoded data removed]",
      "text/plain": [
       "<matplotlib.figure.Figure at 0x7f03a1022e48>"
      ]
     },
     "metadata": {
      "needs_background": "light"
     },
     "output_type": "display_data"
    },
    {
     "data": {
      "image/png": "[encoded data removed]",
      "text/plain": [
       "<matplotlib.figure.Figure at 0x7f0394b8ff60>"
      ]
     },
     "metadata": {
      "needs_background": "light"
     },
     "output_type": "display_data"
    },
    {
     "data": {
      "image/png": "[encoded data removed]",
      "text/plain": [
       "<matplotlib.figure.Figure at 0x7f038e349518>"
      ]
     },
     "metadata": {
      "needs_background": "light"
     },
     "output_type": "display_data"
    },
    {
     "data": {
      "image/png": "[encoded data removed]",
      "text/plain": [
       "<matplotlib.figure.Figure at 0x7f0388498ac8>"
      ]
     },
     "metadata": {
      "needs_background": "light"
     },
     "output_type": "display_data"
    },
    {
     "data": {
      "image/png": "[encoded data removed]",
      "text/plain": [
       "<matplotlib.figure.Figure at 0x7f03902bd748>"
      ]
     },
     "metadata": {
      "needs_background": "light"
     },
     "output_type": "display_data"
    },
    {
     "data": {
      "image/png": "[encoded data removed]",
      "text/plain": [
       "<matplotlib.figure.Figure at 0x7f038deefb38>"
      ]
     },
     "metadata": {
      "needs_background": "light"
     },
     "output_type": "display_data"
    },
    {
     "data": {
      "image/png": "[encoded data removed]",
      "text/plain": [
       "<matplotlib.figure.Figure at 0x7f038a4a1f60>"
      ]
     },
     "metadata": {
      "needs_background": "light"
     },
     "output_type": "display_data"
    },
    {
     "data": {
      "image/png": "[encoded data removed]",
      "text/plain": [
       "<matplotlib.figure.Figure at 0x7f038781db38>"
      ]
     },
     "metadata": {
      "needs_background": "light"
     },
     "output_type": "display_data"
    }
   ],
   "source": [
    "for page in page_names:\n",
    "    print(page)\n",
    "    \n",
    "    sp, pd = sum_per_session(df_churn_t, df_churn_f, page)\n",
    "    \n",
    "    pd.plot(kind='hist', color=['red','blue']);   "
   ]
  },
  {
   "cell_type": "markdown",
   "metadata": {},
   "source": [
    "It seems that the following features could have an impact, in weather a user will churn or not:\n",
    "* gender\n",
    "* songs played\n",
    "* events \n",
    "* thumbs up\n",
    "* thumbs down\n",
    "* add friend"
   ]
  },
  {
   "cell_type": "markdown",
   "metadata": {},
   "source": [
    "# Feature Engineering\n",
    "Once you've familiarized yourself with the data, build out the features you find promising to train your model on. To work with the full dataset, you can follow the following steps.\n",
    "- Write a script to extract the necessary features from the smaller subset of data\n",
    "- Ensure that your script is scalable, using the best practices discussed in Lesson 3\n",
    "- Try your script on the full data set, debugging your script if necessary\n",
    "\n",
    "If you are working in the classroom workspace, you can just extract features based on the small subset of data contained here. Be sure to transfer over this work to the larger dataset when you work on your Spark cluster."
   ]
  },
  {
   "cell_type": "markdown",
   "metadata": {},
   "source": [
    "Based on the findings of the above analyses, we will use the following features for classification in the remaining part of the project:\n",
    "\n",
    "* gender\n",
    "* songs played\n",
    "* events \n",
    "* thumbs up\n",
    "* thumbs down\n",
    "* add friend"
   ]
  },
  {
   "cell_type": "code",
   "execution_count": 5,
   "metadata": {},
   "outputs": [],
   "source": [
    "def extract_features(df):\n",
    "    '''\n",
    "    Script to prepare dataset and extract the necessary features from the dataset\n",
    "    \n",
    "    INPUT:\n",
    "    df - initial raw dataset\n",
    "    \n",
    "    OUTPUT:\n",
    "    df - processed initial dataset\n",
    "    df_features - prepared final dataset containing features and labels\n",
    "    \n",
    "    '''\n",
    "    \n",
    "    \n",
    "    # data cleaning with above function    \n",
    "    df = clean_dataset(df)   \n",
    "    \n",
    "    #define churn and add to dataset\n",
    "    churn = df.filter(df.page=='Cancellation Confirmation').select('userId').dropDuplicates()    \n",
    "    churn_users = [(row['userId']) for row in churn.collect()]    \n",
    "    #df = df.withColumn('churn', df.userId.isin(churn_users))\n",
    "    true_churn = udf(lambda x: 1 if x in churn_users else 0, IntegerType())\n",
    "    \n",
    "    df = df.withColumn('label', true_churn('userId'))\n",
    "    \n",
    "    convert_timestamp_to_date = udf(lambda x: datetime.datetime.fromtimestamp(x / 1000.0).strftime(\"%Y-%m-%d\"))      \n",
    "    \n",
    "    # create column date\n",
    "    df = df.withColumn('date', convert_timestamp_to_date(df.ts))\n",
    "    \n",
    "    # create column songs_per_day with avergage number of songs played by user   \n",
    "    w = Window.partitionBy('userId', 'date')\n",
    "    avg_songs = df.where(df.page == 'NextSong').select('userId', 'date', count('userId').over(w).alias('avg_songs')).distinct()\n",
    "    w = Window.partitionBy('userId')\n",
    "    avg_songs = avg_songs.withColumn('songs_per_day', avg('avg_songs').over(w))\n",
    "    avg_songs = avg_songs.select(col('userId').alias('songs_per_userId'), 'songs_per_day')\n",
    "    avg_songs = avg_songs.withColumn('songs_per_day', round(avg_songs['songs_per_day'], 2))\n",
    "    \n",
    "    # create column events_per_day with avergage number of events by user   \n",
    "    w = Window.partitionBy('userId', 'date')\n",
    "    avg_events = df.select('userId', 'date', count('userId').over(w).alias('avg_events')).distinct()\n",
    "    w = Window.partitionBy('userId')\n",
    "    avg_events = avg_events.withColumn('events_per_day', avg('avg_events').over(w))\n",
    "    avg_events = avg_events.select(col('userId').alias('events_per_userId'), 'events_per_day')\n",
    "    avg_events = avg_events.withColumn('events_per_day', round(avg_events['events_per_day'], 2))\n",
    "    \n",
    "    # create columns for number of 'thumbs up' anbd 'thumbs down' per user\n",
    "    w = Window.partitionBy('userId')    \n",
    "    thumbs_up = df.where(df.page == 'Thumbs Up').select('userId', count('userId').over(w).alias('thumbs_up')).distinct()\n",
    "    thumbs_up = thumbs_up.select(col('userId').alias('thumbs_up_userId'), 'thumbs_up')\n",
    "    thumbs_down = df.where(df.page == 'Thumbs Down').select('userId', count('userId').over(w).alias('thumbs_down')).distinct()\n",
    "    thumbs_down = thumbs_down.select(col('userId').alias('thumbs_down_userId'), 'thumbs_down')\n",
    "    \n",
    "    # create columb for number of added friends per user\n",
    "    \n",
    "    w = Window.partitionBy('userId')\n",
    "    add_friend = df.where(df.page == 'Add Friend').select('userId', count('userId').over(w).alias('add_friend')).distinct()\n",
    "    add_friend = add_friend.select(col('userId').alias('add_friend_userId'), 'add_friend')\n",
    "    \n",
    "    \n",
    "    # create final dataset\n",
    "    \n",
    "    df_features = df.select(['userId', 'gender', 'page', 'timestamp', 'level', 'song', 'sessionId', 'length', 'label']).dropna().drop_duplicates()\n",
    "    \n",
    "    df_features = df_features.join(avg_songs, df_features.userId == avg_songs.songs_per_userId).distinct()\n",
    "    df_features = df_features.join(avg_events, df_features.userId == avg_events.events_per_userId).distinct()\n",
    "    df_features = df_features.join(thumbs_up, df_features.userId == thumbs_up.thumbs_up_userId, how='left').distinct()\n",
    "    df_features = df_features.join(thumbs_down, df_features.userId == thumbs_down.thumbs_down_userId, how='left').distinct()\n",
    "    df_features = df_features.fillna(0, subset=['thumbs_up'])\n",
    "    df_features = df_features.fillna(0, subset=['thumbs_down'])\n",
    "    df_features = df_features.join(add_friend, df_features.userId == add_friend.add_friend_userId, how='left').distinct()\n",
    "    df_features = df_features.fillna(0, subset=['add_friend'])\n",
    "    df_features = df_features.drop('songs_per_userId', 'events_per_userId', 'thumbs_up_userId', 'thumbs_down_userId', 'add_friend_userId')\n",
    "\n",
    "    \n",
    "    return df, df_features   \n"
   ]
  },
  {
   "cell_type": "code",
   "execution_count": 6,
   "metadata": {},
   "outputs": [],
   "source": [
    "# try script on dataset\n",
    "\n",
    "df_new = spark.read.json('mini_sparkify_event_data.json')\n",
    "\n",
    "df_processed, df_features = extract_features(df_new)"
   ]
  },
  {
   "cell_type": "code",
   "execution_count": 55,
   "metadata": {},
   "outputs": [
    {
     "name": "stdout",
     "output_type": "stream",
     "text": [
      "+------+------+--------+-------------------+-----+--------------------+---------+---------+-----+-------------+--------------+---------+-----------+----------+\n",
      "|userId|gender|    page|          timestamp|level|                song|sessionId|   length|label|songs_per_day|events_per_day|thumbs_up|thumbs_down|add_friend|\n",
      "+------+------+--------+-------------------+-----+--------------------+---------+---------+-----+-------------+--------------+---------+-----------+----------+\n",
      "|100010|     F|NextSong|2018-11-09 07:06:28| free|How I (Learned My...|      174|134.73914|    0|        39.29|         54.43|       17|          5|         4|\n",
      "|100010|     F|NextSong|2018-11-05 11:00:13| free|       It's All Good|      133|181.10649|    0|        39.29|         54.43|       17|          5|         4|\n",
      "|100010|     F|NextSong|2018-10-08 14:10:41| free|          Coma White|       31|338.18077|    0|        39.29|         54.43|       17|          5|         4|\n",
      "|100010|     F|NextSong|2018-11-09 04:15:23| free|           Wild Love|      174|188.96934|    0|        39.29|         54.43|       17|          5|         4|\n",
      "|100010|     F|NextSong|2018-11-09 03:43:00| free|     Always Remember|      174|213.34159|    0|        39.29|         54.43|       17|          5|         4|\n",
      "|100010|     F|NextSong|2018-11-09 06:28:19| free|     Time To Pretend|      174|264.17587|    0|        39.29|         54.43|       17|          5|         4|\n",
      "|100010|     F|NextSong|2018-10-20 14:30:53| free|               Tides|      118|188.29016|    0|        39.29|         54.43|       17|          5|         4|\n",
      "|100010|     F|NextSong|2018-11-05 10:04:15| free|           Matricide|      133|320.57424|    0|        39.29|         54.43|       17|          5|         4|\n",
      "|100010|     F|NextSong|2018-11-05 13:18:30| free|       American Ride|      133|167.91465|    0|        39.29|         54.43|       17|          5|         4|\n",
      "|100010|     F|NextSong|2018-11-05 12:35:22| free|            Superman|      133|350.11873|    0|        39.29|         54.43|       17|          5|         4|\n",
      "|100010|     F|NextSong|2018-11-09 06:39:20| free|             Scraper|      174| 223.4771|    0|        39.29|         54.43|       17|          5|         4|\n",
      "|100010|     F|NextSong|2018-11-09 08:05:30| free|      Jersey (Album)|      174|209.89342|    0|        39.29|         54.43|       17|          5|         4|\n",
      "|100010|     F|NextSong|2018-11-09 05:07:03| free|      Stuck With You|      174|269.63546|    0|        39.29|         54.43|       17|          5|         4|\n",
      "|100010|     F|NextSong|2018-10-08 13:02:16| free|Beautiful_ Beauti...|       31|196.54485|    0|        39.29|         54.43|       17|          5|         4|\n",
      "|100010|     F|NextSong|2018-11-09 05:31:34| free|               Drive|      174|232.46322|    0|        39.29|         54.43|       17|          5|         4|\n",
      "|100010|     F|NextSong|2018-11-21 17:01:22| free|     Flashing Lights|      187|237.47873|    0|        39.29|         54.43|       17|          5|         4|\n",
      "|100010|     F|NextSong|2018-10-20 16:14:41| free|         Me Pregunto|      118|187.53261|    0|        39.29|         54.43|       17|          5|         4|\n",
      "|100010|     F|NextSong|2018-10-20 16:52:37| free|Dogs Rule The Nig...|      118|202.34404|    0|        39.29|         54.43|       17|          5|         4|\n",
      "|100010|     F|NextSong|2018-11-09 06:21:39| free|       Big My Secret|      174|173.58322|    0|        39.29|         54.43|       17|          5|         4|\n",
      "|100010|     F|NextSong|2018-11-21 17:34:22| free|        Already Gone|      187| 281.5473|    0|        39.29|         54.43|       17|          5|         4|\n",
      "+------+------+--------+-------------------+-----+--------------------+---------+---------+-----+-------------+--------------+---------+-----------+----------+\n",
      "only showing top 20 rows\n",
      "\n"
     ]
    }
   ],
   "source": [
    "df_features.show()"
   ]
  },
  {
   "cell_type": "markdown",
   "metadata": {},
   "source": [
    "# Modeling\n",
    "Split the full dataset into train, test, and validation sets. Test out several of the machine learning methods you learned. Evaluate the accuracy of the various models, tuning parameters as necessary. Determine your winning model based on test accuracy and report results on the validation set. Since the churned users are a fairly small subset, I suggest using F1 score as the metric to optimize."
   ]
  },
  {
   "cell_type": "markdown",
   "metadata": {},
   "source": [
    "#### Split clean Dataset into train, test and validation sets"
   ]
  },
  {
   "cell_type": "code",
   "execution_count": 7,
   "metadata": {},
   "outputs": [],
   "source": [
    "# split into train, test and validation sets\n",
    "# source: https://stackoverflow.com/questions/40293970/spark-data-frame-random-splitting#40295318\n",
    "\n",
    "df = df_features\n",
    "random_seed = 31\n",
    "\n",
    "train, test_valid = df.randomSplit([0.8, 0.2], seed = random_seed)\n",
    "test, valid = df.randomSplit([0.5, 0.5], seed = random_seed)\n",
    "\n"
   ]
  },
  {
   "cell_type": "code",
   "execution_count": 57,
   "metadata": {},
   "outputs": [
    {
     "name": "stdout",
     "output_type": "stream",
     "text": [
      "+------+------+--------+-------------------+-----+--------------------+---------+---------+-----+-------------+--------------+---------+-----------+----------+\n",
      "|userId|gender|    page|          timestamp|level|                song|sessionId|   length|label|songs_per_day|events_per_day|thumbs_up|thumbs_down|add_friend|\n",
      "+------+------+--------+-------------------+-----+--------------------+---------+---------+-----+-------------+--------------+---------+-----------+----------+\n",
      "|100010|     F|NextSong|2018-11-09 07:06:28| free|How I (Learned My...|      174|134.73914|    0|        39.29|         54.43|       17|          5|         4|\n",
      "|100010|     F|NextSong|2018-11-05 11:00:13| free|       It's All Good|      133|181.10649|    0|        39.29|         54.43|       17|          5|         4|\n",
      "|100010|     F|NextSong|2018-10-08 14:10:41| free|          Coma White|       31|338.18077|    0|        39.29|         54.43|       17|          5|         4|\n",
      "|100010|     F|NextSong|2018-11-09 04:15:23| free|           Wild Love|      174|188.96934|    0|        39.29|         54.43|       17|          5|         4|\n",
      "|100010|     F|NextSong|2018-11-09 03:43:00| free|     Always Remember|      174|213.34159|    0|        39.29|         54.43|       17|          5|         4|\n",
      "|100010|     F|NextSong|2018-11-09 06:28:19| free|     Time To Pretend|      174|264.17587|    0|        39.29|         54.43|       17|          5|         4|\n",
      "|100010|     F|NextSong|2018-10-20 14:30:53| free|               Tides|      118|188.29016|    0|        39.29|         54.43|       17|          5|         4|\n",
      "|100010|     F|NextSong|2018-11-05 10:04:15| free|           Matricide|      133|320.57424|    0|        39.29|         54.43|       17|          5|         4|\n",
      "|100010|     F|NextSong|2018-11-05 13:18:30| free|       American Ride|      133|167.91465|    0|        39.29|         54.43|       17|          5|         4|\n",
      "|100010|     F|NextSong|2018-11-05 12:35:22| free|            Superman|      133|350.11873|    0|        39.29|         54.43|       17|          5|         4|\n",
      "|100010|     F|NextSong|2018-11-09 06:39:20| free|             Scraper|      174| 223.4771|    0|        39.29|         54.43|       17|          5|         4|\n",
      "|100010|     F|NextSong|2018-11-09 08:05:30| free|      Jersey (Album)|      174|209.89342|    0|        39.29|         54.43|       17|          5|         4|\n",
      "|100010|     F|NextSong|2018-11-09 05:07:03| free|      Stuck With You|      174|269.63546|    0|        39.29|         54.43|       17|          5|         4|\n",
      "|100010|     F|NextSong|2018-10-08 13:02:16| free|Beautiful_ Beauti...|       31|196.54485|    0|        39.29|         54.43|       17|          5|         4|\n",
      "|100010|     F|NextSong|2018-11-09 05:31:34| free|               Drive|      174|232.46322|    0|        39.29|         54.43|       17|          5|         4|\n",
      "|100010|     F|NextSong|2018-11-21 17:01:22| free|     Flashing Lights|      187|237.47873|    0|        39.29|         54.43|       17|          5|         4|\n",
      "|100010|     F|NextSong|2018-10-20 16:14:41| free|         Me Pregunto|      118|187.53261|    0|        39.29|         54.43|       17|          5|         4|\n",
      "|100010|     F|NextSong|2018-10-20 16:52:37| free|Dogs Rule The Nig...|      118|202.34404|    0|        39.29|         54.43|       17|          5|         4|\n",
      "|100010|     F|NextSong|2018-11-09 06:21:39| free|       Big My Secret|      174|173.58322|    0|        39.29|         54.43|       17|          5|         4|\n",
      "|100010|     F|NextSong|2018-11-21 17:34:22| free|        Already Gone|      187| 281.5473|    0|        39.29|         54.43|       17|          5|         4|\n",
      "+------+------+--------+-------------------+-----+--------------------+---------+---------+-----+-------------+--------------+---------+-----------+----------+\n",
      "only showing top 20 rows\n",
      "\n"
     ]
    }
   ],
   "source": [
    "df.show()"
   ]
  },
  {
   "cell_type": "markdown",
   "metadata": {},
   "source": [
    "Since the goal is to classify, weather a user will churn or not, we will user three of the most common classifier models: Logistic Regression, Random Forest Classifier and the Gradient Boosted Tree Classifier\n",
    "\n",
    "To validate and optimize our models, we will use the F1 metric, since the dataset contains largely unbalanced data of churned an non churned users"
   ]
  },
  {
   "cell_type": "code",
   "execution_count": 8,
   "metadata": {},
   "outputs": [],
   "source": [
    "def model_train_and_summarize(model, train, test, features):\n",
    "    '''\n",
    "    Script to train selected model on train dataset and vaidate the results on train and test dataset\n",
    "    \n",
    "    INPUT:\n",
    "    model - type of ml model (lr, rf, gbt)\n",
    "    train - train data set\n",
    "    test - test data set\n",
    "    features - feature vector\n",
    "    \n",
    "    OUTPUT:\n",
    "    model - trained ml model    \n",
    "    '''\n",
    "    \n",
    "    # prepare parts of ml pipeline\n",
    "    gender_indexer = StringIndexer(inputCol = 'gender', outputCol = 'gender_idx')\n",
    "    assembler = VectorAssembler(inputCols= features, outputCol = 'features')\n",
    "    NScaler = MinMaxScaler(inputCol = 'features', outputCol = 'scaled_features')\n",
    "    \n",
    "    #define ml models\n",
    "    lr = LogisticRegression(labelCol = 'label', fitIntercept = False, featuresCol = 'scaled_features', maxIter = 10, regParam=0.3, elasticNetParam = 0.8)\n",
    "    rf = RandomForestClassifier(labelCol = 'label', featuresCol = 'features', numTrees = 15)\n",
    "    gbt = GBTClassifier(labelCol=\"label\", featuresCol=\"features\", maxIter=7)\n",
    "        \n",
    "    if model == 'lr':\n",
    "        model = lr\n",
    "    elif model == 'rf':\n",
    "        model = rf\n",
    "    elif model == 'gbt':\n",
    "        model = gbt\n",
    "    else: print('Error: Undefined Model for training. Use lr, rf or gbt')\n",
    "    \n",
    "    #set up ml pipeline\n",
    "    pipeline = Pipeline(stages=[gender_indexer, assembler, NScaler, model])\n",
    "    \n",
    "    #train model\n",
    "    start_time = time.time()\n",
    "    model = pipeline.fit(train)\n",
    "    end_time = time.time()\n",
    "     \n",
    "    #predict\n",
    "    pred_train = model.transform(train)\n",
    "    pred_test = model.transform(test)            \n",
    "    \n",
    "    predictionAndLabels_train = pred_train.rdd.map(lambda lp: (float(lp.prediction), float(lp.label)))\n",
    "    predictionAndLabels_test = pred_test.rdd.map(lambda lp: (float(lp.prediction), float(lp.label)))\n",
    "     \n",
    "    #calculate metrics    \n",
    "    metrics_train = MulticlassMetrics(predictionAndLabels_train)\n",
    "    metrics_test = MulticlassMetrics(predictionAndLabels_test)\n",
    "    \n",
    "    #print results\n",
    "    print('Training Time: {0:.2f} seconds'.format(end_time - start_time))\n",
    "    print('\\nResults for training data:')\n",
    "    print('F1 score: {}'.format(metrics_train.fMeasure()))\n",
    "    print('\\nResults for test data:')\n",
    "    print('F1 score: {}'.format(metrics_test.fMeasure()))\n",
    "    \n",
    "    #return trained model\n",
    "    return model\n",
    "        "
   ]
  },
  {
   "cell_type": "markdown",
   "metadata": {},
   "source": [
    "#### Baseline Model\n",
    "\n",
    "As the churns are a small group in the dataset, we will initialize a baseline model with all users labeled as non churned (False or 0.0)"
   ]
  },
  {
   "cell_type": "code",
   "execution_count": 125,
   "metadata": {},
   "outputs": [],
   "source": [
    "baseline_model = test.withColumn('pred', lit(0.0))"
   ]
  },
  {
   "cell_type": "code",
   "execution_count": 126,
   "metadata": {},
   "outputs": [],
   "source": [
    "evaluator = MulticlassClassificationEvaluator(predictionCol='pred')"
   ]
  },
  {
   "cell_type": "code",
   "execution_count": 127,
   "metadata": {},
   "outputs": [
    {
     "name": "stdout",
     "output_type": "stream",
     "text": [
      "Accuracy:0.8405455390090193\n",
      "F1 score:0.7677254250697467\n"
     ]
    }
   ],
   "source": [
    "print('Accuracy:{}'.format(evaluator.evaluate(baseline_model, {evaluator.metricName: 'accuracy'})))\n",
    "print('F1 score:{}'.format(evaluator.evaluate(baseline_model, {evaluator.metricName: 'f1'})))"
   ]
  },
  {
   "cell_type": "markdown",
   "metadata": {},
   "source": [
    "We can see that our baseline model performs rather poorly on the test dataset with a F1 score of 0.767725.\n",
    "\n",
    "Let's see if some popular ml algorithms show better performance.\n",
    "\n",
    "We will compare:\n",
    "* Logistic Regression\n",
    "* Random Forest Classifier\n",
    "* Gradient Boostet Tree Classifier"
   ]
  },
  {
   "cell_type": "markdown",
   "metadata": {},
   "source": [
    "##### 1. Logistic Regression"
   ]
  },
  {
   "cell_type": "code",
   "execution_count": 10,
   "metadata": {},
   "outputs": [],
   "source": [
    "gender_indexer = StringIndexer(inputCol = 'gender', outputCol = 'gender_idx')\n",
    "\n",
    "features = ['gender_idx', 'songs_per_day', 'events_per_day', 'thumbs_up', 'thumbs_down', 'add_friend']\n",
    "\n",
    "assembler = VectorAssembler(inputCols= features, outputCol = 'features')\n",
    "\n",
    "NScaler = MinMaxScaler(inputCol = 'features', outputCol = 'scaled_features')"
   ]
  },
  {
   "cell_type": "code",
   "execution_count": 60,
   "metadata": {},
   "outputs": [],
   "source": [
    "lr = LogisticRegression(labelCol = 'label', fitIntercept = False, featuresCol = 'scaled_features', maxIter = 10, regParam=0.3, elasticNetParam = 0.8)"
   ]
  },
  {
   "cell_type": "code",
   "execution_count": 61,
   "metadata": {},
   "outputs": [],
   "source": [
    "pipeline = Pipeline(stages=[gender_indexer, assembler, NScaler, lr])"
   ]
  },
  {
   "cell_type": "code",
   "execution_count": 62,
   "metadata": {},
   "outputs": [],
   "source": [
    "model = pipeline.fit(train)"
   ]
  },
  {
   "cell_type": "code",
   "execution_count": 63,
   "metadata": {},
   "outputs": [],
   "source": [
    "pred_train = model.transform(train)\n",
    "pred_test = model.transform(test)"
   ]
  },
  {
   "cell_type": "code",
   "execution_count": 64,
   "metadata": {},
   "outputs": [],
   "source": [
    "predictionAndLabels_train = pred_train.rdd.map(lambda lp: (float(lp.prediction), float(lp.label)))\n",
    "predictionAndLabels_test = pred_test.rdd.map(lambda lp: (float(lp.prediction), float(lp.label)))"
   ]
  },
  {
   "cell_type": "code",
   "execution_count": 65,
   "metadata": {},
   "outputs": [],
   "source": [
    "metrics_train = MulticlassMetrics(predictionAndLabels_train)\n",
    "metrics_test = MulticlassMetrics(predictionAndLabels_test)"
   ]
  },
  {
   "cell_type": "code",
   "execution_count": 67,
   "metadata": {},
   "outputs": [
    {
     "data": {
      "text/plain": [
       "0.8398973166290015"
      ]
     },
     "execution_count": 67,
     "metadata": {},
     "output_type": "execute_result"
    }
   ],
   "source": [
    "\n",
    "metrics_train.fMeasure()"
   ]
  },
  {
   "cell_type": "code",
   "execution_count": 68,
   "metadata": {},
   "outputs": [
    {
     "data": {
      "text/plain": [
       "0.0"
      ]
     },
     "execution_count": 68,
     "metadata": {},
     "output_type": "execute_result"
    }
   ],
   "source": [
    "metrics_train.falsePositiveRate(1.0)"
   ]
  },
  {
   "cell_type": "code",
   "execution_count": 69,
   "metadata": {},
   "outputs": [
    {
     "name": "stdout",
     "output_type": "stream",
     "text": [
      "Training Time: 247.37 seconds\n",
      "\n",
      "Results for training data:\n",
      "F1 score: 0.8398973166290015\n",
      "\n",
      "Results for test data:\n",
      "F1 score: 0.8405455390090193\n"
     ]
    }
   ],
   "source": [
    "lr_model = model_train_and_summarize(model='lr', train = train, test = test, features = features)"
   ]
  },
  {
   "cell_type": "markdown",
   "metadata": {},
   "source": [
    "#### 2. Random Forest Classifier"
   ]
  },
  {
   "cell_type": "code",
   "execution_count": 77,
   "metadata": {},
   "outputs": [],
   "source": [
    "# initialize random forest classifier\n",
    "\n",
    "rf = RandomForestClassifier(labelCol = 'label', featuresCol = 'features', numTrees = 15)\n",
    "\n",
    "# set up ML Pipeline\n",
    "\n",
    "rf_pipeline = Pipeline(stages=[gender_indexer, assembler, NScaler, rf])"
   ]
  },
  {
   "cell_type": "code",
   "execution_count": 78,
   "metadata": {},
   "outputs": [],
   "source": [
    "model = rf_pipeline.fit(train)"
   ]
  },
  {
   "cell_type": "code",
   "execution_count": 79,
   "metadata": {},
   "outputs": [],
   "source": [
    "pred_train = model.transform(train)\n",
    "pred_test = model.transform(test)"
   ]
  },
  {
   "cell_type": "code",
   "execution_count": 80,
   "metadata": {},
   "outputs": [],
   "source": [
    "predictionAndLabels = pred_train.rdd.map(lambda lp: (float(lp.prediction), float(lp.label)))"
   ]
  },
  {
   "cell_type": "code",
   "execution_count": 81,
   "metadata": {},
   "outputs": [],
   "source": [
    "metrics = MulticlassMetrics(predictionAndLabels)"
   ]
  },
  {
   "cell_type": "code",
   "execution_count": 82,
   "metadata": {},
   "outputs": [
    {
     "data": {
      "text/plain": [
       "0.9293887267700814"
      ]
     },
     "execution_count": 82,
     "metadata": {},
     "output_type": "execute_result"
    }
   ],
   "source": [
    "metrics.fMeasure()"
   ]
  },
  {
   "cell_type": "code",
   "execution_count": 83,
   "metadata": {},
   "outputs": [
    {
     "name": "stdout",
     "output_type": "stream",
     "text": [
      "Training Time: 291.38 seconds\n",
      "\n",
      "Results for training data:\n",
      "F1 score: 0.9293887267700814\n",
      "\n",
      "Results for test data:\n",
      "F1 score: 0.9301422573604817\n"
     ]
    }
   ],
   "source": [
    "rf_model = model_train_and_summarize(model='rf', train = train, test = test, features = features)"
   ]
  },
  {
   "cell_type": "markdown",
   "metadata": {},
   "source": [
    "#### 3. Gradient Boosted Tree Classifier"
   ]
  },
  {
   "cell_type": "code",
   "execution_count": 11,
   "metadata": {},
   "outputs": [],
   "source": [
    "gbt = GBTClassifier(labelCol=\"label\", featuresCol=\"features\", maxIter=7)\n",
    "\n",
    "gbt_pipeline = Pipeline(stages=[gender_indexer, assembler, NScaler, gbt])"
   ]
  },
  {
   "cell_type": "code",
   "execution_count": 85,
   "metadata": {},
   "outputs": [],
   "source": [
    "model = gbt_pipeline.fit(train)\n",
    "\n",
    "pred_train = model.transform(train)\n",
    "pred_test = model.transform(test)"
   ]
  },
  {
   "cell_type": "code",
   "execution_count": 86,
   "metadata": {},
   "outputs": [],
   "source": [
    "predictionAndLabels = pred_train.rdd.map(lambda lp: (float(lp.prediction), float(lp.label)))"
   ]
  },
  {
   "cell_type": "code",
   "execution_count": 87,
   "metadata": {},
   "outputs": [],
   "source": [
    "metrics = MulticlassMetrics(predictionAndLabels)"
   ]
  },
  {
   "cell_type": "code",
   "execution_count": 88,
   "metadata": {},
   "outputs": [
    {
     "data": {
      "text/plain": [
       "0.971613971959541"
      ]
     },
     "execution_count": 88,
     "metadata": {},
     "output_type": "execute_result"
    }
   ],
   "source": [
    "metrics.fMeasure()"
   ]
  },
  {
   "cell_type": "code",
   "execution_count": 12,
   "metadata": {},
   "outputs": [
    {
     "name": "stdout",
     "output_type": "stream",
     "text": [
      "Training Time: 404.77 seconds\n",
      "\n",
      "Results for training data:\n",
      "F1 score: 0.9703359150448692\n",
      "\n",
      "Results for test data:\n",
      "F1 score: 0.9707421399083171\n"
     ]
    }
   ],
   "source": [
    "gbt_model = model_train_and_summarize(model='gbt', train = train, test = test, features = features)"
   ]
  },
  {
   "cell_type": "markdown",
   "metadata": {},
   "source": []
  },
  {
   "cell_type": "code",
   "execution_count": 90,
   "metadata": {},
   "outputs": [
    {
     "name": "stdout",
     "output_type": "stream",
     "text": [
      "\n",
      "Results for validation data:\n",
      "F1 score: 0.9712504056341487\n"
     ]
    }
   ],
   "source": [
    "pred_valid = model.transform(valid)\n",
    "predictionAndLabels_valid = pred_valid.rdd.map(lambda lp: (float(lp.prediction), float(lp.label)))\n",
    "     \n",
    "#calculate metrics    \n",
    "metrics_valid = MulticlassMetrics(predictionAndLabels_valid)\n",
    "print('\\nResults for validation data:')\n",
    "print('F1 score: {}'.format(metrics_valid.fMeasure()))"
   ]
  },
  {
   "cell_type": "markdown",
   "metadata": {},
   "source": [
    "Gradient Boosted Tree Classifier seems most promising with a F1 score of 0.971250 on the test data set"
   ]
  },
  {
   "cell_type": "markdown",
   "metadata": {},
   "source": [
    "We can see, that both Random Forest Classifier and Gradient Boosted Tree Classifier perform pretty good on the test dataset. Logistig regression performed not so well.\n",
    "\n",
    "As next step we will try to improve the best performing model (GBT Classifier)."
   ]
  },
  {
   "cell_type": "markdown",
   "metadata": {},
   "source": [
    "#### Improvement"
   ]
  },
  {
   "cell_type": "markdown",
   "metadata": {},
   "source": [
    "To fine tune our gbt Classifier, we use grid search.\n",
    "We will tune the two parameters: maxDepth and maxIter."
   ]
  },
  {
   "cell_type": "code",
   "execution_count": 48,
   "metadata": {},
   "outputs": [],
   "source": [
    "# build paramGrid\n",
    "paramGrid_gbt = ParamGridBuilder() \\\n",
    "    .addGrid(gbt.maxDepth,[4, 8, 12]) \\\n",
    "    .addGrid(gbt.maxIter, [8, 12, 16]) \\\n",
    "    .build()\n"
   ]
  },
  {
   "cell_type": "code",
   "execution_count": 49,
   "metadata": {},
   "outputs": [],
   "source": [
    "# set evaluator\n",
    "f1_eval = MulticlassClassificationEvaluator(metricName='f1')"
   ]
  },
  {
   "cell_type": "code",
   "execution_count": 50,
   "metadata": {},
   "outputs": [],
   "source": [
    "# set cross validation\n",
    "crossval_gbt = CrossValidator(estimator=gbt_pipeline,\n",
    "                          estimatorParamMaps=paramGrid_gbt,\n",
    "                          evaluator=f1_eval,\n",
    "                          numFolds=3)"
   ]
  },
  {
   "cell_type": "code",
   "execution_count": 51,
   "metadata": {},
   "outputs": [
    {
     "data": {
      "text/plain": [
       "[0.9455281478269891,\n",
       " 0.9627898963268051,\n",
       " 0.9759602209058327,\n",
       " 0.9971138366957311,\n",
       " 0.9973902920637758,\n",
       " 0.9978003759605556,\n",
       " 0.9980259960090503,\n",
       " 0.9981640668914793,\n",
       " 0.9986424245420333]"
      ]
     },
     "execution_count": 51,
     "metadata": {},
     "output_type": "execute_result"
    }
   ],
   "source": [
    "# train model\n",
    "gbt_cv = crossval_gbt.fit(train)\n",
    "gbt_cv.avgMetrics"
   ]
  },
  {
   "cell_type": "code",
   "execution_count": 77,
   "metadata": {},
   "outputs": [
    {
     "data": {
      "text/plain": [
       "PipelineModel_c6d34f0cef2b"
      ]
     },
     "execution_count": 77,
     "metadata": {},
     "output_type": "execute_result"
    }
   ],
   "source": [
    "gbt_cv.bestModel"
   ]
  },
  {
   "cell_type": "code",
   "execution_count": null,
   "metadata": {},
   "outputs": [],
   "source": [
    "# Results for test data"
   ]
  },
  {
   "cell_type": "code",
   "execution_count": 97,
   "metadata": {},
   "outputs": [],
   "source": [
    "cv_prediction = gbt_cv.transform(test)\n",
    "\n",
    "predictionAndLabels = cv_prediction.rdd.map(lambda lp: (float(lp.prediction), float(lp.label)))\n",
    "\n",
    "metrics = MulticlassMetrics(predictionAndLabels)"
   ]
  },
  {
   "cell_type": "code",
   "execution_count": 84,
   "metadata": {},
   "outputs": [],
   "source": [
    "predictionAndLabels = cv_prediction.rdd.map(lambda lp: (float(lp.prediction), float(lp.label)))"
   ]
  },
  {
   "cell_type": "code",
   "execution_count": 85,
   "metadata": {},
   "outputs": [],
   "source": [
    "metrics = MulticlassMetrics(predictionAndLabels)"
   ]
  },
  {
   "cell_type": "code",
   "execution_count": 86,
   "metadata": {},
   "outputs": [
    {
     "data": {
      "text/plain": [
       "0.998658941703407"
      ]
     },
     "execution_count": 86,
     "metadata": {},
     "output_type": "execute_result"
    }
   ],
   "source": [
    "metrics.fMeasure()"
   ]
  },
  {
   "cell_type": "code",
   "execution_count": 95,
   "metadata": {},
   "outputs": [
    {
     "name": "stdout",
     "output_type": "stream",
     "text": [
      "\n",
      "Results for test data:\n",
      "F1 score: 0.998658941703407\n"
     ]
    }
   ],
   "source": [
    "print('\\nResults for test data:')\n",
    "print('F1 score: {}'.format(metrics.fMeasure()))"
   ]
  },
  {
   "cell_type": "code",
   "execution_count": 87,
   "metadata": {},
   "outputs": [
    {
     "data": {
      "text/plain": [
       "0.998658941703407"
      ]
     },
     "execution_count": 87,
     "metadata": {},
     "output_type": "execute_result"
    }
   ],
   "source": [
    "metrics.precision()"
   ]
  },
  {
   "cell_type": "code",
   "execution_count": 88,
   "metadata": {},
   "outputs": [
    {
     "data": {
      "text/plain": [
       "0.998658941703407"
      ]
     },
     "execution_count": 88,
     "metadata": {},
     "output_type": "execute_result"
    }
   ],
   "source": [
    "metrics.recall()"
   ]
  },
  {
   "cell_type": "code",
   "execution_count": null,
   "metadata": {},
   "outputs": [],
   "source": [
    "# Results for validation data"
   ]
  },
  {
   "cell_type": "code",
   "execution_count": 98,
   "metadata": {},
   "outputs": [],
   "source": [
    "cv_prediction_valid = gbt_cv.transform(valid)\n",
    "\n",
    "predictionAndLabels_valid = cv_prediction_valid.rdd.map(lambda lp: (float(lp.prediction), float(lp.label)))\n",
    "\n",
    "metrics_valid = MulticlassMetrics(predictionAndLabels_valid)"
   ]
  },
  {
   "cell_type": "code",
   "execution_count": 92,
   "metadata": {},
   "outputs": [],
   "source": [
    "predictionAndLabels_valid = cv_prediction_valid.rdd.map(lambda lp: (float(lp.prediction), float(lp.label)))"
   ]
  },
  {
   "cell_type": "code",
   "execution_count": 93,
   "metadata": {},
   "outputs": [],
   "source": [
    "metrics_valid = MulticlassMetrics(predictionAndLabels_valid)"
   ]
  },
  {
   "cell_type": "code",
   "execution_count": 94,
   "metadata": {},
   "outputs": [
    {
     "data": {
      "text/plain": [
       "0.9985879546391391"
      ]
     },
     "execution_count": 94,
     "metadata": {},
     "output_type": "execute_result"
    }
   ],
   "source": [
    "metrics_valid.fMeasure()"
   ]
  },
  {
   "cell_type": "code",
   "execution_count": 106,
   "metadata": {},
   "outputs": [
    {
     "data": {
      "text/plain": [
       "0.9985879546391391"
      ]
     },
     "execution_count": 106,
     "metadata": {},
     "output_type": "execute_result"
    }
   ],
   "source": [
    "metrics_valid.precision()"
   ]
  },
  {
   "cell_type": "code",
   "execution_count": 105,
   "metadata": {},
   "outputs": [
    {
     "data": {
      "text/plain": [
       "0.9985879546391391"
      ]
     },
     "execution_count": 105,
     "metadata": {},
     "output_type": "execute_result"
    }
   ],
   "source": [
    "metrics_valid.recall()"
   ]
  },
  {
   "cell_type": "code",
   "execution_count": 96,
   "metadata": {},
   "outputs": [
    {
     "name": "stdout",
     "output_type": "stream",
     "text": [
      "\n",
      "Results for validation data:\n",
      "F1 score: 0.9985879546391391\n"
     ]
    }
   ],
   "source": [
    "print('\\nResults for validation data:')\n",
    "print('F1 score: {}'.format(metrics_valid.fMeasure()))"
   ]
  },
  {
   "cell_type": "markdown",
   "metadata": {},
   "source": [
    "# Conclusion\n",
    "\n",
    "### Summaray"
   ]
  },
  {
   "cell_type": "markdown",
   "metadata": {},
   "source": [
    "In this project, we implemented a suitable model trying to predict customer churn for a fictive music streaming platform.\n",
    "\n",
    "First, we cleaned the dataset by removing data points with missing data, like missing userId. Next we converted the dataset to make it processable for ml algorithms. We did this in part by converting the timestamp and calculate new features based on the sessionId. We defined 14 features for our model. For validation purpuses, we set up a baseline model, containing only no churns as predictons. Later we analyzed three different models: logistic regression, random forest classifier and gradient boosted tree classifier. Based on performance on f1 score, we selected the GBT Classifier model as final model.\n",
    "Ae next step we fine tuned our final model using grid search and cross validation. In the final version of the model we achieved  0.998588 F1 score.\n",
    "Compared to out baseline model with a F1 score of 0.767725 we could drastically improve the results by applying ml approaches."
   ]
  },
  {
   "cell_type": "markdown",
   "metadata": {},
   "source": [
    "### Reflection\n",
    "\n",
    "This project is a great way to get started in the spark environment to analyze big data.\n",
    "A particular difficulty with this project is that the data is distributed very unevenly. The percentage of churned users is very low, which in combination with the small data set (128 MB) creates difficulties in the training data."
   ]
  },
  {
   "cell_type": "markdown",
   "metadata": {},
   "source": [
    "### Improvements"
   ]
  },
  {
   "cell_type": "markdown",
   "metadata": {},
   "source": [
    "A very obvious way to improve this analysis is to use a much larger data set.\n",
    "\n",
    "The small data set offers a good basis for initializing the data processing and the ml pipelines. But the algorithms quickly reach their limits here. Our models would have a huge potential to improve if the sample size increases. This would also lower the risk of overfitting the models on a small subset. \n",
    "\n",
    "In a next step, however, the entire data set should be analyzed. One possibility is to set up an AWS cluster or other cloud services to process the entire data set available.\n",
    "\n",
    "Additionally the labels should be weighted before training, in order to manage the problem of the unbalanced dataset."
   ]
  },
  {
   "cell_type": "markdown",
   "metadata": {},
   "source": [
    "* A blogpost and summary of the results of this analysis can be found on https://medium.com/@markus.grueneis/predicting-churns-of-app-users-a-case-study-using-pyspark-on-big-data-from-udacity-b53e1ac4c8d1"
   ]
  },
  {
   "cell_type": "markdown",
   "metadata": {},
   "source": [
    "# Final Steps\n",
    "Clean up your code, adding comments and renaming variables to make the code easier to read and maintain. Refer to the Spark Project Overview page and Data Scientist Capstone Project Rubric to make sure you are including all components of the capstone project and meet all expectations. Remember, this includes thorough documentation in a README file in a Github repository, as well as a web app or blog post."
   ]
  },
  {
   "cell_type": "code",
   "execution_count": null,
   "metadata": {},
   "outputs": [],
   "source": []
  }
 ],
 "metadata": {
  "kernelspec": {
   "display_name": "Python 3",
   "language": "python",
   "name": "python3"
  },
  "language_info": {
   "codemirror_mode": {
    "name": "ipython",
    "version": 3
   },
   "file_extension": ".py",
   "mimetype": "text/x-python",
   "name": "python",
   "nbconvert_exporter": "python",
   "pygments_lexer": "ipython3",
   "version": "3.6.3"
  }
 },
 "nbformat": 4,
 "nbformat_minor": 2
}
